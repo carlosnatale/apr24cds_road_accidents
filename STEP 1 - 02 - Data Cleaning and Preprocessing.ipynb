{
 "cells": [
  {
   "cell_type": "code",
   "execution_count": null,
   "id": "6159ef34-0d25-462e-bac0-bf5e5fba22f7",
   "metadata": {},
   "outputs": [],
   "source": [
    "import os\n",
    "import numpy as np\n",
    "import pandas as pd\n",
    "from datetime import datetime"
   ]
  },
  {
   "cell_type": "code",
   "execution_count": null,
   "id": "ec5b68d4-59f5-4f9f-89d7-15f92235fae3",
   "metadata": {},
   "outputs": [],
   "source": [
    "# Function to load and process files based on the given conditions\n",
    "def process_files(file_list, column_order, rename_dict, drop_column=None):\n",
    "    dfs = []\n",
    "    for file in file_list:\n",
    "        df = pd.read_csv(file, delimiter=';', on_bad_lines='skip', dtype=str)\n",
    "        if \"Accident_Id\" in df.columns:\n",
    "            df.rename(columns={\"Accident_Id\": \"Num_Acc\"}, inplace=True)\n",
    "        if drop_column and drop_column in df.columns:\n",
    "            df.drop(columns=[drop_column], inplace=True)\n",
    "        df = df.reindex(columns=column_order)\n",
    "        dfs.append(df)\n",
    "    combined_df = pd.concat(dfs, ignore_index=True)\n",
    "    combined_df.rename(columns=rename_dict, inplace=True)\n",
    "    return combined_df"
   ]
  },
  {
   "cell_type": "code",
   "execution_count": null,
   "id": "ab8529d4-9fb5-40a1-84a1-704da7aee0bd",
   "metadata": {},
   "outputs": [],
   "source": [
    "# Define file paths\n",
    "source_folder = \"source/\"\n",
    "caracteristiques_files = [os.path.join(source_folder, f) for f in os.listdir(source_folder) if f.startswith(\"caracteristiques\")]\n",
    "lieux_files = [os.path.join(source_folder, f) for f in os.listdir(source_folder) if f.startswith(\"lieux\")]\n",
    "usagers_files = [os.path.join(source_folder, f) for f in os.listdir(source_folder) if f.startswith(\"usagers\")]\n",
    "vehicules_files = [os.path.join(source_folder, f) for f in os.listdir(source_folder) if f.startswith(\"vehicules\")]"
   ]
  },
  {
   "cell_type": "code",
   "execution_count": null,
   "id": "c907a9d7-90b5-4773-8c70-fb72716f204e",
   "metadata": {},
   "outputs": [],
   "source": [
    "# Define column orders and rename dictionaries\n",
    "caracteristiques_columns = [\"Num_Acc\", \"jour\", \"mois\", \"an\", \"hrmn\", \"lum\", \"dep\", \"com\", \"agg\", \"int\", \"atm\", \"col\", \"adr\", \"lat\", \"long\"]\n",
    "caracteristiques_rename = {\"Num_Acc\": \"AccID\", \"jour\": \"day\", \"mois\": \"month\", \"an\": \"year\", \"hrmn\": \"time\", \"lum\": \"lum\", \n",
    "                           \"dep\": \"dep_code\", \"com\": \"com_code\", \"agg\": \"location\", \"int\": \"int\", \"atm\": \"atm_condition\", \n",
    "                           \"col\": \"collision_type\", \"adr\": \"address\", \"lat\": \"lat\", \"long\": \"long\"}\n",
    "\n",
    "lieux_columns = [\"Num_Acc\", \"catr\", \"voie\", \"v1\", \"v2\", \"circ\", \"nbv\", \"vosp\", \"prof\", \"pr\", \"pr1\", \"plan\", \"lartpc\", \n",
    "                 \"larrout\", \"surf\", \"infra\", \"situ\", \"vma\"]\n",
    "lieux_rename = {\"Num_Acc\": \"AccID\", \"catr\": \"route_category\", \"voie\": \"route_number\", \"v1\": \"route_number_index1\", \n",
    "                \"v2\": \"alph_route_index\", \"circ\": \"traffic_regime\", \"nbv\": \"total_number_lanes\", \"vosp\": \"reserved_lane_code\", \n",
    "                \"prof\": \"longitudinal_profile\", \"pr\": \"upstream_terminal_number\", \"pr1\": \"distance_upstream_terminal\", \n",
    "                \"plan\": \"plan\", \"lartpc\": \"width_central_reservation\", \"larrout\": \"width_roadway\", \"surf\": \"surface_condition\", \n",
    "                \"infra\": \"infra\", \"situ\": \"accident_situation\", \"vma\": \"maximum_speed\"}\n",
    "\n",
    "usagers_columns = [\"Num_Acc\", \"id_vehicule\", \"num_veh\", \"place\", \"catu\", \"grav\", \"sexe\", \"an_nais\", \"trajet\", \"secu1\", \n",
    "                   \"secu2\", \"secu3\", \"locp\", \"actp\", \"etatp\"]\n",
    "usagers_rename = {\"Num_Acc\": \"AccID\", \"id_vehicule\": \"vehicleID\", \"num_veh\": \"num_veh\", \"place\": \"seat\", \"catu\": \"user_category\", \n",
    "                  \"grav\": \"gravity\", \"sexe\": \"gender\", \"an_nais\": \"birth_year\", \"trajet\": \"reason_travel\", \"secu1\": \"safety_equipment1\", \n",
    "                  \"secu2\": \"safety_equipment2\", \"secu3\": \"safety_equipment3\", \"locp\": \"pedestrian_location\", \"actp\": \"pedestrian_action\", \n",
    "                  \"etatp\": \"pedestrian_involved\"}\n",
    "\n",
    "vehicules_columns = [\"Num_Acc\", \"id_vehicule\", \"num_veh\", \"senc\", \"catv\", \"obs\", \"obsm\", \"choc\", \"manv\", \"motor\", \"occutc\"]\n",
    "vehicules_rename = {\"Num_Acc\": \"AccID\", \"id_vehicule\": \"vehicleID\", \"num_veh\": \"num_veh\", \"senc\": \"traffic_direction\", \n",
    "                    \"catv\": \"vehicle_category\", \"obs\": \"fixed_obstacle\", \"obsm\": \"mobile_obstacle\", \"choc\": \"initial_impact_point\", \n",
    "                    \"manv\": \"manv\", \"motor\": \"motor\", \"occutc\": \"number_occupants_publictransport\"}"
   ]
  },
  {
   "cell_type": "code",
   "execution_count": null,
   "id": "9783ede6-1892-4eaf-8768-9e523b5893e5",
   "metadata": {},
   "outputs": [],
   "source": [
    "# Process each group of files\n",
    "characteristics = process_files(caracteristiques_files, caracteristiques_columns, caracteristiques_rename)\n",
    "locations = process_files(lieux_files, lieux_columns, lieux_rename)\n",
    "users = process_files(usagers_files, usagers_columns, usagers_rename, drop_column=\"id_usager\")\n",
    "vehicles = process_files(vehicules_files, vehicules_columns, vehicules_rename)"
   ]
  },
  {
   "cell_type": "code",
   "execution_count": null,
   "id": "ff2a46ff-c2e2-468c-be7d-371c1e1b1b49",
   "metadata": {},
   "outputs": [],
   "source": [
    "# Convert 'lat' and 'long' fields to float in the 'characteristics' dataframe\n",
    "characteristics['lat'] = characteristics['lat'].str.replace(',', '.').astype(float)\n",
    "characteristics['long'] = characteristics['long'].str.replace(',', '.').astype(float)"
   ]
  },
  {
   "cell_type": "code",
   "execution_count": null,
   "id": "8c5c70d8-7695-4bd4-ba27-5b05c0ac9e77",
   "metadata": {},
   "outputs": [],
   "source": [
    "# Convert 'time' field to proper time format in the 'characteristics' dataframe\n",
    "characteristics['time'] = pd.to_datetime(characteristics['time'], format='%H:%M').dt.time"
   ]
  },
  {
   "cell_type": "code",
   "execution_count": null,
   "id": "84c12752-03ed-42b8-82ca-effa55b8cf61",
   "metadata": {},
   "outputs": [],
   "source": [
    "# Convert 'day', 'month', and 'year' fields to integer in the 'characteristics' dataframe\n",
    "characteristics['day'] = pd.to_numeric(characteristics['day'], errors='coerce').astype(pd.Int32Dtype())\n",
    "characteristics['month'] = pd.to_numeric(characteristics['month'], errors='coerce').astype(pd.Int32Dtype())\n",
    "characteristics['year'] = pd.to_numeric(characteristics['year'], errors='coerce').astype(pd.Int32Dtype())"
   ]
  },
  {
   "cell_type": "code",
   "execution_count": null,
   "id": "2b348fe4-93cc-431f-9a49-afbb51eed4e3",
   "metadata": {},
   "outputs": [],
   "source": [
    "# Replace invalid literals with NaN and convert specified columns in 'locations' dataframe\n",
    "locations['total_number_lanes'] = pd.to_numeric(locations['total_number_lanes'].replace('#ERREUR', np.nan), errors='coerce').astype(pd.Int32Dtype())\n",
    "locations['distance_upstream_terminal'] = pd.to_numeric(locations['distance_upstream_terminal'].str.replace(',', '.').replace('#ERREUR', np.nan), errors='coerce')\n",
    "locations['width_central_reservation'] = pd.to_numeric(locations['width_central_reservation'].str.replace(',', '.').replace('#ERREUR', np.nan), errors='coerce')\n",
    "locations['width_roadway'] = pd.to_numeric(locations['width_roadway'].str.replace(',', '.').replace('#ERREUR', np.nan), errors='coerce')\n",
    "locations['maximum_speed'] = pd.to_numeric(locations['maximum_speed'].replace('#ERREUR', np.nan), errors='coerce').astype(pd.Int32Dtype())"
   ]
  },
  {
   "cell_type": "code",
   "execution_count": null,
   "id": "96c34564-a996-448e-9901-bb0e1f51bc36",
   "metadata": {},
   "outputs": [],
   "source": [
    "# Replace invalid literals with NaN and convert specified columns in 'users' dataframe\n",
    "users['birth_year'] = users['birth_year'].replace('#ERREUR', np.nan)\n",
    "users['birth_year'] = pd.to_numeric(users['birth_year'], errors='coerce')\n",
    "average_birth_year = int(users['birth_year'].mean())\n",
    "users['birth_year'] = users['birth_year'].fillna(average_birth_year).astype(int)\n",
    "\n",
    "#Calculate 'age'\n",
    "current_year = datetime.now().year\n",
    "users['age'] = current_year - users['birth_year']"
   ]
  },
  {
   "cell_type": "code",
   "execution_count": null,
   "id": "dc17db6b-798b-4b07-aa83-ad9cb92c8e88",
   "metadata": {},
   "outputs": [],
   "source": [
    "# Convert 'number_occupants_publictransport' field to integer in the 'vehicles' dataframe\n",
    "vehicles['number_occupants_publictransport'] = pd.to_numeric(\n",
    "    vehicles['number_occupants_publictransport'].replace('#ERREUR', np.nan), errors='coerce').astype(pd.Int32Dtype())"
   ]
  },
  {
   "cell_type": "code",
   "execution_count": null,
   "id": "f117c390-f90f-4cef-ace5-43b8e78f11a5",
   "metadata": {},
   "outputs": [],
   "source": [
    "# Drop fields with a large number of missing values and exclude outliers\n",
    "characteristics = characteristics.drop(['address'], axis=1)\n",
    "vehicles = vehicles.drop(['number_occupants_publictransport'], axis=1)\n",
    "locations = locations.drop(['alph_route_index', 'distance_upstream_terminal', 'width_central_reservation', 'width_roadway', 'route_number', 'route_number_index1'], axis=1)\n",
    "#users = users.drop(['safety_equipment2', 'safety_equipment3', 'pedestrian_location', 'pedestrian_action', 'pedestrian_involved'], axis=1)\n",
    "\n",
    "users = users[users['gender'] != ' -1']\n",
    "users = users[users['gravity'] != ' -1']\n",
    "users = users[users['birth_year'] > 1930]\n",
    "users = users[users['reason_travel'] != ' -1']\n",
    "users = users[users['safety_equipment1'] != ' -1']\n",
    "users = users[~((users['gravity'] == '4 - Slightly injured') & (users['age'] >= 89))]\n",
    "\n",
    "characteristics = characteristics[characteristics['lum'] != ' -1']\n",
    "characteristics = characteristics[characteristics['atm_condition'] != ' -1']\n",
    "characteristics = characteristics[characteristics['collision_type'] != ' -1']\n",
    "\n",
    "locations = locations[locations['plan'] != ' -1']\n",
    "locations = locations[locations['infra'] != ' -1']\n",
    "locations = locations[locations['surface_condition'] != ' -1']\n",
    "locations = locations[locations['accident_situation'] != ' -1']\n",
    "locations = locations[locations['longitudinal_profile'] != ' -1']\n",
    "locations = locations[(locations['maximum_speed'] >= 6) & (locations['maximum_speed'] <= 120)]\n",
    "\n",
    "vehicles = vehicles[vehicles['motor'] != ' -1']\n",
    "vehicles = vehicles[vehicles['manv'] != ' -1']\n",
    "vehicles = vehicles[vehicles['fixed_obstacle'] != ' -1']\n",
    "vehicles = vehicles[vehicles['mobile_obstacle'] != ' -1']\n",
    "vehicles = vehicles[vehicles['vehicle_category'] != ' -1']\n",
    "vehicles = vehicles[vehicles['traffic_direction'] != ' -1']\n",
    "vehicles = vehicles[vehicles['initial_impact_point'] != ' -1']\n"
   ]
  },
  {
   "cell_type": "markdown",
   "id": "581b10a7-0a22-49f2-9883-e95e2de9abce",
   "metadata": {},
   "source": [
    "<font size=\"6\">  \n",
    "    Merge Dataframes\n",
    "</font> "
   ]
  },
  {
   "cell_type": "code",
   "execution_count": null,
   "id": "2ec2d28b-130b-4211-a237-e8b97359f06b",
   "metadata": {},
   "outputs": [],
   "source": [
    "# Merge dataframes on AccID\n",
    "data = characteristics.merge(locations, on='AccID').merge(users, on='AccID').merge(vehicles, on='AccID')"
   ]
  },
  {
   "cell_type": "code",
   "execution_count": null,
   "id": "69c89010-cbd5-4721-b460-53d5e5a83e6e",
   "metadata": {},
   "outputs": [],
   "source": [
    "# Delete duplicate rows\n",
    "data = data.drop_duplicates()"
   ]
  },
  {
   "cell_type": "markdown",
   "id": "9a402966-2ed2-4099-b971-4c4918b6671c",
   "metadata": {},
   "source": [
    "<font size=\"6\">  \n",
    "    Export Dataframes\n",
    "</font>  "
   ]
  },
  {
   "cell_type": "code",
   "execution_count": null,
   "id": "52c1fe97-f5de-4524-a05e-c4d5033b2c9f",
   "metadata": {},
   "outputs": [],
   "source": [
    "data.to_csv('data.csv', index=False)"
   ]
  },
  {
   "cell_type": "code",
   "execution_count": null,
   "id": "cbd3147a-9b70-420e-a1fa-043c78792c2a",
   "metadata": {},
   "outputs": [],
   "source": []
  }
 ],
 "metadata": {
  "kernelspec": {
   "display_name": "Python 3 (ipykernel)",
   "language": "python",
   "name": "python3"
  },
  "language_info": {
   "codemirror_mode": {
    "name": "ipython",
    "version": 3
   },
   "file_extension": ".py",
   "mimetype": "text/x-python",
   "name": "python",
   "nbconvert_exporter": "python",
   "pygments_lexer": "ipython3",
   "version": "3.11.7"
  }
 },
 "nbformat": 4,
 "nbformat_minor": 5
}
