{
 "cells": [
  {
   "cell_type": "code",
   "execution_count": 1,
   "id": "2ac57e56-9eee-4b53-934d-4d3b9709233d",
   "metadata": {},
   "outputs": [],
   "source": [
    "# Import the necessary packages\n",
    "import pandas as pd\n",
    "from imblearn.over_sampling import SMOTE\n",
    "from sklearn.ensemble import RandomForestClassifier\n",
    "from sklearn.model_selection import train_test_split\n",
    "from sklearn.metrics import classification_report\n",
    "from sklearn.preprocessing import LabelEncoder\n",
    "from sklearn.model_selection import GridSearchCV\n",
    "from sklearn.preprocessing import StandardScaler, LabelEncoder\n",
    "import warnings"
   ]
  },
  {
   "cell_type": "code",
   "execution_count": 2,
   "id": "6754f4cc-2abb-4cd2-b31f-b4437886925a",
   "metadata": {},
   "outputs": [],
   "source": [
    "# Suppress specific future warnings\n",
    "warnings.filterwarnings(\"ignore\", category=FutureWarning, module=\"SMOTE\")\n",
    "warnings.filterwarnings(\"ignore\", category=FutureWarning, module=\"pandas\")\n",
    "warnings.filterwarnings(\"ignore\", category=FutureWarning, module=\"GridSearchCV\")\n",
    "warnings.filterwarnings(\"ignore\", category=FutureWarning, module=\"train_test_split\")"
   ]
  },
  {
   "cell_type": "code",
   "execution_count": 3,
   "id": "06440db9-f792-4057-bb2d-c18b0f824a65",
   "metadata": {},
   "outputs": [],
   "source": [
    "# Import the clean data\n",
    "data = pd.read_csv('source/data.csv', low_memory=False)"
   ]
  },
  {
   "cell_type": "code",
   "execution_count": 4,
   "id": "e3238c85-288d-4108-803b-dc63c22fd010",
   "metadata": {},
   "outputs": [],
   "source": [
    "# Copy of the original dataset for feature engineering and preprocessing\n",
    "data_processed = data.copy()"
   ]
  },
  {
   "cell_type": "code",
   "execution_count": 5,
   "id": "96cbb26a-375c-4f39-9320-802477e1cae5",
   "metadata": {},
   "outputs": [],
   "source": [
    "# Feature Engineering: Create new time-based features\n",
    "#data_processed['hour'] = data_processed['time'] // 1000000\n",
    "#data_processed['day_of_week'] = pd.to_datetime(data_processed[['year', 'month', 'day']]).dt.dayofweek"
   ]
  },
  {
   "cell_type": "code",
   "execution_count": 6,
   "id": "e89b8a5c-8ac8-40f6-9bfb-e02a2f023958",
   "metadata": {},
   "outputs": [],
   "source": [
    "#data_processed = data_processed.drop(['year', 'month', 'day','AccID','birth_year','vehicleID','num_veh','time'], axis=1)"
   ]
  },
  {
   "cell_type": "code",
   "execution_count": 7,
   "id": "6d8350e3-e53b-4a50-99ff-95728ebd7bd5",
   "metadata": {},
   "outputs": [],
   "source": [
    "data_processed = data_processed.drop(['AccID','birth_year','vehicleID','num_veh'], axis=1)"
   ]
  },
  {
   "cell_type": "code",
   "execution_count": 8,
   "id": "9b479d35-9597-4d49-afc2-147e9d963266",
   "metadata": {},
   "outputs": [],
   "source": [
    "data_processed['time'] = data_processed['time'].astype('float64')\n",
    "data_processed['day'] = data_processed['day'].astype('float64')\n",
    "data_processed['month'] = data_processed['month'].astype('float64')\n",
    "data_processed['year'] = data_processed['year'].astype('float64')"
   ]
  },
  {
   "cell_type": "code",
   "execution_count": 9,
   "id": "297792fe-e7a8-4a2f-80fd-ec51f42061bc",
   "metadata": {},
   "outputs": [
    {
     "name": "stdout",
     "output_type": "stream",
     "text": [
      "<class 'pandas.core.frame.DataFrame'>\n",
      "RangeIndex: 447670 entries, 0 to 447669\n",
      "Data columns (total 35 columns):\n",
      " #   Column                      Non-Null Count   Dtype  \n",
      "---  ------                      --------------   -----  \n",
      " 0   day                         447670 non-null  float64\n",
      " 1   month                       447670 non-null  float64\n",
      " 2   year                        447670 non-null  float64\n",
      " 3   time                        447670 non-null  float64\n",
      " 4   lum                         447670 non-null  int64  \n",
      " 5   atm_condition               447670 non-null  int64  \n",
      " 6   collision_type              447670 non-null  int64  \n",
      " 7   lat                         447670 non-null  float64\n",
      " 8   long                        447670 non-null  float64\n",
      " 9   route_category              447670 non-null  int64  \n",
      " 10  traffic_regime              447670 non-null  int64  \n",
      " 11  total_number_lanes          447670 non-null  int64  \n",
      " 12  reserved_lane_code          447670 non-null  int64  \n",
      " 13  longitudinal_profile        447670 non-null  int64  \n",
      " 14  upstream_terminal_number    447670 non-null  float64\n",
      " 15  distance_upstream_terminal  447670 non-null  float64\n",
      " 16  plan                        447670 non-null  int64  \n",
      " 17  surface_condition           447670 non-null  int64  \n",
      " 18  infra                       447670 non-null  int64  \n",
      " 19  accident_situation          447670 non-null  int64  \n",
      " 20  maximum_speed               447670 non-null  int64  \n",
      " 21  traffic_direction           447670 non-null  int64  \n",
      " 22  vehicle_category            447670 non-null  int64  \n",
      " 23  fixed_obstacle              447670 non-null  int64  \n",
      " 24  mobile_obstacle             447670 non-null  int64  \n",
      " 25  initial_impact_point        447670 non-null  int64  \n",
      " 26  manv                        447670 non-null  int64  \n",
      " 27  motor                       447670 non-null  int64  \n",
      " 28  seat                        447670 non-null  int64  \n",
      " 29  user_category               447670 non-null  int64  \n",
      " 30  gravity                     447670 non-null  int64  \n",
      " 31  gender                      447670 non-null  int64  \n",
      " 32  reason_travel               447670 non-null  int64  \n",
      " 33  safety_equipment1           447670 non-null  int64  \n",
      " 34  age                         447670 non-null  float64\n",
      "dtypes: float64(9), int64(26)\n",
      "memory usage: 119.5 MB\n"
     ]
    }
   ],
   "source": [
    "data_processed.info()"
   ]
  },
  {
   "cell_type": "code",
   "execution_count": 10,
   "id": "b680f70f-6bad-4efd-9be5-2db216b2e092",
   "metadata": {},
   "outputs": [],
   "source": [
    "# Normalization/Standardization: Normalize or standardize numerical features\n",
    "numerical_columns = data_processed.select_dtypes(include=['float64']).columns\n",
    "\n",
    "scaler = StandardScaler()\n",
    "data_processed[numerical_columns] = scaler.fit_transform(data_processed[numerical_columns])"
   ]
  },
  {
   "cell_type": "code",
   "execution_count": 11,
   "id": "4ce35a1a-4ed5-4675-ad72-533049260e16",
   "metadata": {},
   "outputs": [
    {
     "data": {
      "text/html": [
       "<div>\n",
       "<style scoped>\n",
       "    .dataframe tbody tr th:only-of-type {\n",
       "        vertical-align: middle;\n",
       "    }\n",
       "\n",
       "    .dataframe tbody tr th {\n",
       "        vertical-align: top;\n",
       "    }\n",
       "\n",
       "    .dataframe thead th {\n",
       "        text-align: right;\n",
       "    }\n",
       "</style>\n",
       "<table border=\"1\" class=\"dataframe\">\n",
       "  <thead>\n",
       "    <tr style=\"text-align: right;\">\n",
       "      <th></th>\n",
       "      <th>day</th>\n",
       "      <th>month</th>\n",
       "      <th>year</th>\n",
       "      <th>time</th>\n",
       "      <th>lum</th>\n",
       "      <th>atm_condition</th>\n",
       "      <th>collision_type</th>\n",
       "      <th>lat</th>\n",
       "      <th>long</th>\n",
       "      <th>route_category</th>\n",
       "      <th>...</th>\n",
       "      <th>initial_impact_point</th>\n",
       "      <th>manv</th>\n",
       "      <th>motor</th>\n",
       "      <th>seat</th>\n",
       "      <th>user_category</th>\n",
       "      <th>gravity</th>\n",
       "      <th>gender</th>\n",
       "      <th>reason_travel</th>\n",
       "      <th>safety_equipment1</th>\n",
       "      <th>age</th>\n",
       "    </tr>\n",
       "  </thead>\n",
       "  <tbody>\n",
       "    <tr>\n",
       "      <th>0</th>\n",
       "      <td>1.635754</td>\n",
       "      <td>1.273089</td>\n",
       "      <td>-1.318561</td>\n",
       "      <td>-2.331127</td>\n",
       "      <td>4</td>\n",
       "      <td>1</td>\n",
       "      <td>2</td>\n",
       "      <td>0.805698</td>\n",
       "      <td>-0.063104</td>\n",
       "      <td>1</td>\n",
       "      <td>...</td>\n",
       "      <td>5</td>\n",
       "      <td>23</td>\n",
       "      <td>1</td>\n",
       "      <td>2</td>\n",
       "      <td>2</td>\n",
       "      <td>4</td>\n",
       "      <td>2</td>\n",
       "      <td>0</td>\n",
       "      <td>1</td>\n",
       "      <td>-1.141512</td>\n",
       "    </tr>\n",
       "    <tr>\n",
       "      <th>1</th>\n",
       "      <td>1.635754</td>\n",
       "      <td>1.273089</td>\n",
       "      <td>-1.318561</td>\n",
       "      <td>-2.331127</td>\n",
       "      <td>4</td>\n",
       "      <td>1</td>\n",
       "      <td>2</td>\n",
       "      <td>0.805698</td>\n",
       "      <td>-0.063104</td>\n",
       "      <td>1</td>\n",
       "      <td>...</td>\n",
       "      <td>5</td>\n",
       "      <td>23</td>\n",
       "      <td>1</td>\n",
       "      <td>1</td>\n",
       "      <td>1</td>\n",
       "      <td>4</td>\n",
       "      <td>2</td>\n",
       "      <td>5</td>\n",
       "      <td>1</td>\n",
       "      <td>-0.663829</td>\n",
       "    </tr>\n",
       "    <tr>\n",
       "      <th>2</th>\n",
       "      <td>1.635754</td>\n",
       "      <td>1.273089</td>\n",
       "      <td>-1.318561</td>\n",
       "      <td>-2.331127</td>\n",
       "      <td>4</td>\n",
       "      <td>1</td>\n",
       "      <td>2</td>\n",
       "      <td>0.805698</td>\n",
       "      <td>-0.063104</td>\n",
       "      <td>1</td>\n",
       "      <td>...</td>\n",
       "      <td>3</td>\n",
       "      <td>11</td>\n",
       "      <td>1</td>\n",
       "      <td>1</td>\n",
       "      <td>1</td>\n",
       "      <td>1</td>\n",
       "      <td>1</td>\n",
       "      <td>0</td>\n",
       "      <td>1</td>\n",
       "      <td>1.140752</td>\n",
       "    </tr>\n",
       "    <tr>\n",
       "      <th>3</th>\n",
       "      <td>1.635754</td>\n",
       "      <td>1.273089</td>\n",
       "      <td>-1.318561</td>\n",
       "      <td>-2.084448</td>\n",
       "      <td>3</td>\n",
       "      <td>1</td>\n",
       "      <td>6</td>\n",
       "      <td>0.821290</td>\n",
       "      <td>-0.104276</td>\n",
       "      <td>1</td>\n",
       "      <td>...</td>\n",
       "      <td>1</td>\n",
       "      <td>0</td>\n",
       "      <td>1</td>\n",
       "      <td>1</td>\n",
       "      <td>1</td>\n",
       "      <td>4</td>\n",
       "      <td>2</td>\n",
       "      <td>0</td>\n",
       "      <td>1</td>\n",
       "      <td>-0.716905</td>\n",
       "    </tr>\n",
       "    <tr>\n",
       "      <th>4</th>\n",
       "      <td>1.407189</td>\n",
       "      <td>1.273089</td>\n",
       "      <td>-1.318561</td>\n",
       "      <td>0.212747</td>\n",
       "      <td>1</td>\n",
       "      <td>1</td>\n",
       "      <td>4</td>\n",
       "      <td>0.823628</td>\n",
       "      <td>-0.124441</td>\n",
       "      <td>1</td>\n",
       "      <td>...</td>\n",
       "      <td>1</td>\n",
       "      <td>2</td>\n",
       "      <td>1</td>\n",
       "      <td>1</td>\n",
       "      <td>1</td>\n",
       "      <td>1</td>\n",
       "      <td>1</td>\n",
       "      <td>0</td>\n",
       "      <td>1</td>\n",
       "      <td>-0.823057</td>\n",
       "    </tr>\n",
       "  </tbody>\n",
       "</table>\n",
       "<p>5 rows × 35 columns</p>\n",
       "</div>"
      ],
      "text/plain": [
       "        day     month      year      time  lum  atm_condition  collision_type  \\\n",
       "0  1.635754  1.273089 -1.318561 -2.331127    4              1               2   \n",
       "1  1.635754  1.273089 -1.318561 -2.331127    4              1               2   \n",
       "2  1.635754  1.273089 -1.318561 -2.331127    4              1               2   \n",
       "3  1.635754  1.273089 -1.318561 -2.084448    3              1               6   \n",
       "4  1.407189  1.273089 -1.318561  0.212747    1              1               4   \n",
       "\n",
       "        lat      long  route_category  ...  initial_impact_point  manv  motor  \\\n",
       "0  0.805698 -0.063104               1  ...                     5    23      1   \n",
       "1  0.805698 -0.063104               1  ...                     5    23      1   \n",
       "2  0.805698 -0.063104               1  ...                     3    11      1   \n",
       "3  0.821290 -0.104276               1  ...                     1     0      1   \n",
       "4  0.823628 -0.124441               1  ...                     1     2      1   \n",
       "\n",
       "   seat  user_category  gravity  gender  reason_travel  safety_equipment1  \\\n",
       "0     2              2        4       2              0                  1   \n",
       "1     1              1        4       2              5                  1   \n",
       "2     1              1        1       1              0                  1   \n",
       "3     1              1        4       2              0                  1   \n",
       "4     1              1        1       1              0                  1   \n",
       "\n",
       "        age  \n",
       "0 -1.141512  \n",
       "1 -0.663829  \n",
       "2  1.140752  \n",
       "3 -0.716905  \n",
       "4 -0.823057  \n",
       "\n",
       "[5 rows x 35 columns]"
      ]
     },
     "execution_count": 11,
     "metadata": {},
     "output_type": "execute_result"
    }
   ],
   "source": [
    "data_processed.head()"
   ]
  },
  {
   "cell_type": "code",
   "execution_count": 12,
   "id": "d3fca859-dee0-4b7a-9cbb-69c05bbce1d2",
   "metadata": {},
   "outputs": [],
   "source": [
    "# Selecting features and target variable\n",
    "features = ['lum','atm_condition','collision_type','route_category','traffic_regime','reserved_lane_code','longitudinal_profile','upstream_terminal_number','plan','surface_condition','infra','accident_situation','traffic_direction','vehicle_category','fixed_obstacle','mobile_obstacle',\n",
    "'initial_impact_point','manv','motor','seat','user_category','gender','reason_travel','safety_equipment1','maximum_speed','age','lat','long','distance_upstream_terminal','total_number_lanes', 'day', 'time', 'month', 'year']\n",
    "target = 'gravity'"
   ]
  },
  {
   "cell_type": "code",
   "execution_count": 13,
   "id": "88abe0f0-4e16-40a8-9aaa-d1c36d22a37d",
   "metadata": {},
   "outputs": [],
   "source": [
    "# Handling categorical features with label encoding\n",
    "le = LabelEncoder()"
   ]
  },
  {
   "cell_type": "code",
   "execution_count": 14,
   "id": "373075db-6c7f-4dba-a394-a84097479f33",
   "metadata": {},
   "outputs": [],
   "source": [
    "# Splitting the data into train and test sets\n",
    "X = data[features]\n",
    "y = data[target]\n",
    "\n",
    "X_train, X_test, y_train, y_test = train_test_split(X, y, test_size=0.2, random_state=42)"
   ]
  },
  {
   "cell_type": "code",
   "execution_count": 15,
   "id": "659d43a7-6df8-4256-86fe-d6bf07aa7ada",
   "metadata": {},
   "outputs": [
    {
     "name": "stderr",
     "output_type": "stream",
     "text": [
      "C:\\Users\\sd10725\\AppData\\Roaming\\Python\\Python311\\site-packages\\joblib\\externals\\loky\\backend\\context.py:136: UserWarning: Could not find the number of physical cores for the following reason:\n",
      "found 0 physical cores < 1\n",
      "Returning the number of logical cores instead. You can silence this warning by setting LOKY_MAX_CPU_COUNT to the number of cores you want to use.\n",
      "  warnings.warn(\n",
      "  File \"C:\\Users\\sd10725\\AppData\\Roaming\\Python\\Python311\\site-packages\\joblib\\externals\\loky\\backend\\context.py\", line 282, in _count_physical_cores\n",
      "    raise ValueError(f\"found {cpu_count_physical} physical cores < 1\")\n"
     ]
    }
   ],
   "source": [
    "# SMOTE to balance the dataset\n",
    "smote = SMOTE(random_state=42)\n",
    "X_res, y_res = smote.fit_resample(X_train, y_train)"
   ]
  },
  {
   "cell_type": "code",
   "execution_count": 16,
   "id": "b6f08fa5-d001-4126-b97e-fe5d91e53da2",
   "metadata": {},
   "outputs": [],
   "source": [
    "# Define the hyperparameters to tune\n",
    "param_grid = {\n",
    "    'n_estimators': [100, 200, 300],           # Number of trees\n",
    "    'max_depth': [10, 20, 30],                 # Maximum depth of trees\n",
    "    'min_samples_split': [2, 5, 10],           # Minimum samples required to split\n",
    "    'min_samples_leaf': [1, 2, 4],             # Minimum samples in leaf nodes\n",
    "    #'max_features': ['auto', 'sqrt'],          # Number of features to consider at each split\n",
    "    'max_features': ['sqrt', 'log2', None],\n",
    "    'bootstrap': [True, False],                # Whether bootstrap samples are used\n",
    "    'class_weight': [{1: 1, 2: 20, 3: 1, 4: 1}] # Increased weight for fatalities\n",
    "}"
   ]
  },
  {
   "cell_type": "markdown",
   "id": "18642a82-2b9e-4154-a5ec-37ab14e26c7a",
   "metadata": {},
   "source": [
    "Apply ML model ---->"
   ]
  },
  {
   "cell_type": "code",
   "execution_count": 17,
   "id": "34dc4d78-d604-4b56-b6c8-48ebc101aafd",
   "metadata": {},
   "outputs": [],
   "source": [
    "# Initialize Random Forest model\n",
    "rf = RandomForestClassifier(random_state=42)"
   ]
  },
  {
   "cell_type": "code",
   "execution_count": null,
   "id": "790a7389-f4ae-415f-a3d2-e9137047f068",
   "metadata": {},
   "outputs": [],
   "source": [
    "# Set up Grid Search with cross-validation\n",
    "grid_search = GridSearchCV(estimator=rf, param_grid=param_grid, cv=3, verbose=2, n_jobs=-1, scoring='f1_macro')"
   ]
  },
  {
   "cell_type": "code",
   "execution_count": null,
   "id": "01f4d22c-9798-4547-8c92-242064673db6",
   "metadata": {},
   "outputs": [],
   "source": [
    "# Fit the model\n",
    "grid_search.fit(X_res, y_res)"
   ]
  },
  {
   "cell_type": "code",
   "execution_count": null,
   "id": "39d1e76c-a632-414a-a1e5-af03e2f5e852",
   "metadata": {},
   "outputs": [],
   "source": [
    "# Best parameters\n",
    "print(\"Best Parameters:\", grid_search.best_params_)"
   ]
  },
  {
   "cell_type": "code",
   "execution_count": null,
   "id": "091b3287-a08f-442c-b912-3d8b7b0f5737",
   "metadata": {},
   "outputs": [],
   "source": [
    "# Evaluate the model with the best parameters\n",
    "best_model = grid_search.best_estimator_\n",
    "y_pred = best_model.predict(X_test)"
   ]
  },
  {
   "cell_type": "code",
   "execution_count": null,
   "id": "b255fcb9-25b8-4613-b301-7ea5579c0250",
   "metadata": {},
   "outputs": [],
   "source": [
    "# Classification report\n",
    "print(classification_report(y_test, y_pred))"
   ]
  },
  {
   "cell_type": "code",
   "execution_count": null,
   "id": "ac3c72ad-cbc3-4da0-b7e1-8d6100da6886",
   "metadata": {},
   "outputs": [],
   "source": []
  }
 ],
 "metadata": {
  "kernelspec": {
   "display_name": "Python 3 (ipykernel)",
   "language": "python",
   "name": "python3"
  },
  "language_info": {
   "codemirror_mode": {
    "name": "ipython",
    "version": 3
   },
   "file_extension": ".py",
   "mimetype": "text/x-python",
   "name": "python",
   "nbconvert_exporter": "python",
   "pygments_lexer": "ipython3",
   "version": "3.11.7"
  }
 },
 "nbformat": 4,
 "nbformat_minor": 5
}
