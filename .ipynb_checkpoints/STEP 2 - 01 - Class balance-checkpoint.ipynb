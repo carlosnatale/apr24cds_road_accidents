{
 "cells": [
  {
   "cell_type": "code",
   "execution_count": 1,
   "id": "6159ef34-0d25-462e-bac0-bf5e5fba22f7",
   "metadata": {},
   "outputs": [],
   "source": [
    "import warnings\n",
    "import numpy as np\n",
    "import pandas as pd\n",
    "import seaborn as sns\n",
    "import matplotlib.pyplot as plt\n",
    "from sklearn.pipeline import Pipeline\n",
    "from sklearn.impute import SimpleImputer\n",
    "from sklearn.compose import ColumnTransformer\n",
    "from sklearn.ensemble import RandomForestClassifier\n",
    "from sklearn.model_selection import train_test_split\n",
    "from sklearn.preprocessing import PolynomialFeatures, StandardScaler, OrdinalEncoder\n"
   ]
  },
  {
   "cell_type": "code",
   "execution_count": 3,
   "id": "f20fc511-87fb-4abb-92ed-e2a8dd019b8a",
   "metadata": {},
   "outputs": [],
   "source": [
    "data = pd.read_csv('source/data.csv')"
   ]
  },
  {
   "cell_type": "code",
   "execution_count": 5,
   "id": "44e40b56-dbdd-4ece-93ad-a893d6caebfd",
   "metadata": {},
   "outputs": [],
   "source": [
    "# List of columns to convert to object type\n",
    "columns_to_convert = [\n",
    "    'AccID', 'accident_situation', 'atm_condition', 'collision_type', 'com_code', 'dep_code', \n",
    "    'fixed_obstacle', 'gender', 'gravity', 'infra', 'initial_impact_point', 'int', 'location', \n",
    "    'longitudinal_profile', 'lum', 'manv', 'mobile_obstacle', 'motor', 'num_veh_x', 'num_veh_y',\n",
    "    'pedestrian_action', 'pedestrian_location', 'plan', 'reason_travel', 'reserved_lane_code', \n",
    "    'route_category', 'safety_equipment1', 'safety_equipment2', 'safety_equipment3', 'seat', \n",
    "    'surface_condition', 'time', 'traffic_direction', 'traffic_regime', 'upstream_terminal_number', \n",
    "    'user_category', 'vehicle_category', 'vehicleID_x', 'vehicleID_y'\n",
    "]"
   ]
  },
  {
   "cell_type": "code",
   "execution_count": 7,
   "id": "1ea62109-2667-4191-a905-622776f0c750",
   "metadata": {},
   "outputs": [],
   "source": [
    "# Convert specified columns to object type\n",
    "data[columns_to_convert] = data[columns_to_convert].astype('object')"
   ]
  },
  {
   "cell_type": "markdown",
   "id": "569dfb75-ff77-4f2c-a1c4-aa0f33f55c29",
   "metadata": {},
   "source": [
    "<font size=\"6\">  \n",
    "    Implementing feature engineering techniques for gravity\n",
    "</font> "
   ]
  },
  {
   "cell_type": "code",
   "execution_count": 10,
   "id": "59dda2f5-d226-4271-8036-dd874cae37e2",
   "metadata": {},
   "outputs": [
    {
     "name": "stderr",
     "output_type": "stream",
     "text": [
      "C:\\Users\\chnat\\anaconda3.2024\\Lib\\site-packages\\pandas\\core\\arraylike.py:396: RuntimeWarning: invalid value encountered in log1p\n",
      "  result = getattr(ufunc, method)(*inputs, **kwargs)\n"
     ]
    },
    {
     "data": {
      "text/plain": [
       "(                    Feature  Importance\n",
       " 15            com_code_freq    0.087679\n",
       " 4                       lat    0.086605\n",
       " 5                      long    0.079037\n",
       " 18     lat_long_interaction    0.078858\n",
       " 0                       day    0.067371\n",
       " 21                     hour    0.060903\n",
       " 1                     month    0.053106\n",
       " 17  age_vehicle_interaction    0.044839\n",
       " 22              day_of_week    0.042813\n",
       " 13     initial_impact_point    0.036075\n",
       " 20              age_squared    0.035644\n",
       " 10                      age    0.035153\n",
       " 19                 age_poly    0.034879\n",
       " 8                birth_year    0.034811\n",
       " 25                  log_age    0.031253\n",
       " 2                      year    0.030485\n",
       " 6        total_number_lanes    0.026815\n",
       " 11        traffic_direction    0.025482\n",
       " 7             maximum_speed    0.021542\n",
       " 9       pedestrian_involved    0.019388,\n",
       " (dtype('int32'), array([4, 1, 3, 2])))"
      ]
     },
     "execution_count": 10,
     "metadata": {},
     "output_type": "execute_result"
    }
   ],
   "source": [
    "# Ensure that the 'gravity' column exists in the dataset\n",
    "if 'gravity' not in data.columns:\n",
    "    data['gravity'] = [0] * len(data)  # Dummy column for demonstration\n",
    "\n",
    "# Explicitly convert the target variable to integer type\n",
    "data['gravity'] = data['gravity'].astype(int)\n",
    "\n",
    "# Frequency Encoding for high cardinality columns\n",
    "def frequency_encoding(df, col):\n",
    "    freq_encoding = df[col].value_counts() / len(df)\n",
    "    df[col + '_freq'] = df[col].map(freq_encoding)\n",
    "    return df\n",
    "\n",
    "# Apply frequency encoding to high cardinality categorical variables\n",
    "high_cardinality_cols = ['location', 'com_code', 'vehicle_category']\n",
    "for col in high_cardinality_cols:\n",
    "    data = frequency_encoding(data, col)\n",
    "\n",
    "# Drop the original high cardinality columns after encoding\n",
    "data = data.drop(columns=high_cardinality_cols)\n",
    "\n",
    "# Interaction Features\n",
    "data['age_vehicle_interaction'] = data['age'] * data['vehicle_category_freq']\n",
    "data['lat_long_interaction'] = data['lat'] * data['long']\n",
    "\n",
    "# Polynomial Features for Age\n",
    "poly = PolynomialFeatures(degree=2, include_bias=False)\n",
    "poly_features = poly.fit_transform(data[['age']])\n",
    "poly_df = pd.DataFrame(poly_features, columns=['age_poly', 'age_squared'])\n",
    "data = pd.concat([data, poly_df], axis=1)\n",
    "\n",
    "# Temporal Features\n",
    "data['datetime'] = pd.to_datetime(data[['year', 'month', 'day']].astype(str).agg('-'.join, axis=1) + ' ' + data['time'])\n",
    "data['hour'] = data['datetime'].dt.hour\n",
    "data['day_of_week'] = data['datetime'].dt.dayofweek\n",
    "data = data.drop(columns=['datetime'])\n",
    "\n",
    "# Aggregation Features (before any encoding)\n",
    "data['location_accidents'] = data.groupby('location_freq')['AccID'].transform('count')\n",
    "data['mean_age_vehicle'] = data.groupby('vehicle_category_freq')['age'].transform('mean')\n",
    "\n",
    "# Binning Age and Time\n",
    "data['age_bin'] = pd.cut(data['age'], bins=[0, 18, 30, 50, 70, 100], labels=['0-18', '19-30', '31-50', '51-70', '70+'])\n",
    "data['time_bin'] = pd.cut(data['hour'], bins=[0, 6, 12, 18, 24], labels=['Night', 'Morning', 'Afternoon', 'Evening'])\n",
    "\n",
    "# One-Hot Encoding for low cardinality categorical variables\n",
    "data = pd.get_dummies(data, columns=['age_bin', 'time_bin'], drop_first=True)\n",
    "\n",
    "# Ordinal Encoding\n",
    "ordinal_features = ['atm_condition', 'traffic_direction', 'fixed_obstacle']\n",
    "encoder = OrdinalEncoder()\n",
    "data[ordinal_features] = encoder.fit_transform(data[ordinal_features])\n",
    "\n",
    "# Standard Scaling for numerical features\n",
    "scaler = StandardScaler()\n",
    "numerical_cols = ['age', 'lat', 'long', 'initial_impact_point', 'age_vehicle_interaction', 'lat_long_interaction']\n",
    "data[numerical_cols] = scaler.fit_transform(data[numerical_cols])\n",
    "\n",
    "# Log Transformation for age\n",
    "data['log_age'] = np.log1p(data['age'])\n",
    "\n",
    "# Ensure all features are numeric by excluding non-numeric columns\n",
    "features = data.drop(columns=['gravity'])\n",
    "features = features.select_dtypes(include=[np.number])\n",
    "\n",
    "# Handle missing values using imputation\n",
    "imputer = SimpleImputer(strategy='mean')\n",
    "features_imputed = imputer.fit_transform(features)\n",
    "\n",
    "# Ensure the target variable is correctly processed\n",
    "y = data['gravity']\n",
    "\n",
    "# Check data types and unique values of the target variable\n",
    "y_dtype = y.dtype, y.unique()\n",
    "\n",
    "# Split the data into training and testing sets\n",
    "X_train, X_test, y_train, y_test = train_test_split(features_imputed, y, test_size=0.3, random_state=42)\n",
    "\n",
    "# Train a Random Forest model\n",
    "rf_model = RandomForestClassifier(random_state=42)\n",
    "rf_model.fit(X_train, y_train)\n",
    "\n",
    "# Extract feature importance\n",
    "feature_importance = rf_model.feature_importances_\n",
    "\n",
    "# Create a DataFrame for feature importance\n",
    "feature_importance_df = pd.DataFrame({\n",
    "    'Feature': features.columns,\n",
    "    'Importance': feature_importance\n",
    "}).sort_values(by='Importance', ascending=False)\n",
    "\n",
    "feature_importance_df.head(20), y_dtype\n"
   ]
  },
  {
   "cell_type": "markdown",
   "id": "1da36bed-8221-468b-ac1d-28455cefd83d",
   "metadata": {},
   "source": [
    "Top Features:\n",
    "com_code_freq (0.087679): The frequency encoding of the commune code is the most important feature. This suggests that the location where the accident occurs has a significant impact on the severity (gravity) of the accident.\n",
    "lat (0.086605) and long (0.079037): Latitude and longitude are also highly important, reinforcing the idea that geographic location plays a critical role.\n",
    "lat_long_interaction (0.078858): The interaction between latitude and longitude is another strong indicator, likely capturing specific regional characteristics that affect accident severity.\n",
    "Temporal Features:\n",
    "\n",
    "day (0.067371): The day of the month is quite important, which might reflect patterns related to specific days or dates.\n",
    "hour (0.060903): The hour of the day is also significant, indicating that the time of the accident influences its severity.\n",
    "month (0.053106): The month of the year affects accident severity, potentially due to seasonal variations in weather, traffic, or other factors.\n",
    "day_of_week (0.042813): The day of the week matters, possibly due to different traffic patterns or behaviors on weekdays versus weekends.\n",
    "Age-Related Features:\n",
    "\n",
    "age_vehicle_interaction (0.044839): The interaction between age and vehicle category is important, suggesting that the combination of a driver's age and their vehicle type affects accident outcomes.\n",
    "age_squared (0.035644), age (0.035153), age_poly (0.034879), birth_year (0.034811), and log_age (0.031253): Various transformations of the age variable are significant, indicating that age-related factors are crucial in determining accident severity.\n",
    "Initial Impact and Traffic Conditions:\n",
    "\n",
    "initial_impact_point (0.036075): The point of initial impact in an accident is important, likely reflecting the type and severity of collisions.\n",
    "traffic_direction (0.025482): The direction of traffic flow influences the severity, which could relate to the dynamics of head-on versus side-impact collisions.\n",
    "total_number_lanes (0.026815) and maximum_speed (0.021542): Road infrastructure features like the number of lanes and maximum speed limits are important, indicating that road design impacts accident severity.\n",
    "pedestrian_involved (0.019388): Whether a pedestrian is involved is also significant, highlighting the vulnerability of pedestrians in accidents."
   ]
  },
  {
   "cell_type": "code",
   "execution_count": null,
   "id": "81ef2d09-f7a5-4132-aba1-3cf2cfddac6a",
   "metadata": {},
   "outputs": [],
   "source": []
  }
 ],
 "metadata": {
  "kernelspec": {
   "display_name": "Python 3 (ipykernel)",
   "language": "python",
   "name": "python3"
  },
  "language_info": {
   "codemirror_mode": {
    "name": "ipython",
    "version": 3
   },
   "file_extension": ".py",
   "mimetype": "text/x-python",
   "name": "python",
   "nbconvert_exporter": "python",
   "pygments_lexer": "ipython3",
   "version": "3.11.7"
  }
 },
 "nbformat": 4,
 "nbformat_minor": 5
}
