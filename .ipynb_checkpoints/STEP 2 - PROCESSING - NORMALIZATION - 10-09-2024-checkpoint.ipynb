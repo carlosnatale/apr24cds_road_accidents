{
 "cells": [
  {
   "cell_type": "code",
   "execution_count": null,
   "id": "9cf518b4-92bd-410d-9ee2-1a1605220b00",
   "metadata": {},
   "outputs": [],
   "source": [
    "import pandas as pd\n",
    "from sklearn.preprocessing import LabelEncoder, StandardScaler\n",
    "from sklearn.linear_model import LogisticRegression\n",
    "from sklearn.model_selection import train_test_split\n",
    "from sklearn.metrics import classification_report\n",
    "from sklearn.impute import SimpleImputer"
   ]
  },
  {
   "cell_type": "code",
   "execution_count": null,
   "id": "51b7c792-f701-4281-a26b-702363c87d01",
   "metadata": {},
   "outputs": [],
   "source": [
    "# Load dataset\n",
    "data = pd.read_csv('source/data.csv')"
   ]
  },
  {
   "cell_type": "code",
   "execution_count": null,
   "id": "b8f415d0-713a-45e4-80b0-0f9e0c540a06",
   "metadata": {},
   "outputs": [],
   "source": [
    "# Convert all columns to numeric, setting errors to 'coerce'\n",
    "data = data.apply(pd.to_numeric, errors='coerce')"
   ]
  },
  {
   "cell_type": "code",
   "execution_count": null,
   "id": "74f8c277-f556-4bae-b1ca-3425a2d50c6d",
   "metadata": {},
   "outputs": [],
   "source": [
    "# 1. Label Encoding for Ordinal Variables\n",
    "ordinal_cols = ['lum', 'surface_condition', 'plan', 'longitudinal_profile']\n",
    "le = LabelEncoder()\n",
    "for col in ordinal_cols:\n",
    "    data[col] = le.fit_transform(data[col])"
   ]
  },
  {
   "cell_type": "code",
   "execution_count": null,
   "id": "193056ae-75ff-4c59-a015-c86a08d4fe93",
   "metadata": {},
   "outputs": [],
   "source": [
    "# 2. One-Hot Encoding for Nominal Variables\n",
    "nominal_cols = ['atm_condition', 'collision_type', 'route_category', 'traffic_regime', \n",
    "                'vehicle_category', 'fixed_obstacle', 'mobile_obstacle', 'user_category', \n",
    "                'reason_travel', 'safety_equipment1']\n",
    "\n",
    "data = pd.get_dummies(data, columns=nominal_cols, drop_first=True)"
   ]
  },
  {
   "cell_type": "code",
   "execution_count": null,
   "id": "01c2cdd1-77fa-4914-91d3-1d036e876549",
   "metadata": {},
   "outputs": [],
   "source": [
    "# 3. Define the target variable and features\n",
    "X = data.drop(columns=['gravity'])  # Explanatory variables\n",
    "y = data['gravity']  # Target variable"
   ]
  },
  {
   "cell_type": "code",
   "execution_count": null,
   "id": "1f5da0b5-ecb5-4d6e-951f-609662cc767a",
   "metadata": {},
   "outputs": [],
   "source": [
    "# 4. Handle missing values using imputation\n",
    "imputer = SimpleImputer(strategy='median')\n",
    "X = imputer.fit_transform(X)"
   ]
  },
  {
   "cell_type": "code",
   "execution_count": null,
   "id": "cc00fa34-146e-43fd-9cb5-1e2c94514f9d",
   "metadata": {},
   "outputs": [],
   "source": [
    "# 5. Standardization of Quantitative Variables\n",
    "scaler = StandardScaler()\n",
    "X = scaler.fit_transform(X)"
   ]
  },
  {
   "cell_type": "code",
   "execution_count": null,
   "id": "427b4400-b841-4f3e-b3eb-6eb9fa8d1705",
   "metadata": {},
   "outputs": [],
   "source": [
    "# 6. Split the dataset into training and testing sets\n",
    "X_train, X_test, y_train, y_test = train_test_split(X, y, test_size=0.3, random_state=42)"
   ]
  },
  {
   "cell_type": "code",
   "execution_count": null,
   "id": "c0e90285-1f08-4e0f-bcb0-ae9255a28d2f",
   "metadata": {},
   "outputs": [],
   "source": [
    "# 7. Initialize and train the Logistic Regression model\n",
    "model = LogisticRegression(max_iter=1000, class_weight='balanced')\n",
    "model.fit(X_train, y_train)"
   ]
  },
  {
   "cell_type": "code",
   "execution_count": null,
   "id": "67299bf4-8476-4df5-8011-a46ae9013375",
   "metadata": {},
   "outputs": [],
   "source": [
    "# 8. Predict and evaluate\n",
    "y_pred = model.predict(X_test)\n",
    "print(classification_report(y_test, y_pred))"
   ]
  },
  {
   "cell_type": "code",
   "execution_count": null,
   "id": "0d6df639-c0dc-4363-888c-8f27c2ef5e19",
   "metadata": {},
   "outputs": [],
   "source": [
    "from sklearn.model_selection import GridSearchCV"
   ]
  },
  {
   "cell_type": "code",
   "execution_count": null,
   "id": "e95e79d1-3cc4-42bb-bd76-8f4e9d145bf7",
   "metadata": {},
   "outputs": [],
   "source": [
    "# Define the parameter grid\n",
    "param_grid = {\n",
    "    'C': [0.01, 0.1, 1, 10, 100],  # Regularization strength\n",
    "    'penalty': ['l1', 'l2'],        # L1 = Lasso, L2 = Ridge\n",
    "    'solver': ['liblinear']         # Use 'liblinear' solver for L1/L2 regularization\n",
    "}"
   ]
  },
  {
   "cell_type": "code",
   "execution_count": null,
   "id": "7bbc2d99-8217-4393-a506-d722a31e909c",
   "metadata": {},
   "outputs": [],
   "source": [
    "# Initialize the model\n",
    "model = LogisticRegression(class_weight='balanced', max_iter=1000)"
   ]
  },
  {
   "cell_type": "code",
   "execution_count": null,
   "id": "e8f41fa9-a61e-4915-808a-721ba58f28c1",
   "metadata": {},
   "outputs": [],
   "source": [
    "# Set up Grid Search with 5-fold cross-validation\n",
    "grid_search = GridSearchCV(model, param_grid, cv=5, scoring='f1_macro')"
   ]
  },
  {
   "cell_type": "code",
   "execution_count": null,
   "id": "f06e2737-31cf-4fe8-a7ef-565498e0fe8a",
   "metadata": {},
   "outputs": [],
   "source": [
    "# Fit the model\n",
    "grid_search.fit(X_train, y_train)"
   ]
  },
  {
   "cell_type": "code",
   "execution_count": null,
   "id": "9bd7d648-b08a-4676-9409-bd25037343d3",
   "metadata": {},
   "outputs": [],
   "source": [
    "# Print the best parameters and the best score\n",
    "print(f\"Best parameters: {grid_search.best_params_}\")\n",
    "print(f\"Best F1-score: {grid_search.best_score_}\")"
   ]
  },
  {
   "cell_type": "code",
   "execution_count": null,
   "id": "31a0c6a0-1d6c-47ee-b0cd-e2f4e1384a1a",
   "metadata": {},
   "outputs": [],
   "source": [
    "# Use the best model for predictions\n",
    "best_model = grid_search.best_estimator_\n",
    "y_pred = best_model.predict(X_test)\n",
    "print(classification_report(y_test, y_pred))"
   ]
  },
  {
   "cell_type": "code",
   "execution_count": null,
   "id": "2c9d42a3-f4fd-4fb6-bf00-86cd6ee91ed8",
   "metadata": {},
   "outputs": [],
   "source": []
  }
 ],
 "metadata": {
  "kernelspec": {
   "display_name": "Python 3 (ipykernel)",
   "language": "python",
   "name": "python3"
  },
  "language_info": {
   "codemirror_mode": {
    "name": "ipython",
    "version": 3
   },
   "file_extension": ".py",
   "mimetype": "text/x-python",
   "name": "python",
   "nbconvert_exporter": "python",
   "pygments_lexer": "ipython3",
   "version": "3.11.7"
  }
 },
 "nbformat": 4,
 "nbformat_minor": 5
}
