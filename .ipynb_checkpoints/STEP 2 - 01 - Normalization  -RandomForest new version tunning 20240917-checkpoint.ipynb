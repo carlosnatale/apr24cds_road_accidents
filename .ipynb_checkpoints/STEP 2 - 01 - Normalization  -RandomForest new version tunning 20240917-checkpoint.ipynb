{
 "cells": [
  {
   "cell_type": "code",
   "execution_count": null,
   "id": "2ac57e56-9eee-4b53-934d-4d3b9709233d",
   "metadata": {},
   "outputs": [],
   "source": [
    "# Import the necessary packages\n",
    "import pandas as pd\n",
    "import warnings\n",
    "from sklearn.model_selection import train_test_split, GridSearchCV\n",
    "from sklearn.ensemble import RandomForestClassifier\n",
    "from sklearn.preprocessing import StandardScaler, LabelEncoder\n",
    "from sklearn.metrics import classification_report, precision_recall_curve\n",
    "import numpy as np\n",
    "from imblearn.over_sampling import SMOTE"
   ]
  },
  {
   "cell_type": "code",
   "execution_count": null,
   "id": "854bd6d7-549b-4fe5-a9e0-5710833ca0a7",
   "metadata": {},
   "outputs": [],
   "source": [
    "# Suppress specific future warnings\n",
    "warnings.filterwarnings(\"ignore\", category=FutureWarning)"
   ]
  },
  {
   "cell_type": "code",
   "execution_count": null,
   "id": "d9a78029-6e00-44fe-b218-bf14ffa7ca9d",
   "metadata": {},
   "outputs": [],
   "source": [
    "# Import the clean data\n",
    "data = pd.read_csv('source/data.csv', low_memory=False)"
   ]
  },
  {
   "cell_type": "code",
   "execution_count": null,
   "id": "592f95ed-bdbe-463b-b945-b35d0c460d7e",
   "metadata": {},
   "outputs": [],
   "source": [
    "# Copy of the original dataset for feature engineering and preprocessing\n",
    "data_processed = data.copy()"
   ]
  },
  {
   "cell_type": "code",
   "execution_count": null,
   "id": "b1023570-7c49-4691-9d42-f07a37608ff1",
   "metadata": {},
   "outputs": [],
   "source": [
    "# Drop unnecessary columns\n",
    "data_processed = data_processed.drop(['AccID', 'birth_year', 'vehicleID', 'num_veh'], axis=1)"
   ]
  },
  {
   "cell_type": "code",
   "execution_count": null,
   "id": "aef5698c-be74-4138-aa24-d6e8ffd36f33",
   "metadata": {},
   "outputs": [],
   "source": [
    "# Converting 'time', 'day', 'month', and 'year' to float type\n",
    "data_processed['time'] = data_processed['time'].astype('float64')\n",
    "data_processed['day'] = data_processed['day'].astype('float64')\n",
    "data_processed['month'] = data_processed['month'].astype('float64')\n",
    "data_processed['year'] = data_processed['year'].astype('float64')"
   ]
  },
  {
   "cell_type": "code",
   "execution_count": null,
   "id": "d5bc2670-e859-44d0-91d9-eea6c9043849",
   "metadata": {},
   "outputs": [],
   "source": [
    "# Selecting features and target variable\n",
    "features = ['lum', 'atm_condition', 'collision_type', 'route_category', 'traffic_regime', 'reserved_lane_code', \n",
    "            'longitudinal_profile', 'upstream_terminal_number', 'plan', 'surface_condition', 'infra', 'accident_situation', \n",
    "            'traffic_direction', 'vehicle_category', 'fixed_obstacle', 'mobile_obstacle', 'initial_impact_point', 'manv', \n",
    "            'motor', 'seat', 'user_category', 'gender', 'reason_travel', 'safety_equipment1', 'maximum_speed', 'age', \n",
    "            'lat', 'long', 'distance_upstream_terminal', 'total_number_lanes', 'day', 'time', 'month', 'year']\n",
    "target = 'gravity'"
   ]
  },
  {
   "cell_type": "code",
   "execution_count": null,
   "id": "839ebf88-8597-4c52-82fd-68bd7056df73",
   "metadata": {},
   "outputs": [],
   "source": [
    "# Handling categorical features with One Hot Encoding\n",
    "X = pd.get_dummies(data_processed[features], drop_first=True)\n",
    "y = data_processed[target]"
   ]
  },
  {
   "cell_type": "code",
   "execution_count": null,
   "id": "2a2d786b-a5a1-4118-a891-5c13cb03e398",
   "metadata": {},
   "outputs": [],
   "source": [
    "# Splitting the data into train and test sets\n",
    "X_train, X_test, y_train, y_test = train_test_split(X, y, test_size=0.2, random_state=42)"
   ]
  },
  {
   "cell_type": "code",
   "execution_count": null,
   "id": "2a4db491-2ccc-4ad2-8b3f-fdb2724c96b8",
   "metadata": {},
   "outputs": [],
   "source": [
    "# Standardization: Fit only on the training data, then apply to both train and test\n",
    "scaler = StandardScaler()\n",
    "numerical_columns = X.select_dtypes(include=['float64']).columns\n",
    "\n",
    "X_train[numerical_columns] = scaler.fit_transform(X_train[numerical_columns])\n",
    "X_test[numerical_columns] = scaler.transform(X_test[numerical_columns])"
   ]
  },
  {
   "cell_type": "code",
   "execution_count": null,
   "id": "52e30560-fa5d-4a37-8cbb-0f489c275e6f",
   "metadata": {},
   "outputs": [],
   "source": [
    "# Check the dimensions of your dataframe\n",
    "print(f\"Shape of X_train: {X_train.shape}\")\n",
    "print(f\"Shape of X_test: {X_test.shape}\")"
   ]
  },
  {
   "cell_type": "code",
   "execution_count": null,
   "id": "b6f08fa5-d001-4126-b97e-fe5d91e53da2",
   "metadata": {},
   "outputs": [],
   "source": [
    "# Define the hyperparameters to tune\n",
    "param_grid = {\n",
    "    'n_estimators': [100, 200],          # Number of trees in the forest\n",
    "    'max_depth': [20, 30],               # Maximum depth of the tree\n",
    "    'min_samples_split': [5, 10],        # Minimum number of samples to split a node\n",
    "    'min_samples_leaf': [2, 4],          # Minimum number of samples per leaf\n",
    "    'max_features': ['sqrt'],            # Max features considered for splitting\n",
    "    'class_weight': [{1: 1, 2: 20, 3: 1, 4: 1}]  # Increased weight for fatalities\n",
    "}"
   ]
  },
  {
   "cell_type": "markdown",
   "id": "18642a82-2b9e-4154-a5ec-37ab14e26c7a",
   "metadata": {},
   "source": [
    "Apply ML model v1---->"
   ]
  },
  {
   "cell_type": "code",
   "execution_count": null,
   "id": "677cc114-b7a0-49c2-943a-cc0bd65aac10",
   "metadata": {},
   "outputs": [],
   "source": [
    "# Initialize RandomForest\n",
    "rf = RandomForestClassifier(random_state=42)"
   ]
  },
  {
   "cell_type": "code",
   "execution_count": null,
   "id": "c154977a-a599-48fd-89d7-39142bf1adbb",
   "metadata": {},
   "outputs": [],
   "source": [
    "# Setup GridSearchCV\n",
    "grid_search = GridSearchCV(estimator=rf, param_grid=param_grid, \n",
    "                           scoring='f1_macro', cv=3, verbose=2, n_jobs=-1)"
   ]
  },
  {
   "cell_type": "code",
   "execution_count": null,
   "id": "b99d4c33-8e8d-4fe6-a686-8d5ada53b7c0",
   "metadata": {},
   "outputs": [],
   "source": [
    "# Fit the model with the grid search\n",
    "grid_search.fit(X_train, y_train)"
   ]
  },
  {
   "cell_type": "code",
   "execution_count": null,
   "id": "50bb0ffd-d84b-4ecb-baf5-d91322cbb549",
   "metadata": {},
   "outputs": [],
   "source": [
    "# Best hyperparameters\n",
    "print(\"Best Parameters found: \", grid_search.best_params_)"
   ]
  },
  {
   "cell_type": "code",
   "execution_count": null,
   "id": "8b9d6e91-ae2c-498a-813a-71d38cbd5818",
   "metadata": {},
   "outputs": [],
   "source": [
    "# Predict on the test set with the best model from GridSearchCV\n",
    "y_pred_grid = grid_search.best_estimator_.predict(X_test)"
   ]
  },
  {
   "cell_type": "code",
   "execution_count": null,
   "id": "c2a956d5-f29e-4bbd-8409-ff6b28f0f7f5",
   "metadata": {},
   "outputs": [],
   "source": [
    "# Initial classification report\n",
    "print(\"Initial classification report after hyperparameter tuning:\")\n",
    "print(classification_report(y_test, y_pred_grid))"
   ]
  },
  {
   "cell_type": "code",
   "execution_count": null,
   "id": "673949ae-68a7-442e-b740-9e24399c59c3",
   "metadata": {},
   "outputs": [],
   "source": [
    "# Threshold Tuning for Higher Precision for Fatalities\n",
    "# Get prediction probabilities\n",
    "y_probs = grid_search.best_estimator_.predict_proba(X_test)"
   ]
  },
  {
   "cell_type": "code",
   "execution_count": null,
   "id": "33decb4e-77cd-4160-b691-84e9fbe80397",
   "metadata": {},
   "outputs": [],
   "source": [
    "# Check how classes are ordered in the model\n",
    "class_labels = grid_search.best_estimator_.classes_\n",
    "print(\"Class labels in the model:\", class_labels)\n",
    "\n",
    "# Verify the index for Class 2 (Fatal)\n",
    "fatal_class_index = np.where(class_labels == 2)[0][0]\n",
    "print(f\"Index for Class 2 (Fatal): {fatal_class_index}\")\n"
   ]
  },
  {
   "cell_type": "code",
   "execution_count": null,
   "id": "de774982-d969-4e37-868d-b67089893a04",
   "metadata": {},
   "outputs": [],
   "source": [
    "# Use probabilities for Class 2 (Fatal)\n",
    "fatal_probs = y_probs[:, 1]  "
   ]
  },
  {
   "cell_type": "code",
   "execution_count": null,
   "id": "e47f08a1-9450-4011-b742-56236649a3f6",
   "metadata": {},
   "outputs": [],
   "source": [
    "# Use precision-recall curve to evaluate different thresholds\n",
    "precision, recall, thresholds = precision_recall_curve(y_test == 2, fatal_probs)"
   ]
  },
  {
   "cell_type": "code",
   "execution_count": null,
   "id": "8af47050-e6fe-4ac5-9063-addc3aa7a5d8",
   "metadata": {},
   "outputs": [],
   "source": [
    "# Find the threshold that balances both precision and recall\n",
    "f1_scores = 2 * (precision * recall) / (precision + recall)  # Calculate F1-scores for each threshold\n",
    "best_threshold_index = np.argmax(f1_scores)  # Find the index with the highest F1-score\n",
    "best_threshold = thresholds[best_threshold_index]\n"
   ]
  },
  {
   "cell_type": "code",
   "execution_count": null,
   "id": "8f3c06f9-a434-4fdf-9b26-6095b08360f9",
   "metadata": {},
   "outputs": [],
   "source": [
    "# Apply the threshold to classify fatal cases\n",
    "y_pred_adjusted = (fatal_probs >= best_threshold).astype(int)"
   ]
  },
  {
   "cell_type": "code",
   "execution_count": null,
   "id": "5f500a24-3eb2-45dd-819a-af01e0f76234",
   "metadata": {},
   "outputs": [],
   "source": [
    "# Generate classification report after adjusting the threshold\n",
    "print(f\"Best Threshold: {best_threshold}\")\n",
    "print(\"Classification report after further threshold tuning:\")\n",
    "print(classification_report(y_test == 2, y_pred_adjusted))"
   ]
  },
  {
   "cell_type": "markdown",
   "id": "e8e96910-d1c6-489c-bc63-03175a7c8fa2",
   "metadata": {},
   "source": [
    "Apply ML model v2---->"
   ]
  },
  {
   "cell_type": "code",
   "execution_count": null,
   "id": "eaa27138-8ede-4e14-ae56-4d445639952f",
   "metadata": {},
   "outputs": [],
   "source": [
    "# Define class weights to penalize misclassifications of Class 2 (Fatal)\n",
    "class_weights = {1: 1, 2: 20, 3: 1, 4: 1}  # Increase weight for Class 2\n",
    "\n",
    "# Train the Random Forest classifier with class weights\n",
    "rf_model = RandomForestClassifier(random_state=42, class_weight=class_weights)\n",
    "rf_model.fit(X_train, y_train)\n",
    "\n",
    "# Predict on the test set\n",
    "y_pred = rf_model.predict(X_test)\n",
    "\n",
    "# Generate classification report\n",
    "print(\"Cost-Sensitive Random Forest Classification Report:\")\n",
    "print(classification_report(y_test, y_pred))\n"
   ]
  },
  {
   "cell_type": "code",
   "execution_count": null,
   "id": "abfdec17-e0a6-44f4-9f70-aa9c8431bae2",
   "metadata": {},
   "outputs": [],
   "source": [
    "Apply ML model v3---->"
   ]
  },
  {
   "cell_type": "code",
   "execution_count": null,
   "id": "5237f608-c680-465f-9fad-caf38157b658",
   "metadata": {},
   "outputs": [],
   "source": [
    "# Create interaction features for more complex relationships\n",
    "\n",
    "# Interaction between lighting conditions and time of accident (e.g., night-time accidents may be more fatal)\n",
    "data_processed['lighting_time_interaction'] = data_processed['lum'] * data_processed['time']\n",
    "\n",
    "# Interaction between weather conditions and location (e.g., certain locations may be more dangerous in bad weather)\n",
    "data_processed['weather_location_interaction'] = data_processed['atm_condition'] * (data_processed['lat'] + data_processed['long'])\n",
    "\n",
    "# Update the feature list with the new interaction terms\n",
    "features.extend(['lighting_time_interaction', 'weather_location_interaction'])\n",
    "\n",
    "# Re-train the model with the new features included\n",
    "X = data_processed[features]\n",
    "X_train, X_test, y_train, y_test = train_test_split(X, y, test_size=0.2, random_state=42)\n",
    "\n",
    "# Apply SMOTE for balancing the classes\n",
    "smote = SMOTE()\n",
    "X_res, y_res = smote.fit_resample(X_train, y_train)\n",
    "\n",
    "# Train the Random Forest model with the newly engineered features and class weights\n",
    "rf_model.fit(X_res, y_res)\n",
    "\n",
    "# Predict on the test set\n",
    "y_pred = rf_model.predict(X_test)\n",
    "\n",
    "# Generate classification report\n",
    "print(\"Random Forest Classification Report with Feature Engineering:\")\n",
    "print(classification_report(y_test, y_pred))\n"
   ]
  },
  {
   "cell_type": "code",
   "execution_count": null,
   "id": "deed041a-0114-439f-8dea-4dd4ce0ed4fa",
   "metadata": {},
   "outputs": [],
   "source": [
    "Apply ML model v4---->"
   ]
  },
  {
   "cell_type": "code",
   "execution_count": null,
   "id": "616b7a30-d224-4793-87f1-39502d0bd393",
   "metadata": {},
   "outputs": [],
   "source": [
    "import numpy as np\n",
    "from sklearn.metrics import precision_recall_curve\n",
    "\n",
    "# Get the prediction probabilities for the test set\n",
    "y_probs = rf_model.predict_proba(X_test)\n",
    "\n",
    "# Extract the probabilities for Class 2 (Fatal)\n",
    "fatal_probs = y_probs[:, np.where(rf_model.classes_ == 2)[0][0]]  \n",
    "\n",
    "# Use precision-recall curve to evaluate different thresholds\n",
    "precision, recall, thresholds = precision_recall_curve(y_test == 2, fatal_probs)\n",
    "\n",
    "# Find the best threshold for an optimal balance of precision and recall (based on F1 score)\n",
    "f1_scores = 2 * (precision * recall) / (precision + recall)\n",
    "best_threshold_index = np.argmax(f1_scores)\n",
    "best_threshold = thresholds[best_threshold_index]\n",
    "\n",
    "# Apply the best threshold\n",
    "y_pred_threshold = (fatal_probs >= best_threshold).astype(int)\n",
    "\n",
    "# Generate classification report for the adjusted threshold\n",
    "print(f\"Best Threshold: {best_threshold}\")\n",
    "print(\"Classification report after further threshold adjustment:\")\n",
    "print(classification_report(y_test == 2, y_pred_threshold))\n"
   ]
  },
  {
   "cell_type": "code",
   "execution_count": null,
   "id": "fbdc3107-72cb-4abc-bd62-acf4042f6321",
   "metadata": {},
   "outputs": [],
   "source": []
  }
 ],
 "metadata": {
  "kernelspec": {
   "display_name": "Python 3 (ipykernel)",
   "language": "python",
   "name": "python3"
  },
  "language_info": {
   "codemirror_mode": {
    "name": "ipython",
    "version": 3
   },
   "file_extension": ".py",
   "mimetype": "text/x-python",
   "name": "python",
   "nbconvert_exporter": "python",
   "pygments_lexer": "ipython3",
   "version": "3.11.7"
  }
 },
 "nbformat": 4,
 "nbformat_minor": 5
}
