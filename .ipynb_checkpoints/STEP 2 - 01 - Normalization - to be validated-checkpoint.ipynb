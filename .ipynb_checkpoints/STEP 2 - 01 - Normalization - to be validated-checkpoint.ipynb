{
 "cells": [
  {
   "cell_type": "code",
   "execution_count": 1,
   "id": "2ac57e56-9eee-4b53-934d-4d3b9709233d",
   "metadata": {},
   "outputs": [],
   "source": [
    "# Import the necessary packages\n",
    "import pandas as pd\n",
    "from sklearn.model_selection import train_test_split\n",
    "from sklearn.metrics import classification_report, confusion_matrix\n",
    "from sklearn.linear_model import LogisticRegression\n",
    "from sklearn.preprocessing import StandardScaler\n",
    "\n",
    "\n",
    "from imblearn.over_sampling import SMOTE\n",
    "from sklearn.ensemble import RandomForestClassifier\n",
    "from sklearn.preprocessing import LabelEncoder\n",
    "from sklearn.model_selection import GridSearchCV"
   ]
  },
  {
   "cell_type": "code",
   "execution_count": 2,
   "id": "06440db9-f792-4057-bb2d-c18b0f824a65",
   "metadata": {},
   "outputs": [],
   "source": [
    "# Load dataset\n",
    "data = pd.read_csv('source/data_balanced.csv')"
   ]
  },
  {
   "cell_type": "code",
   "execution_count": 3,
   "id": "dc0a733c-4a3e-4799-ac5e-e03e63ee8c3d",
   "metadata": {},
   "outputs": [],
   "source": [
    "# Select the features and target variable\n",
    "features = ['lum', 'atm_condition', 'collision_type', 'route_category', 'traffic_regime', 'reserved_lane_code',\n",
    "            'longitudinal_profile', 'upstream_terminal_number', 'plan', 'surface_condition', 'infra',\n",
    "            'accident_situation', 'traffic_direction', 'vehicle_category', 'fixed_obstacle', 'mobile_obstacle',\n",
    "            'initial_impact_point', 'manv', 'motor', 'seat', 'user_category', 'gender', 'reason_travel',\n",
    "            'safety_equipment1', 'maximum_speed', 'age', 'lat', 'long', 'distance_upstream_terminal',\n",
    "            'total_number_lanes', 'day', 'month', 'year', 'time']\n",
    "target = 'gravity'"
   ]
  },
  {
   "cell_type": "code",
   "execution_count": 4,
   "id": "d1469770-a757-4920-8e5c-96af87cdf7d9",
   "metadata": {},
   "outputs": [],
   "source": [
    "# Define the hyperparameters to tune\n",
    "param_grid = {\n",
    "    'n_estimators': [100, 200, 300],           # Number of trees\n",
    "    'max_depth': [10, 20, 30],                 # Maximum depth of trees\n",
    "    'min_samples_split': [2, 5, 10],           # Minimum samples required to split\n",
    "    'min_samples_leaf': [1, 2, 4],             # Minimum samples in leaf nodes\n",
    "    'max_features': ['auto', 'sqrt'],          # Number of features to consider at each split\n",
    "    'bootstrap': [True, False],                # Whether bootstrap samples are used\n",
    "    'class_weight': [{1: 1, 2: 20, 3: 1, 4: 1}] # Increased weight for fatalities\n",
    "}"
   ]
  },
  {
   "cell_type": "code",
   "execution_count": null,
   "id": "66dc8b1f-6f90-4e75-8774-10de2ce3b6ed",
   "metadata": {},
   "outputs": [],
   "source": []
  }
 ],
 "metadata": {
  "kernelspec": {
   "display_name": "Python 3 (ipykernel)",
   "language": "python",
   "name": "python3"
  },
  "language_info": {
   "codemirror_mode": {
    "name": "ipython",
    "version": 3
   },
   "file_extension": ".py",
   "mimetype": "text/x-python",
   "name": "python",
   "nbconvert_exporter": "python",
   "pygments_lexer": "ipython3",
   "version": "3.11.7"
  }
 },
 "nbformat": 4,
 "nbformat_minor": 5
}
