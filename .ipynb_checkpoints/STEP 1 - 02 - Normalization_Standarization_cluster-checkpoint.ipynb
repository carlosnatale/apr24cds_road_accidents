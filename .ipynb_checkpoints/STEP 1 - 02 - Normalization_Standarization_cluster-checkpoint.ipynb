{
 "cells": [
  {
   "cell_type": "code",
   "execution_count": 1,
   "id": "6159ef34-0d25-462e-bac0-bf5e5fba22f7",
   "metadata": {},
   "outputs": [],
   "source": [
    "# Import libraries needed to execute the code\n",
    "import os\n",
    "import warnings\n",
    "import numpy as np\n",
    "import pandas as pd"
   ]
  },
  {
   "cell_type": "code",
   "execution_count": 2,
   "id": "f20fc511-87fb-4abb-92ed-e2a8dd019b8a",
   "metadata": {},
   "outputs": [],
   "source": [
    "# Import the clean data\n",
    "df = pd.read_csv('source/data_balanced.csv', low_memory=False)"
   ]
  },
  {
   "cell_type": "code",
   "execution_count": 3,
   "id": "5f5eba64-3b89-4f92-8ce3-5d55748422b5",
   "metadata": {},
   "outputs": [],
   "source": [
    "# Splitting the dataframe into different categories as per the image provided\n",
    "df_identifiers = df[['AccID', 'vehicleID', 'num_veh']]\n",
    "df_temporal = df[['birth_year', 'day', 'month', 'year', 'time']]\n",
    "df_spatial = df[['lat', 'long']]\n",
    "df_accident_characteristics = df[['collision_type', 'initial_impact_point', 'fixed_obstacle', 'mobile_obstacle', 'accident_situation']]\n",
    "df_environmental = df[['lum', 'atm_condition']]\n",
    "df_demographic = df[['user_category', 'gender', 'age']]\n",
    "df_vehicle_specific = df[['vehicle_category', 'motor']]\n",
    "df_human_factors = df[['maximum_speed', 'manv', 'seat', 'reason_travel', 'safety_equipment1']]\n",
    "df_target_variable = df[['gravity']]\n",
    "df_road_characteristics = df[['route_category', 'traffic_regime', 'total_number_lanes', 'upstream_terminal_number', 'distance_upstream_terminal', 'plan', 'surface_condition', 'infra', 'traffic_direction', 'reserved_lane_code', 'longitudinal_profile']]\n",
    "df_all = df.drop(columns=['gravity'])"
   ]
  },
  {
   "cell_type": "code",
   "execution_count": 4,
   "id": "8c92c726-a070-4c63-87f0-0103aaf1af18",
   "metadata": {},
   "outputs": [
    {
     "name": "stderr",
     "output_type": "stream",
     "text": [
      "C:\\Users\\sd10725\\AppData\\Local\\Temp\\ipykernel_17608\\1866457079.py:2: SettingWithCopyWarning: \n",
      "A value is trying to be set on a copy of a slice from a DataFrame.\n",
      "Try using .loc[row_indexer,col_indexer] = value instead\n",
      "\n",
      "See the caveats in the documentation: https://pandas.pydata.org/pandas-docs/stable/user_guide/indexing.html#returning-a-view-versus-a-copy\n",
      "  df_target_variable['gravity_category'] = pd.cut(\n"
     ]
    },
    {
     "ename": "NameError",
     "evalue": "name 'train_test_split' is not defined",
     "output_type": "error",
     "traceback": [
      "\u001b[1;31m---------------------------------------------------------------------------\u001b[0m",
      "\u001b[1;31mNameError\u001b[0m                                 Traceback (most recent call last)",
      "Cell \u001b[1;32mIn[4], line 34\u001b[0m\n\u001b[0;32m     31\u001b[0m     \u001b[38;5;28;01mreturn\u001b[39;00m accuracy, report\n\u001b[0;32m     33\u001b[0m \u001b[38;5;66;03m# Evaluate model for each dataframe again\u001b[39;00m\n\u001b[1;32m---> 34\u001b[0m accuracy_identifiers, report_identifiers \u001b[38;5;241m=\u001b[39m \u001b[43mevaluate_model\u001b[49m\u001b[43m(\u001b[49m\u001b[43mdf_identifiers\u001b[49m\u001b[43m,\u001b[49m\u001b[43m \u001b[49m\u001b[43my\u001b[49m\u001b[43m)\u001b[49m\n\u001b[0;32m     35\u001b[0m accuracy_temporal, report_temporal \u001b[38;5;241m=\u001b[39m evaluate_model(df_temporal, y)\n\u001b[0;32m     36\u001b[0m accuracy_spatial, report_spatial \u001b[38;5;241m=\u001b[39m evaluate_model(df_spatial, y)\n",
      "Cell \u001b[1;32mIn[4], line 14\u001b[0m, in \u001b[0;36mevaluate_model\u001b[1;34m(df, y)\u001b[0m\n\u001b[0;32m     12\u001b[0m \u001b[38;5;28;01mdef\u001b[39;00m \u001b[38;5;21mevaluate_model\u001b[39m(df, y):\n\u001b[0;32m     13\u001b[0m     \u001b[38;5;66;03m# Split the data into training and testing sets\u001b[39;00m\n\u001b[1;32m---> 14\u001b[0m     X_train, X_test, y_train, y_test \u001b[38;5;241m=\u001b[39m \u001b[43mtrain_test_split\u001b[49m(df, y, test_size\u001b[38;5;241m=\u001b[39m\u001b[38;5;241m0.3\u001b[39m, random_state\u001b[38;5;241m=\u001b[39m\u001b[38;5;241m42\u001b[39m)\n\u001b[0;32m     16\u001b[0m     \u001b[38;5;66;03m# Initialize the Random Forest Classifier\u001b[39;00m\n\u001b[0;32m     17\u001b[0m     model \u001b[38;5;241m=\u001b[39m RandomForestClassifier(random_state\u001b[38;5;241m=\u001b[39m\u001b[38;5;241m42\u001b[39m)\n",
      "\u001b[1;31mNameError\u001b[0m: name 'train_test_split' is not defined"
     ]
    }
   ],
   "source": [
    "# Categorizing the 'gravity' variable into three discrete categories: Low, Medium, High\n",
    "df_target_variable['gravity_category'] = pd.cut(\n",
    "    df_target_variable['gravity'], \n",
    "    bins=[-float('inf'), -1.119, -0.755756, float('inf')], \n",
    "    labels=['Low', 'Medium', 'High']\n",
    ")\n",
    "\n",
    "# Updating the target variable to the new categorical 'gravity_category'\n",
    "y = df_target_variable['gravity_category']\n",
    "\n",
    "# Re-evaluating the models with the new target variable\n",
    "def evaluate_model(df, y):\n",
    "    # Split the data into training and testing sets\n",
    "    X_train, X_test, y_train, y_test = train_test_split(df, y, test_size=0.3, random_state=42)\n",
    "    \n",
    "    # Initialize the Random Forest Classifier\n",
    "    model = RandomForestClassifier(random_state=42)\n",
    "    \n",
    "    # Train the model\n",
    "    model.fit(X_train, y_train)\n",
    "    \n",
    "    # Predict on the test set\n",
    "    y_pred = model.predict(X_test)\n",
    "    \n",
    "    # Calculate accuracy\n",
    "    accuracy = accuracy_score(y_test, y_pred)\n",
    "    \n",
    "    # Generate a classification report\n",
    "    report = classification_report(y_test, y_pred, output_dict=True)\n",
    "    \n",
    "    return accuracy, report\n",
    "\n",
    "# Evaluate model for each dataframe again\n",
    "accuracy_identifiers, report_identifiers = evaluate_model(df_identifiers, y)\n",
    "accuracy_temporal, report_temporal = evaluate_model(df_temporal, y)\n",
    "accuracy_spatial, report_spatial = evaluate_model(df_spatial, y)\n",
    "accuracy_accident_characteristics, report_accident_characteristics = evaluate_model(df_accident_characteristics, y)\n",
    "accuracy_environmental, report_environmental = evaluate_model(df_environmental, y)\n",
    "accuracy_demographic, report_demographic = evaluate_model(df_demographic, y)\n",
    "accuracy_vehicle_specific, report_vehicle_specific = evaluate_model(df_vehicle_specific, y)\n",
    "accuracy_human_factors, report_human_factors = evaluate_model(df_human_factors, y)\n",
    "accuracy_road_characteristics, report_road_characteristics = evaluate_model(df_road_characteristics, y)\n",
    "accuracy_all_data, report_all_data = evaluate_model(df_all, y)\n",
    "\n",
    "\n",
    "# Combine results in a dictionary for comparison\n",
    "results = {\n",
    "    \"Identifiers\": accuracy_identifiers,\n",
    "    \"Temporal\": accuracy_temporal,\n",
    "    \"Spatial\": accuracy_spatial,\n",
    "    \"Accident Characteristics\": accuracy_accident_characteristics,\n",
    "    \"Environmental\": accuracy_environmental,\n",
    "    \"Demographic\": accuracy_demographic,\n",
    "    \"Vehicle Specific\": accuracy_vehicle_specific,\n",
    "    \"Human Factors\": accuracy_human_factors,\n",
    "    \"Road Characteristics\": accuracy_road_characteristics,\n",
    "    \"All fields\": accuracy_all_data\n",
    "\n",
    "}"
   ]
  },
  {
   "cell_type": "code",
   "execution_count": null,
   "id": "e4d7d40d-ecfe-4324-b84a-1dd96e984972",
   "metadata": {},
   "outputs": [],
   "source": [
    "results"
   ]
  },
  {
   "cell_type": "code",
   "execution_count": null,
   "id": "39633338-bd26-4839-ba3c-94448b158cdd",
   "metadata": {},
   "outputs": [],
   "source": []
  }
 ],
 "metadata": {
  "kernelspec": {
   "display_name": "Python 3 (ipykernel)",
   "language": "python",
   "name": "python3"
  },
  "language_info": {
   "codemirror_mode": {
    "name": "ipython",
    "version": 3
   },
   "file_extension": ".py",
   "mimetype": "text/x-python",
   "name": "python",
   "nbconvert_exporter": "python",
   "pygments_lexer": "ipython3",
   "version": "3.11.7"
  }
 },
 "nbformat": 4,
 "nbformat_minor": 5
}
