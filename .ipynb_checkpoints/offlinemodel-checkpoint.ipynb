{
 "cells": [
  {
   "cell_type": "code",
   "execution_count": 1,
   "id": "2334a630-f60e-42d4-b853-38d53f9e6e48",
   "metadata": {},
   "outputs": [],
   "source": [
    "import pandas as pd\n",
    "from sklearn.ensemble import RandomForestClassifier\n",
    "from sklearn.model_selection import train_test_split\n",
    "import pickle\n",
    "\n",
    "# Load your data (assuming output.csv is your dataset)\n",
    "data = pd.read_csv(\"output.csv\")\n",
    "data = data.drop_duplicates()\n",
    "\n",
    "# Prepare your features and target (adjust columns as needed)\n",
    "X = data.drop(columns=['gravity', 'AccID', 'vehicleID', 'num_veh'], errors='ignore')\n",
    "y = data['gravity']\n",
    "\n",
    "# Split data (this is optional if you only need the final model)\n",
    "X_train, X_test, y_train, y_test = train_test_split(X, y, test_size=0.2, random_state=42)\n",
    "\n",
    "# Train your model\n",
    "model = RandomForestClassifier(n_estimators=100, random_state=42)\n",
    "model.fit(X_train, y_train)\n",
    "\n",
    "# Save the trained model\n",
    "with open(\"model.pkl\", \"wb\") as f:\n",
    "    pickle.dump(model, f)\n",
    "\n",
    "# Optionally, save your test data if you want to use it in Streamlit later\n",
    "X_test.to_csv(\"X_test.csv\", index=False)\n"
   ]
  },
  {
   "cell_type": "code",
   "execution_count": null,
   "id": "4d29ec1d-29da-47b8-bf14-3f5f2f70fa54",
   "metadata": {},
   "outputs": [],
   "source": []
  }
 ],
 "metadata": {
  "kernelspec": {
   "display_name": "Python 3 (ipykernel)",
   "language": "python",
   "name": "python3"
  },
  "language_info": {
   "codemirror_mode": {
    "name": "ipython",
    "version": 3
   },
   "file_extension": ".py",
   "mimetype": "text/x-python",
   "name": "python",
   "nbconvert_exporter": "python",
   "pygments_lexer": "ipython3",
   "version": "3.11.7"
  }
 },
 "nbformat": 4,
 "nbformat_minor": 5
}
