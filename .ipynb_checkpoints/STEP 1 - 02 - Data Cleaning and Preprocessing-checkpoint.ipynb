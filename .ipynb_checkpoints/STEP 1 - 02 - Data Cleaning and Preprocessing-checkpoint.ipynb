{
 "cells": [
  {
   "cell_type": "code",
   "execution_count": null,
   "id": "6159ef34-0d25-462e-bac0-bf5e5fba22f7",
   "metadata": {},
   "outputs": [],
   "source": [
    "import os\n",
    "import numpy as np\n",
    "import pandas as pd\n",
    "from datetime import datetime"
   ]
  },
  {
   "cell_type": "code",
   "execution_count": null,
   "id": "ec5b68d4-59f5-4f9f-89d7-15f92235fae3",
   "metadata": {},
   "outputs": [],
   "source": [
    "# Function to load and process files based on the given conditions\n",
    "def process_files(file_list, column_order, rename_dict, drop_column=None):\n",
    "    dfs = []\n",
    "    for file in file_list:\n",
    "        df = pd.read_csv(file, delimiter=';', on_bad_lines='skip', dtype=str)\n",
    "        if \"Accident_Id\" in df.columns:\n",
    "            df.rename(columns={\"Accident_Id\": \"Num_Acc\"}, inplace=True)\n",
    "        if drop_column and drop_column in df.columns:\n",
    "            df.drop(columns=[drop_column], inplace=True)\n",
    "        df = df.reindex(columns=column_order)\n",
    "        dfs.append(df)\n",
    "    combined_df = pd.concat(dfs, ignore_index=True)\n",
    "    combined_df.rename(columns=rename_dict, inplace=True)\n",
    "    return combined_df"
   ]
  },
  {
   "cell_type": "code",
   "execution_count": null,
   "id": "ab8529d4-9fb5-40a1-84a1-704da7aee0bd",
   "metadata": {},
   "outputs": [],
   "source": [
    "# Define file paths\n",
    "source_folder = \"source/\"\n",
    "caracteristiques_files = [os.path.join(source_folder, f) for f in os.listdir(source_folder) if f.startswith(\"caracteristiques\")]\n",
    "lieux_files = [os.path.join(source_folder, f) for f in os.listdir(source_folder) if f.startswith(\"lieux\")]\n",
    "usagers_files = [os.path.join(source_folder, f) for f in os.listdir(source_folder) if f.startswith(\"usagers\")]\n",
    "vehicules_files = [os.path.join(source_folder, f) for f in os.listdir(source_folder) if f.startswith(\"vehicules\")]"
   ]
  },
  {
   "cell_type": "code",
   "execution_count": null,
   "id": "c907a9d7-90b5-4773-8c70-fb72716f204e",
   "metadata": {},
   "outputs": [],
   "source": [
    "# Define column orders and rename dictionaries\n",
    "caracteristiques_columns = [\"Num_Acc\", \"jour\", \"mois\", \"an\", \"hrmn\", \"lum\", \"dep\", \"com\", \"agg\", \"int\", \"atm\", \"col\", \"adr\", \"lat\", \"long\"]\n",
    "caracteristiques_rename = {\"Num_Acc\": \"AccID\", \"jour\": \"day\", \"mois\": \"month\", \"an\": \"year\", \"hrmn\": \"time\", \"lum\": \"lum\", \n",
    "                           \"dep\": \"dep_code\", \"com\": \"com_code\", \"agg\": \"location\", \"int\": \"int\", \"atm\": \"atm_condition\", \n",
    "                           \"col\": \"collision_type\", \"adr\": \"address\", \"lat\": \"lat\", \"long\": \"long\"}\n",
    "\n",
    "lieux_columns = [\"Num_Acc\", \"catr\", \"voie\", \"v1\", \"v2\", \"circ\", \"nbv\", \"vosp\", \"prof\", \"pr\", \"pr1\", \"plan\", \"lartpc\", \n",
    "                 \"larrout\", \"surf\", \"infra\", \"situ\", \"vma\"]\n",
    "lieux_rename = {\"Num_Acc\": \"AccID\", \"catr\": \"route_category\", \"voie\": \"route_number\", \"v1\": \"route_number_index1\", \n",
    "                \"v2\": \"alph_route_index\", \"circ\": \"traffic_regime\", \"nbv\": \"total_number_lanes\", \"vosp\": \"reserved_lane_code\", \n",
    "                \"prof\": \"longitudinal_profile\", \"pr\": \"upstream_terminal_number\", \"pr1\": \"distance_upstream_terminal\", \n",
    "                \"plan\": \"plan\", \"lartpc\": \"width_central_reservation\", \"larrout\": \"width_roadway\", \"surf\": \"surface_condition\", \n",
    "                \"infra\": \"infra\", \"situ\": \"accident_situation\", \"vma\": \"maximum_speed\"}\n",
    "\n",
    "usagers_columns = [\"Num_Acc\", \"id_vehicule\", \"num_veh\", \"place\", \"catu\", \"grav\", \"sexe\", \"an_nais\", \"trajet\", \"secu1\", \n",
    "                   \"secu2\", \"secu3\", \"locp\", \"actp\", \"etatp\"]\n",
    "usagers_rename = {\"Num_Acc\": \"AccID\", \"id_vehicule\": \"vehicleID\", \"num_veh\": \"num_veh\", \"place\": \"seat\", \"catu\": \"user_category\", \n",
    "                  \"grav\": \"gravity\", \"sexe\": \"gender\", \"an_nais\": \"birth_year\", \"trajet\": \"reason_travel\", \"secu1\": \"safety_equipment1\", \n",
    "                  \"secu2\": \"safety_equipment2\", \"secu3\": \"safety_equipment3\", \"locp\": \"pedestrian_location\", \"actp\": \"pedestrian_action\", \n",
    "                  \"etatp\": \"pedestrian_involved\"}\n",
    "\n",
    "vehicules_columns = [\"Num_Acc\", \"id_vehicule\", \"num_veh\", \"senc\", \"catv\", \"obs\", \"obsm\", \"choc\", \"manv\", \"motor\", \"occutc\"]\n",
    "vehicules_rename = {\"Num_Acc\": \"AccID\", \"id_vehicule\": \"vehicleID\", \"num_veh\": \"num_veh\", \"senc\": \"traffic_direction\", \n",
    "                    \"catv\": \"vehicle_category\", \"obs\": \"fixed_obstacle\", \"obsm\": \"mobile_obstacle\", \"choc\": \"initial_impact_point\", \n",
    "                    \"manv\": \"manv\", \"motor\": \"motor\", \"occutc\": \"number_occupants_publictransport\"}"
   ]
  },
  {
   "cell_type": "code",
   "execution_count": null,
   "id": "9783ede6-1892-4eaf-8768-9e523b5893e5",
   "metadata": {},
   "outputs": [],
   "source": [
    "# Process each group of files\n",
    "characteristics = process_files(caracteristiques_files, caracteristiques_columns, caracteristiques_rename)\n",
    "locations = process_files(lieux_files, lieux_columns, lieux_rename)\n",
    "users = process_files(usagers_files, usagers_columns, usagers_rename, drop_column=\"id_usager\")\n",
    "vehicles = process_files(vehicules_files, vehicules_columns, vehicules_rename)"
   ]
  },
  {
   "cell_type": "code",
   "execution_count": null,
   "id": "1d561f35-0d0f-42c4-ae94-8425216f0a79",
   "metadata": {},
   "outputs": [],
   "source": [
    "# Function to replace '#ERREUR' values with NaN and convert to numeric type\n",
    "def clean_column(column):\n",
    "    return pd.to_numeric(column.replace('#ERREUR', np.nan), errors='coerce').astype(pd.Int64Dtype())\n",
    "\n",
    "# Function to check if there are any '#ERREUR' values in each column\n",
    "def check_error_values(df):\n",
    "    error_columns = []\n",
    "    for column in df.columns:\n",
    "        if df[column].astype(str).str.contains('#ERREUR').any():\n",
    "            error_columns.append(column)\n",
    "    return error_columns"
   ]
  },
  {
   "cell_type": "code",
   "execution_count": null,
   "id": "31edfc12-3dd4-435a-a89b-6e7bd0f82c26",
   "metadata": {},
   "outputs": [],
   "source": [
    "# Get the columns that contain '#ERREUR'\n",
    "characteristics_with_errors = check_error_values(characteristics)\n",
    "print(characteristics_with_errors)\n"
   ]
  },
  {
   "cell_type": "code",
   "execution_count": null,
   "id": "9c0be95e-3dff-40e4-bf46-5e30c0f88026",
   "metadata": {},
   "outputs": [],
   "source": [
    "print(characteristics.nunique())\n",
    "print(characteristics.isna().sum() / len(characteristics))\n",
    "print(characteristics.info())\n",
    "print(characteristics.isna().sum())\n"
   ]
  },
  {
   "cell_type": "code",
   "execution_count": null,
   "id": "ff2a46ff-c2e2-468c-be7d-371c1e1b1b49",
   "metadata": {},
   "outputs": [],
   "source": [
    "# Convert 'lat' and 'long' fields to float in the 'characteristics' dataframe\n",
    "characteristics['lat'] = characteristics['lat'].str.replace(',', '.').astype(float)\n",
    "characteristics['long'] = characteristics['long'].str.replace(',', '.').astype(float)\n",
    "\n",
    "# Convert 'time' field to proper time format in the 'characteristics' dataframe\n",
    "characteristics['time'] = pd.to_datetime(characteristics['time'], format='%H:%M').dt.time\n",
    "\n",
    "# Convert 'day', 'month', and 'year' fields to integer in the 'characteristics' dataframe\n",
    "characteristics['day'] = pd.to_numeric(characteristics['day'], errors='coerce').astype(pd.Int64Dtype())\n",
    "characteristics['month'] = pd.to_numeric(characteristics['month'], errors='coerce').astype(pd.Int64Dtype())\n",
    "characteristics['year'] = pd.to_numeric(characteristics['year'], errors='coerce').astype(pd.Int64Dtype())\n",
    "\n",
    "# Drop fields with a large number of missing values and exclude outliers\n",
    "characteristics = characteristics.drop(['address'], axis=1)"
   ]
  },
  {
   "cell_type": "code",
   "execution_count": null,
   "id": "bf281ff4-42a1-4638-85b0-b10f1c34d85b",
   "metadata": {},
   "outputs": [],
   "source": [
    "locations_with_errors = check_error_values(locations)\n",
    "print(locations_with_errors)"
   ]
  },
  {
   "cell_type": "code",
   "execution_count": null,
   "id": "196e6ad1-3d00-4de2-9def-2d8a7cae49dd",
   "metadata": {},
   "outputs": [],
   "source": [
    "print(locations.nunique())\n",
    "print(locations.isna().sum() / len(locations))\n",
    "print (locations.info())\n",
    "print(locations.isna().sum())"
   ]
  },
  {
   "cell_type": "code",
   "execution_count": null,
   "id": "2b348fe4-93cc-431f-9a49-afbb51eed4e3",
   "metadata": {},
   "outputs": [],
   "source": [
    "# Replace invalid literals with NaN and convert specified columns in 'locations' dataframe\n",
    "locations['total_number_lanes'] = pd.to_numeric(locations['total_number_lanes'].replace('#ERREUR', np.nan), errors='coerce').astype(pd.Int64Dtype())\n",
    "locations['maximum_speed'] = pd.to_numeric(locations['maximum_speed'], errors='coerce').astype(pd.Int64Dtype())\n",
    "average_number_lanes = int(locations['total_number_lanes'].mean())\n",
    "locations['total_number_lanes'] = locations['total_number_lanes'].fillna(average_number_lanes).astype(int)\n",
    "locations['upstream_terminal_number'] = locations['upstream_terminal_number'].replace('(1)', 1)\n",
    "\n",
    "# Drop fields with a large number of missing values and exclude outliers\n",
    "locations = locations.drop(['alph_route_index', 'distance_upstream_terminal', 'width_central_reservation', 'width_roadway', 'route_number', 'route_number_index1'], axis=1)\n"
   ]
  },
  {
   "cell_type": "code",
   "execution_count": null,
   "id": "4783a631-b43e-4084-8a1b-66625b9c4fa4",
   "metadata": {},
   "outputs": [],
   "source": [
    "# Insert the code\n",
    "IQR_maximum_speed = locations[\"maximum_speed\"].quantile(0.75)-locations[\"maximum_speed\"].quantile(0.25)\n",
    "# Lower bound\n",
    "I1_maximum_speed = locations[\"maximum_speed\"].quantile(0.25) - 1.5 * IQR_maximum_speed\n",
    "\n",
    "# Upper bound\n",
    "I2_maximum_speed = locations[\"maximum_speed\"].quantile(0.75) + 1.5 * IQR_maximum_speed\n",
    "print()\n",
    "print(\"IQR :\", IQR_maximum_speed, end=\"\\n\\n\")\n",
    "print(\"Range :[\", I1_maximum_speed, \";\", I2_maximum_speed, \"]\")\n",
    "locations.loc[(locations['maximum_speed'] < -1) | (locations['maximum_speed'] >125), 'maximum_speed']"
   ]
  },
  {
   "cell_type": "code",
   "execution_count": null,
   "id": "d46054da-518f-4ce9-95f2-8974895a0e4b",
   "metadata": {},
   "outputs": [],
   "source": [
    "vehicles_with_errors = check_error_values(vehicles)\n",
    "print(vehicles_with_errors)"
   ]
  },
  {
   "cell_type": "code",
   "execution_count": null,
   "id": "bc12fe7e-9606-40dc-a0ae-bbf25af5ae98",
   "metadata": {},
   "outputs": [],
   "source": [
    "print(vehicles.nunique())\n",
    "print(vehicles.isna().sum() / len(vehicles))\n",
    "print (vehicles.info())\n",
    "print(vehicles.isna().sum())"
   ]
  },
  {
   "cell_type": "code",
   "execution_count": null,
   "id": "dc17db6b-798b-4b07-aa83-ad9cb92c8e88",
   "metadata": {},
   "outputs": [],
   "source": [
    "# Drop fields with a large number of missing values and exclude outliers\n",
    "vehicles = vehicles.drop(['number_occupants_publictransport'], axis=1)\n"
   ]
  },
  {
   "cell_type": "code",
   "execution_count": null,
   "id": "0f946f91-f19e-45b8-b3af-2285b4ca534c",
   "metadata": {},
   "outputs": [],
   "source": [
    "users_with_errors = check_error_values(users)\n",
    "print(users_with_errors)"
   ]
  },
  {
   "cell_type": "code",
   "execution_count": null,
   "id": "d05bed45-437c-4c5e-a8bd-02ee22fb2adc",
   "metadata": {},
   "outputs": [],
   "source": [
    "print(users.nunique())\n",
    "print(users.isna().sum() / len(users))\n",
    "print (users.info())\n",
    "print(users.isna().sum())"
   ]
  },
  {
   "cell_type": "code",
   "execution_count": null,
   "id": "96c34564-a996-448e-9901-bb0e1f51bc36",
   "metadata": {},
   "outputs": [],
   "source": [
    "# Replace invalid literals with NaN and convert specified columns in 'users' dataframe\n",
    "#users['birth_year'] = users['birth_year'].replace('#ERREUR', np.nan)\n",
    "users['birth_year'] = pd.to_numeric(users['birth_year'], errors='coerce')\n",
    "average_birth_year = int(users['birth_year'].mean())\n",
    "users['birth_year'] = users['birth_year'].fillna(average_birth_year).astype(int)\n",
    "\n",
    "#Calculate 'age'\n",
    "current_year = datetime.now().year\n",
    "users['age'] = current_year - users['birth_year']"
   ]
  },
  {
   "cell_type": "code",
   "execution_count": null,
   "id": "0b826c08-7309-4f17-9b26-178382d6c203",
   "metadata": {},
   "outputs": [],
   "source": [
    "# Insert the code\n",
    "IQR = users[\"age\"].quantile(0.75)-users[\"age\"].quantile(0.25)\n",
    "# Lower bound\n",
    "I1 = users[\"age\"].quantile(0.25) - 1.5 * IQR\n",
    "\n",
    "# Upper bound\n",
    "I2 = users[\"age\"].quantile(0.75) + 1.5 * IQR\n",
    "print()\n",
    "print(\"IQR :\", IQR, end=\"\\n\\n\")\n",
    "print(\"Range :[\", I1, \";\", I2, \"]\")\n",
    "\n",
    "users.loc[(users['age'] < 0) | (users['age'] > 97), 'age']"
   ]
  },
  {
   "cell_type": "code",
   "execution_count": null,
   "id": "6b71ec22-7cbc-420a-9a68-308bb106638a",
   "metadata": {},
   "outputs": [],
   "source": [
    "print((characteristics == \" -1\").sum() / len(users))\n",
    "print((locations == \" -1\").sum() / len(users))\n",
    "print((users == \" -1\").sum() / len(users))\n",
    "print((vehicles == \" -1\").sum() / len(users))\n"
   ]
  },
  {
   "cell_type": "code",
   "execution_count": null,
   "id": "f117c390-f90f-4cef-ace5-43b8e78f11a5",
   "metadata": {},
   "outputs": [],
   "source": [
    "# Drop fields with a large number of missing values and exclude outliers\n",
    "characteristics = characteristics[characteristics['lum'] != ' -1']\n",
    "characteristics = characteristics[characteristics['int'] != ' -1']\n",
    "characteristics = characteristics[characteristics['atm_condition'] != ' -1']\n",
    "characteristics = characteristics[characteristics['collision_type'] != ' -1']\n",
    "\n",
    "\n",
    "locations = locations[locations['plan'] != ' -1']\n",
    "locations = locations[locations['infra'] != ' -1']\n",
    "locations = locations[locations['traffic_regime'] != ' -1']\n",
    "locations = locations[locations['reserved_lane_code'] != ' -1']\n",
    "locations = locations[locations['surface_condition'] != ' -1']\n",
    "locations = locations[locations['accident_situation'] != ' -1']\n",
    "locations = locations[locations['longitudinal_profile'] != ' -1']\n",
    "locations = locations[(locations['maximum_speed'] >= 5) & (locations['maximum_speed'] <= 125)]\n",
    "\n",
    "vehicles = vehicles[vehicles['motor'] != ' -1']\n",
    "vehicles = vehicles[vehicles['manv'] != ' -1']\n",
    "vehicles = vehicles[vehicles['fixed_obstacle'] != ' -1']\n",
    "vehicles = vehicles[vehicles['mobile_obstacle'] != ' -1']\n",
    "vehicles = vehicles[vehicles['vehicle_category'] != ' -1']\n",
    "vehicles = vehicles[vehicles['traffic_direction'] != ' -1']\n",
    "vehicles = vehicles[vehicles['initial_impact_point'] != ' -1']\n",
    "\n",
    "users = users.drop(['safety_equipment2', 'safety_equipment3', 'pedestrian_location', 'pedestrian_action', 'pedestrian_involved'], axis=1)\n",
    "users = users[users['seat'] != ' -1']\n",
    "users = users[users['gender'] != ' -1']\n",
    "users = users[users['gravity'] != ' -1']\n",
    "users = users[users['reason_travel'] != ' -1']\n",
    "users = users[users['safety_equipment1'] != ' -1']\n",
    "users = users[(users['age'] >= 0) & (users['age'] <= 97)]"
   ]
  },
  {
   "cell_type": "markdown",
   "id": "581b10a7-0a22-49f2-9883-e95e2de9abce",
   "metadata": {},
   "source": [
    "<font size=\"6\">  \n",
    "    Merge Dataframes\n",
    "</font> "
   ]
  },
  {
   "cell_type": "code",
   "execution_count": null,
   "id": "2ec2d28b-130b-4211-a237-e8b97359f06b",
   "metadata": {},
   "outputs": [],
   "source": [
    "# Merge dataframes on AccID\n",
    "data = characteristics.merge(locations, on='AccID').merge(users, on='AccID').merge(vehicles, on='AccID')"
   ]
  },
  {
   "cell_type": "code",
   "execution_count": null,
   "id": "69c89010-cbd5-4721-b460-53d5e5a83e6e",
   "metadata": {},
   "outputs": [],
   "source": [
    "# Delete duplicate rows\n",
    "data = data.drop_duplicates()"
   ]
  },
  {
   "cell_type": "code",
   "execution_count": null,
   "id": "9380fa34-ab09-4137-975c-18ea552587a9",
   "metadata": {},
   "outputs": [],
   "source": [
    "data.info()"
   ]
  },
  {
   "cell_type": "code",
   "execution_count": null,
   "id": "5534bd4a-fafc-4432-b56c-b37caac669b4",
   "metadata": {},
   "outputs": [],
   "source": [
    "pd.set_option('display.max_columns', None)\n",
    "data.head(50)"
   ]
  },
  {
   "cell_type": "markdown",
   "id": "9a402966-2ed2-4099-b971-4c4918b6671c",
   "metadata": {},
   "source": [
    "<font size=\"6\">  \n",
    "    Export Dataframes\n",
    "</font>  "
   ]
  },
  {
   "cell_type": "code",
   "execution_count": null,
   "id": "52c1fe97-f5de-4524-a05e-c4d5033b2c9f",
   "metadata": {},
   "outputs": [],
   "source": [
    "data.to_csv('data.csv', index=False)"
   ]
  },
  {
   "cell_type": "code",
   "execution_count": null,
   "id": "b3405d96-fac9-4419-83d8-caa9d7c572eb",
   "metadata": {},
   "outputs": [],
   "source": []
  }
 ],
 "metadata": {
  "kernelspec": {
   "display_name": "Python 3 (ipykernel)",
   "language": "python",
   "name": "python3"
  },
  "language_info": {
   "codemirror_mode": {
    "name": "ipython",
    "version": 3
   },
   "file_extension": ".py",
   "mimetype": "text/x-python",
   "name": "python",
   "nbconvert_exporter": "python",
   "pygments_lexer": "ipython3",
   "version": "3.11.7"
  }
 },
 "nbformat": 4,
 "nbformat_minor": 5
}
