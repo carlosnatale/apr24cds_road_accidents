{
 "cells": [
  {
   "cell_type": "code",
   "execution_count": null,
   "id": "c6d8715c",
   "metadata": {},
   "outputs": [],
   "source": [
    "import pandas as pd\n",
    "from sklearn.ensemble import RandomForestClassifier\n",
    "from sklearn.model_selection import train_test_split\n",
    "import pickle\n",
    "import shap\n",
    "import lime.lime_tabular\n",
    "import matplotlib.pyplot as plt\n",
    "import numpy as np\n",
    "import pickle\n",
    "import os\n",
    "\n",
    "\n",
    "# Load your data (assuming output.csv is your dataset)\n",
    "data = pd.read_csv(\"output.csv\")\n",
    "data = data.drop_duplicates()\n",
    "\n",
    "# Prepare your features and target (adjust columns as needed)\n",
    "X = data.drop(columns=['gravity', 'AccID', 'vehicleID', 'num_veh'], errors='ignore')\n",
    "y = data['gravity']\n",
    "\n",
    "# Split data (this is optional if you only need the final model)\n",
    "X_train, X_test, y_train, y_test = train_test_split(X, y, test_size=0.2, random_state=42)\n",
    "\n",
    "# Train your model\n",
    "model = RandomForestClassifier(n_estimators=100, random_state=42)\n",
    "model.fit(X_train, y_train)\n",
    "\n",
    "# Save the trained model\n",
    "with open(\"model.pkl\", \"wb\") as f:\n",
    "    pickle.dump(model, f)\n",
    "\n",
    "# Optionally, save your test data if you want to use it in Streamlit later\n",
    "X_test.to_csv(\"X_test.csv\", index=False)\n"
   ]
  },
  {
   "cell_type": "code",
   "execution_count": null,
   "id": "a638ab32",
   "metadata": {},
   "outputs": [],
   "source": [
    "\n",
    "# Determine the correct class index for SHAP dependence plot\n",
    "class_index = 0  # Change this index to visualize other classes (0, 1, 2, 3)\n",
    "\n",
    "# Print SHAP value shapes to check correctness\n",
    "for i, sv in enumerate(shap_values):\n",
    "    print(f\"Class {i}: {sv.shape}\")\n",
    "\n",
    "# SHAP Dependence Plot with correct class selection\n",
    "feature_name = X_sample.columns[0]\n",
    "shap.dependence_plot(feature_name, shap_values[class_index], X_sample, show=False)\n",
    "fig_dependence = plt.gcf()\n"
   ]
  },
  {
   "cell_type": "code",
   "execution_count": null,
   "id": "7d6e24f8",
   "metadata": {},
   "outputs": [],
   "source": []
  }
 ],
 "metadata": {
  "kernelspec": {
   "display_name": "Python 3 (ipykernel)",
   "language": "python",
   "name": "python3"
  },
  "language_info": {
   "codemirror_mode": {
    "name": "ipython",
    "version": 3
   },
   "file_extension": ".py",
   "mimetype": "text/x-python",
   "name": "python",
   "nbconvert_exporter": "python",
   "pygments_lexer": "ipython3",
   "version": "3.11.7"
  }
 },
 "nbformat": 4,
 "nbformat_minor": 5
}
