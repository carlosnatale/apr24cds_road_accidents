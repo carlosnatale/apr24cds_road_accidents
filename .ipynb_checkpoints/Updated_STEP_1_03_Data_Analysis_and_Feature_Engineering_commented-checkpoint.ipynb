{
 "cells": [
  {
   "cell_type": "code",
   "execution_count": null,
   "id": "6159ef34-0d25-462e-bac0-bf5e5fba22f7",
   "metadata": {},
   "outputs": [],
   "source": [
    "# This cell contains code for ... (provide explanation based on content)\n",
    "# Add specific comments based on the functionality and purpose of the code\n",
    "import os\n",
    "import warnings\n",
    "import numpy as np\n",
    "import pandas as pd\n",
    "import seaborn as sns\n",
    "from datetime import datetime\n",
    "import matplotlib.pyplot as plt\n",
    "from sklearn.manifold import TSNE\n",
    "import scipy.cluster.hierarchy as shc\n",
    "from sklearn.decomposition import PCA\n",
    "from IPython.display import display, HTML\n",
    "from scipy.cluster.hierarchy import dendrogram, linkage\n",
    "from pandas.plotting import andrews_curves, parallel_coordinates, lag_plot, autocorrelation_plot, radviz"
   ]
  },
  {
   "cell_type": "code",
   "execution_count": null,
   "id": "f20fc511-87fb-4abb-92ed-e2a8dd019b8a",
   "metadata": {},
   "outputs": [],
   "source": [
    "# This cell contains code for ... (provide explanation based on content)\n",
    "# Add specific comments based on the functionality and purpose of the code\n",
    "data = pd.read_csv('source/data.csv')"
   ]
  },
  {
   "cell_type": "code",
   "execution_count": null,
   "id": "59233688-575c-4fc2-8124-7545da6e15f8",
   "metadata": {},
   "outputs": [],
   "source": [
    "# This cell contains code for ... (provide explanation based on content)\n",
    "# Add specific comments based on the functionality and purpose of the code\n",
    "columns_to_convert = [\n",
    "    'AccID', 'accident_situation', 'atm_condition', 'collision_type', 'com_code', 'dep_code', \n",
    "    'fixed_obstacle', 'gender', 'gravity', 'infra', 'initial_impact_point', 'int', 'location', \n",
    "    'longitudinal_profile', 'lum', 'manv', 'mobile_obstacle', 'motor', 'num_veh_x', 'num_veh_y',\n",
    "    'pedestrian_action', 'pedestrian_location', 'plan', 'reason_travel', 'reserved_lane_code', \n",
    "    'route_category', 'safety_equipment1', 'safety_equipment2', 'safety_equipment3', 'seat', \n",
    "    'surface_condition', 'time', 'traffic_direction', 'traffic_regime', 'upstream_terminal_number', \n",
    "    'user_category', 'vehicle_category', 'vehicleID_x', 'vehicleID_y'\n",
    "]\n",
    "\n",
    "data[columns_to_convert] = data[columns_to_convert].astype('object')\n",
    "\n",
    "\n",
    "data['time'] = pd.to_datetime(data['time'], format='%H:%M:%S').dt.time"
   ]
  },
  {
   "cell_type": "markdown",
   "id": "569dfb75-ff77-4f2c-a1c4-aa0f33f55c29",
   "metadata": {},
   "source": [
    "<font size=\"6\">  \n",
    "    Exploratory analysis\n",
    "</font> "
   ]
  },
  {
   "cell_type": "code",
   "execution_count": null,
   "id": "6438bfa6-4154-42aa-9827-08f7b1eacaa1",
   "metadata": {},
   "outputs": [],
   "source": [
    "# This cell contains code for ... (provide explanation based on content)\n",
    "# Add specific comments based on the functionality and purpose of the code\n",
    "data.describe()"
   ]
  },
  {
   "cell_type": "code",
   "execution_count": null,
   "id": "439fad9b-35d4-4bcd-95cf-0ec458b6b30c",
   "metadata": {},
   "outputs": [],
   "source": [
    "# This cell contains code for ... (provide explanation based on content)\n",
    "# Add specific comments based on the functionality and purpose of the code\n",
    "data.info()"
   ]
  },
  {
   "cell_type": "code",
   "execution_count": null,
   "id": "37803ab6-b215-4392-a34d-656e74c05e11",
   "metadata": {},
   "outputs": [],
   "source": [
    "# This cell contains code for ... (provide explanation based on content)\n",
    "# Add specific comments based on the functionality and purpose of the code\n",
    "data.head()"
   ]
  },
  {
   "cell_type": "code",
   "execution_count": null,
   "id": "93ccdc38-56b0-4567-937b-0f9b0f506180",
   "metadata": {},
   "outputs": [],
   "source": [
    "# This cell contains code for ... (provide explanation based on content)\n",
    "# Add specific comments based on the functionality and purpose of the code\n",
    "duplicate_count = data.duplicated().sum()\n",
    "duplicate_count"
   ]
  },
  {
   "cell_type": "code",
   "execution_count": null,
   "id": "1241713d-40ae-4df9-8061-f0364200f797",
   "metadata": {},
   "outputs": [],
   "source": [
    "# This cell contains code for ... (provide explanation based on content)\n",
    "# Add specific comments based on the functionality and purpose of the code\n",
    "nan_count_per_column = data.isna().sum()\n",
    "nan_count_per_column"
   ]
  },
  {
   "cell_type": "code",
   "execution_count": null,
   "id": "6b34ece4-4c55-44dd-abbd-7704ba1fe3da",
   "metadata": {},
   "outputs": [],
   "source": [
    "# This cell contains code for ... (provide explanation based on content)\n",
    "# Add specific comments based on the functionality and purpose of the code\n",
    "total_nan_count = data.isna().sum().sum()\n",
    "total_nan_count"
   ]
  },
  {
   "cell_type": "markdown",
   "id": "b3821cf4-a7d8-4dca-8137-ed0f92d8cf8c",
   "metadata": {},
   "source": [
    "<font size=\"6\">  \n",
    "    Visualizations\n",
    "</font> "
   ]
  },
  {
   "cell_type": "code",
   "execution_count": null,
   "id": "419564b6-6e8c-40f0-9f76-2406b6ce0335",
   "metadata": {},
   "outputs": [],
   "source": [
    "# This cell contains code for ... (provide explanation based on content)\n",
    "# Add specific comments based on the functionality and purpose of the code\n",
    "sns.set_style(\"darkgrid\")\n",
    "plt.figure(figsize=(12, 8))"
   ]
  },
  {
   "cell_type": "code",
   "execution_count": null,
   "id": "90875086-f04b-4724-a120-b0eb784b2cd9",
   "metadata": {},
   "outputs": [],
   "source": [
    "# This cell contains code for ... (provide explanation based on content)\n",
    "# Add specific comments based on the functionality and purpose of the code\n",
    "warnings.filterwarnings(\"ignore\", category=FutureWarning, module=\"seaborn\")"
   ]
  },
  {
   "cell_type": "code",
   "execution_count": null,
   "id": "61b59560-08d5-4026-9222-e145c3ef0584",
   "metadata": {},
   "outputs": [],
   "source": [
    "# This cell contains code for ... (provide explanation based on content)\n",
    "# Add specific comments based on the functionality and purpose of the code\n",
    "data['gravity'] = data['gravity'].replace({\n",
    "     1: '1 - Unharmed',\n",
    "     2: '2 - Killed',\n",
    "     3: '3 - Hospitalized',\n",
    "     4: '4 - Slightly injured'\n",
    "})\n",
    "\n",
    "custom_colors = {\n",
    "    '1 - Unharmed': '#66B2FF',      \n",
    "    '2 - Killed': '#FF9999',       \n",
    "    '3 - Hospitalized': '#FFCC99',   \n",
    "    '4 - Slightly injured': '#99FF99' \n",
    "}\n",
    "\n",
    "gravity_order = sorted(custom_colors.keys())"
   ]
  },
  {
   "cell_type": "code",
   "execution_count": null,
   "id": "5335383b-afa9-4f5f-a6bd-e44fe7491e92",
   "metadata": {},
   "outputs": [],
   "source": [
    "# This cell contains code for ... (provide explanation based on content)\n",
    "# Add specific comments based on the functionality and purpose of the code\n",
    "def calculate_and_display_percentages(data, group_by_col):\n",
    "    counts = data.groupby([group_by_col, 'gravity']).size().reset_index(name='count')\n",
    "    total_counts = data[group_by_col].value_counts().reset_index(name='total')\n",
    "    total_counts.columns = [group_by_col, 'total']\n",
    "    counts = counts.merge(total_counts, on=group_by_col)\n",
    "    counts['percentage'] = counts['count'] / counts['total'] * 100\n",
    "    \n",
    "    percentage_table = counts.pivot(index=group_by_col, columns='gravity', values='percentage').fillna(0)\n",
    "    \n",
    "    styled_table = percentage_table.style.format(\"{:.1f}%\").set_table_styles(\n",
    "        [{'selector': 'th', 'props': [('font-size', '12pt'), ('font-weight', 'bold'), ('text-align', 'center')]},\n",
    "         {'selector': 'td', 'props': [('font-size', '10pt'), ('text-align', 'center')]},\n",
    "         {'selector': 'caption', 'props': [('caption-side', 'top')]}]\n",
    "    ).set_caption(f'Percentages of Accident Gravity by {group_by_col.capitalize()}').background_gradient(cmap='Blues', axis=None)\n",
    "    \n",
    "    html = styled_table.to_html()\n",
    "    display(HTML(html))"
   ]
  },
  {
   "cell_type": "code",
   "execution_count": null,
   "id": "4c880abf-e8af-45bf-9fc8-dd79b79bb0a9",
   "metadata": {},
   "outputs": [],
   "source": [
    "# This cell contains code for ... (provide explanation based on content)\n",
    "# Add specific comments based on the functionality and purpose of the code\n",
    "counts = data['gravity'].value_counts().sort_values(ascending=False)\n",
    "\n",
    "total = counts.sum()\n",
    "percentages = counts / total * 100\n",
    "\n",
    "plt.figure(figsize=(10, 6))\n",
    "ax = sns.countplot(data=data, x='gravity', order=counts.index, palette=custom_colors)\n",
    "\n",
    "for p, percentage in zip(ax.patches, percentages):\n",
    "    height = p.get_height()\n",
    "    ax.annotate(f'{percentage:.1f}%', \n",
    "                (p.get_x() + p.get_width() / 2., height), \n",
    "                ha='center', va='center', \n",
    "                xytext=(0, 8), \n",
    "                textcoords='offset points')\n",
    "\n",
    "plt.title('Number of accidents by Severity Category')\n",
    "plt.xlabel('Severity')\n",
    "plt.ylabel('Number of Accidents')\n",
    "plt.show()"
   ]
  },
  {
   "cell_type": "code",
   "execution_count": null,
   "id": "76a8db50-bc70-4588-93c8-db60e36e4e42",
   "metadata": {},
   "outputs": [],
   "source": [
    "# This cell contains code for ... (provide explanation based on content)\n",
    "# Add specific comments based on the functionality and purpose of the code\n",
    "plt.figure(figsize=(18, 12))\n",
    "sns.countplot(data=data, x='year', hue='gravity', hue_order=gravity_order, palette=custom_colors)\n",
    "plt.title('Severity vs. Year of Accident')\n",
    "plt.xlabel('Year')\n",
    "plt.ylabel('Count')\n",
    "plt.legend(title='Severity')\n",
    "plt.show()\n",
    "\n",
    "calculate_and_display_percentages(data, 'year')"
   ]
  },
  {
   "cell_type": "code",
   "execution_count": null,
   "id": "1e223832-da89-406d-be04-45876180cc1d",
   "metadata": {},
   "outputs": [],
   "source": [
    "# This cell contains code for ... (provide explanation based on content)\n",
    "# Add specific comments based on the functionality and purpose of the code\n",
    "years = data['year'].unique()\n",
    "n_years = len(years)\n",
    "\n",
    "fig, axes = plt.subplots(1, n_years, figsize=(18, 6))\n",
    "fig.suptitle('Severity Distribution per Year', fontsize=16)\n",
    "\n",
    "custom_colors_mat = ['#66B2FF', '#99FF99', '#FFCC99', '#FF9999']\n",
    "\n",
    "for i, year in enumerate(years):\n",
    "    yearly_data = data[data['year'] == year]['gravity'].value_counts()\n",
    "    colors = custom_colors_mat[:len(yearly_data)]  # Select enough colors for the current pie chart\n",
    "    axes[i].pie(yearly_data, labels=yearly_data.index, autopct='%1.1f%%', colors=colors)\n",
    "    axes[i].set_title(f'Year {year}')\n",
    "\n",
    "plt.tight_layout(rect=[0, 0, 1, 0.96])\n",
    "plt.show()"
   ]
  },
  {
   "cell_type": "code",
   "execution_count": null,
   "id": "40f51d22-0f59-4167-ac3d-e9326a2a49b7",
   "metadata": {},
   "outputs": [],
   "source": [
    "# This cell contains code for ... (provide explanation based on content)\n",
    "# Add specific comments based on the functionality and purpose of the code\n",
    "plt.figure(figsize=(18, 12))\n",
    "sns.countplot(data=data, x='month', hue='gravity', hue_order=gravity_order, palette=custom_colors)\n",
    "plt.title('Severity vs. Month')\n",
    "plt.xlabel('Month')\n",
    "plt.ylabel('Count')\n",
    "plt.legend(title='Severity')\n",
    "plt.show()\n",
    "\n",
    "calculate_and_display_percentages(data, 'month')"
   ]
  },
  {
   "cell_type": "code",
   "execution_count": null,
   "id": "ae16bf10-801c-4db6-a4e9-696b89190bd7",
   "metadata": {},
   "outputs": [],
   "source": [
    "# This cell contains code for ... (provide explanation based on content)\n",
    "# Add specific comments based on the functionality and purpose of the code\n",
    "aggregated_data = data.groupby(['day', 'gravity']).size().reset_index(name='count')\n",
    "\n",
    "plt.figure(figsize=(18, 12))\n",
    "sns.lineplot(data=aggregated_data, x='day', y='count', hue='gravity', hue_order=gravity_order, palette=custom_colors)\n",
    "plt.title('Number of Accidents by Severity vs. Day')\n",
    "plt.xlabel('Day')\n",
    "plt.ylabel('Count')\n",
    "plt.legend(title='Severity')\n",
    "plt.show()\n",
    "\n",
    "calculate_and_display_percentages(data, 'day')"
   ]
  },
  {
   "cell_type": "code",
   "execution_count": null,
   "id": "e5acf4bc-18a2-44cb-b89b-27b797db5166",
   "metadata": {},
   "outputs": [],
   "source": [
    "# This cell contains code for ... (provide explanation based on content)\n",
    "# Add specific comments based on the functionality and purpose of the code\n",
    "plt.figure(figsize=(18, 12))\n",
    "sns.countplot(data=data, x='atm_condition', hue='gravity', hue_order=gravity_order, palette=custom_colors)\n",
    "plt.title('Severity vs. Weather Conditions')\n",
    "plt.xlabel('Weather Condition')\n",
    "plt.ylabel('Count')\n",
    "plt.legend(title='Severity')\n",
    "plt.xticks(rotation=45)\n",
    "plt.show()\n",
    "\n",
    "calculate_and_display_percentages(data, 'atm_condition')"
   ]
  },
  {
   "cell_type": "code",
   "execution_count": null,
   "id": "85e36cf5-d2cf-4162-aef2-62de41d42721",
   "metadata": {},
   "outputs": [],
   "source": [
    "# This cell contains code for ... (provide explanation based on content)\n",
    "# Add specific comments based on the functionality and purpose of the code\n",
    "plt.figure(figsize=(18, 12))\n",
    "sns.countplot(data=data, x='lum', hue='gravity', hue_order=gravity_order, palette=custom_colors)\n",
    "plt.title('Gravity vs. Lighting Conditions')\n",
    "plt.xlabel('Lighting Condition')\n",
    "plt.ylabel('Count')\n",
    "plt.legend(title='Gravity')\n",
    "plt.xticks(rotation=45)\n",
    "plt.show()\n",
    "\n",
    "calculate_and_display_percentages(data, 'lum')"
   ]
  },
  {
   "cell_type": "code",
   "execution_count": null,
   "id": "c7ed8917-7dd5-4c1c-9b48-d7a5e34a43f6",
   "metadata": {},
   "outputs": [],
   "source": [
    "# This cell contains code for ... (provide explanation based on content)\n",
    "# Add specific comments based on the functionality and purpose of the code\n",
    "plt.figure(figsize=(18, 12))\n",
    "sns.countplot(data=data, x='vehicle_category', hue='gravity', hue_order=gravity_order, palette=custom_colors)\n",
    "plt.title('Gravity vs. Vehicle Category')\n",
    "plt.xlabel('Vehicle Category')\n",
    "plt.ylabel('Count')\n",
    "plt.legend(title='Gravity')\n",
    "plt.xticks(rotation=45)\n",
    "plt.show()\n",
    "\n",
    "calculate_and_display_percentages(data, 'vehicle_category')"
   ]
  },
  {
   "cell_type": "code",
   "execution_count": null,
   "id": "7ddf9a22-f4bd-4fc5-abab-00cf899ea550",
   "metadata": {},
   "outputs": [],
   "source": [
    "# This cell contains code for ... (provide explanation based on content)\n",
    "# Add specific comments based on the functionality and purpose of the code\n",
    "plt.figure(figsize=(18, 12))\n",
    "sns.countplot(data=data, x='gender', hue='gravity', hue_order=gravity_order, palette=custom_colors)\n",
    "plt.title('Gravity vs. Gender')\n",
    "plt.xlabel('Gender')\n",
    "plt.ylabel('Count')\n",
    "plt.legend(title='Gravity')\n",
    "plt.show()\n",
    "\n",
    "calculate_and_display_percentages(data, 'gender')"
   ]
  },
  {
   "cell_type": "code",
   "execution_count": null,
   "id": "01084ce1-9bb1-4004-a205-a08a96ea6b02",
   "metadata": {},
   "outputs": [],
   "source": [
    "# This cell contains code for ... (provide explanation based on content)\n",
    "# Add specific comments based on the functionality and purpose of the code\n",
    "plt.figure(figsize=(18,12))\n",
    "sns.countplot(data=data, x='surface_condition', hue='gravity', hue_order=gravity_order, palette=custom_colors)\n",
    "plt.title('Gravity vs. Surface Condition')\n",
    "plt.xlabel('Surface Condition')\n",
    "plt.ylabel('Count')\n",
    "plt.legend(title='Gravity')\n",
    "plt.xticks(rotation=45)\n",
    "plt.show()\n",
    "\n",
    "calculate_and_display_percentages(data, 'surface_condition')"
   ]
  },
  {
   "cell_type": "code",
   "execution_count": null,
   "id": "34fa031e-67fe-4a9f-a66c-40d9a6a12bc9",
   "metadata": {},
   "outputs": [],
   "source": [
    "# This cell contains code for ... (provide explanation based on content)\n",
    "# Add specific comments based on the functionality and purpose of the code\n",
    "bins = [0, 49, 59, 69, 79, 89, 99, 109, float('inf')]\n",
    "labels = ['0-49', '50-59', '60-69', '70-79', '80-89', '90-99', '100-109', '110-119']\n",
    "\n",
    "data['speed_group'] = pd.cut(data['maximum_speed'], bins=bins, labels=labels, right=False)\n",
    "\n",
    "plt.figure(figsize=(10, 6))\n",
    "sns.countplot(data=data, x='speed_group', hue='gravity', hue_order=gravity_order, palette=custom_colors)\n",
    "\n",
    "plt.title('Gravity vs. Maximum Speed')\n",
    "plt.xlabel('Maximum Speed Group')\n",
    "plt.ylabel('Gravity')\n",
    "plt.legend(title='Gravity')\n",
    "plt.xticks(rotation=45)\n",
    "plt.show()\n",
    "\n",
    "calculate_and_display_percentages(data, 'maximum_speed')"
   ]
  },
  {
   "cell_type": "code",
   "execution_count": null,
   "id": "d33d8cb5-5718-4edf-a4da-7e71168e4db4",
   "metadata": {},
   "outputs": [],
   "source": [
    "# This cell contains code for ... (provide explanation based on content)\n",
    "# Add specific comments based on the functionality and purpose of the code\n",
    "plt.figure(figsize=(10, 6))\n",
    "sns.boxplot(data=data, x='gravity', y='age', hue_order=gravity_order, palette=custom_colors)\n",
    "plt.title('Age Distribution by Accident Gravity Category')\n",
    "plt.show()\n",
    "\n",
    "calculate_and_display_percentages(data, 'age')"
   ]
  },
  {
   "cell_type": "code",
   "execution_count": null,
   "id": "f52353e4-aafd-4a59-bff2-39650519fc29",
   "metadata": {},
   "outputs": [],
   "source": [
    "# This cell contains code for ... (provide explanation based on content)\n",
    "# Add specific comments based on the functionality and purpose of the code\n",
    "plt.figure(figsize=(10, 6))\n",
    "sns.kdeplot(data=data, x='age', hue='gravity', fill=True, hue_order=gravity_order, palette=custom_colors)\n",
    "plt.title('Density of Age Distribution by Accident Gravity Category')\n",
    "plt.show()"
   ]
  },
  {
   "cell_type": "code",
   "execution_count": null,
   "id": "85d8aa9f-c2b1-495c-bc19-330db253d588",
   "metadata": {},
   "outputs": [],
   "source": [
    "# This cell contains code for ... (provide explanation based on content)\n",
    "# Add specific comments based on the functionality and purpose of the code\n",
    "plt.figure(figsize=(10, 6))\n",
    "sns.lineplot(data=data, x='age', y='maximum_speed', hue='gravity', hue_order=gravity_order, palette=custom_colors)\n",
    "plt.title('Age vs. Maximum Speed by Accident Gravity')\n",
    "plt.show()"
   ]
  }
 ],
 "metadata": {
  "kernelspec": {
   "display_name": "Python 3 (ipykernel)",
   "language": "python",
   "name": "python3"
  },
  "language_info": {
   "codemirror_mode": {
    "name": "ipython",
    "version": 3
   },
   "file_extension": ".py",
   "mimetype": "text/x-python",
   "name": "python",
   "nbconvert_exporter": "python",
   "pygments_lexer": "ipython3",
   "version": "3.11.7"
  }
 },
 "nbformat": 4,
 "nbformat_minor": 5
}
