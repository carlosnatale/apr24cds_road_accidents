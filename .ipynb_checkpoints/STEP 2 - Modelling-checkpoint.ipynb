{
 "cells": [
  {
   "cell_type": "code",
   "execution_count": 1,
   "id": "625cd3d6-daee-486f-904d-ec57c757a767",
   "metadata": {},
   "outputs": [],
   "source": [
    "# Import the libraries\n",
    "# Base\n",
    "import random\n",
    "import warnings\n",
    "import numpy as np\n",
    "import pandas as pd\n",
    "\n",
    "# Transformation\n",
    "from sklearn.preprocessing import MinMaxScaler, RobustScaler, StandardScaler\n",
    "\n",
    "# Modelling\n",
    "import statsmodels.formula.api as smf\n",
    "from sklearn.linear_model import LogisticRegression, Lasso, Ridge\n",
    "from xgboost import XGBClassifier\n",
    "from statsmodels.stats.outliers_influence import variance_inflation_factor\n",
    "from sklearn.decomposition import PCA\n",
    "\n",
    "# Re-Sampling\n",
    "from imblearn.over_sampling import SMOTE, RandomOverSampler\n",
    "from imblearn.under_sampling import RandomUnderSampler\n",
    "\n",
    "# Evaluation and metrics\n",
    "from sklearn.model_selection import StratifiedKFold, cross_val_score, cross_validate, train_test_split\n",
    "from sklearn.metrics import make_scorer, accuracy_score, precision_score, recall_score, f1_score, confusion_matrix\n",
    "\n",
    "# Data Viz\n",
    "import matplotlib.pyplot as plt\n",
    "import seaborn as sns\n",
    "\n",
    "%matplotlib inline\n",
    "\n",
    "\n"
   ]
  },
  {
   "cell_type": "code",
   "execution_count": 2,
   "id": "8ea4c5f3-5a09-495f-a54b-cf58aeae918f",
   "metadata": {},
   "outputs": [],
   "source": [
    "# Suppress specific future warnings\n",
    "warnings.filterwarnings(\"ignore\", category=FutureWarning, module=\"seaborn\")\n",
    "warnings.filterwarnings(\"ignore\", category=FutureWarning, module=\"pandas\")\n",
    "warnings.filterwarnings(\"ignore\", category=FutureWarning, module=\"SMOTE\")"
   ]
  },
  {
   "cell_type": "code",
   "execution_count": 3,
   "id": "8c5ded44-023d-4d45-8011-d6db310b25cb",
   "metadata": {},
   "outputs": [],
   "source": [
    "# Load data\n",
    "data = pd.read_csv('source/data.csv')"
   ]
  },
  {
   "cell_type": "code",
   "execution_count": 4,
   "id": "0a0d9da6-7f1a-4d44-bade-687fa2555ea7",
   "metadata": {},
   "outputs": [
    {
     "data": {
      "text/plain": [
       "AccID                          object\n",
       "day                             int64\n",
       "month                           int64\n",
       "year                            int64\n",
       "time                            int64\n",
       "lum                             int64\n",
       "atm_condition                   int64\n",
       "collision_type                  int64\n",
       "lat                           float64\n",
       "long                          float64\n",
       "route_category                  int64\n",
       "traffic_regime                  int64\n",
       "total_number_lanes              int64\n",
       "reserved_lane_code              int64\n",
       "longitudinal_profile            int64\n",
       "upstream_terminal_number      float64\n",
       "distance_upstream_terminal    float64\n",
       "plan                            int64\n",
       "surface_condition               int64\n",
       "infra                           int64\n",
       "accident_situation              int64\n",
       "maximum_speed                   int64\n",
       "vehicleID                      object\n",
       "num_veh                        object\n",
       "traffic_direction               int64\n",
       "vehicle_category                int64\n",
       "fixed_obstacle                  int64\n",
       "mobile_obstacle                 int64\n",
       "initial_impact_point            int64\n",
       "manv                            int64\n",
       "motor                           int64\n",
       "seat                            int64\n",
       "user_category                   int64\n",
       "gravity                         int64\n",
       "gender                          int64\n",
       "birth_year                      int64\n",
       "reason_travel                   int64\n",
       "safety_equipment1               int64\n",
       "age                             int64\n",
       "dtype: object"
      ]
     },
     "execution_count": 4,
     "metadata": {},
     "output_type": "execute_result"
    }
   ],
   "source": [
    "# Ensure that each column in the DataFrame is in the desired format\n",
    "\n",
    "# Columns that should be of type object (string)\n",
    "object_columns = ['AccID', 'vehicleID', 'num_veh']\n",
    "\n",
    "# Columns that should be of type int64\n",
    "int_columns = [\n",
    "    'day', 'month', 'year', 'time', 'lum', 'atm_condition', 'collision_type',\n",
    "    'route_category', 'traffic_regime', 'total_number_lanes', 'reserved_lane_code',\n",
    "    'longitudinal_profile', 'plan', 'surface_condition', 'infra',\n",
    "    'accident_situation', 'maximum_speed', 'traffic_direction', 'vehicle_category',\n",
    "    'fixed_obstacle', 'mobile_obstacle', 'initial_impact_point', 'manv',\n",
    "    'motor', 'seat', 'user_category', 'gravity', 'gender', 'birth_year',\n",
    "    'reason_travel', 'safety_equipment1', 'age'\n",
    "]\n",
    "\n",
    "# Columns that should be of type float64\n",
    "float_columns = [\n",
    "    'lat', 'long', 'upstream_terminal_number', 'distance_upstream_terminal'\n",
    "]\n",
    "\n",
    "# Convert columns to the correct data types\n",
    "data[object_columns] = data[object_columns].astype(str)\n",
    "data[int_columns] = data[int_columns].astype(np.int64)\n",
    "data[float_columns] = data[float_columns].astype(float)\n",
    "\n",
    "# Check the data types to confirm the changes\n",
    "data.dtypes\n"
   ]
  },
  {
   "cell_type": "code",
   "execution_count": 5,
   "id": "a42d022e-99e4-4753-bbf1-9696126f81ee",
   "metadata": {},
   "outputs": [
    {
     "data": {
      "text/html": [
       "<div>\n",
       "<style scoped>\n",
       "    .dataframe tbody tr th:only-of-type {\n",
       "        vertical-align: middle;\n",
       "    }\n",
       "\n",
       "    .dataframe tbody tr th {\n",
       "        vertical-align: top;\n",
       "    }\n",
       "\n",
       "    .dataframe thead th {\n",
       "        text-align: right;\n",
       "    }\n",
       "</style>\n",
       "<table border=\"1\" class=\"dataframe\">\n",
       "  <thead>\n",
       "    <tr style=\"text-align: right;\">\n",
       "      <th></th>\n",
       "      <th>age</th>\n",
       "      <th>maximum_speed</th>\n",
       "      <th>distance_upstream_terminal</th>\n",
       "      <th>total_number_lanes</th>\n",
       "      <th>lat</th>\n",
       "      <th>long</th>\n",
       "    </tr>\n",
       "  </thead>\n",
       "  <tbody>\n",
       "    <tr>\n",
       "      <th>0</th>\n",
       "      <td>-1.141512</td>\n",
       "      <td>0.509356</td>\n",
       "      <td>1.946753</td>\n",
       "      <td>5.385555</td>\n",
       "      <td>0.805698</td>\n",
       "      <td>-0.063104</td>\n",
       "    </tr>\n",
       "    <tr>\n",
       "      <th>1</th>\n",
       "      <td>-0.663829</td>\n",
       "      <td>0.509356</td>\n",
       "      <td>1.946753</td>\n",
       "      <td>5.385555</td>\n",
       "      <td>0.805698</td>\n",
       "      <td>-0.063104</td>\n",
       "    </tr>\n",
       "    <tr>\n",
       "      <th>2</th>\n",
       "      <td>1.140752</td>\n",
       "      <td>0.509356</td>\n",
       "      <td>1.946753</td>\n",
       "      <td>5.385555</td>\n",
       "      <td>0.805698</td>\n",
       "      <td>-0.063104</td>\n",
       "    </tr>\n",
       "    <tr>\n",
       "      <th>3</th>\n",
       "      <td>-0.716905</td>\n",
       "      <td>0.509356</td>\n",
       "      <td>1.782943</td>\n",
       "      <td>-0.340441</td>\n",
       "      <td>0.821290</td>\n",
       "      <td>-0.104276</td>\n",
       "    </tr>\n",
       "    <tr>\n",
       "      <th>4</th>\n",
       "      <td>-0.823057</td>\n",
       "      <td>1.494600</td>\n",
       "      <td>0.755404</td>\n",
       "      <td>3.954056</td>\n",
       "      <td>0.823628</td>\n",
       "      <td>-0.124441</td>\n",
       "    </tr>\n",
       "  </tbody>\n",
       "</table>\n",
       "</div>"
      ],
      "text/plain": [
       "        age  maximum_speed  distance_upstream_terminal  total_number_lanes  \\\n",
       "0 -1.141512       0.509356                    1.946753            5.385555   \n",
       "1 -0.663829       0.509356                    1.946753            5.385555   \n",
       "2  1.140752       0.509356                    1.946753            5.385555   \n",
       "3 -0.716905       0.509356                    1.782943           -0.340441   \n",
       "4 -0.823057       1.494600                    0.755404            3.954056   \n",
       "\n",
       "        lat      long  \n",
       "0  0.805698 -0.063104  \n",
       "1  0.805698 -0.063104  \n",
       "2  0.805698 -0.063104  \n",
       "3  0.821290 -0.104276  \n",
       "4  0.823628 -0.124441  "
      ]
     },
     "execution_count": 5,
     "metadata": {},
     "output_type": "execute_result"
    }
   ],
   "source": [
    "# Selecting the columns to scale\n",
    "features_to_scale = ['age', 'maximum_speed', 'distance_upstream_terminal', 'total_number_lanes', 'lat', 'long']\n",
    "\n",
    "# Initialize the scaler \n",
    "scaler = StandardScaler()  \n",
    "\n",
    "# Fit and transform the selected features\n",
    "data[features_to_scale] = scaler.fit_transform(data[features_to_scale])\n",
    "\n",
    "# Display the first few rows of the scaled features to confirm\n",
    "data[features_to_scale].head()"
   ]
  },
  {
   "cell_type": "code",
   "execution_count": 6,
   "id": "43fff514-76fd-4b63-b133-b97a0afeb929",
   "metadata": {},
   "outputs": [],
   "source": [
    "data = data.drop(columns=['AccID', 'vehicleID', 'num_veh'])"
   ]
  },
  {
   "cell_type": "code",
   "execution_count": 7,
   "id": "ee9558d8-426d-44f1-aea4-5cbfbd54efcb",
   "metadata": {},
   "outputs": [
    {
     "data": {
      "text/plain": [
       "((358136, 35), (89534, 35), (358136,), (89534,))"
      ]
     },
     "execution_count": 7,
     "metadata": {},
     "output_type": "execute_result"
    }
   ],
   "source": [
    "# Define the feature set (X) and the target (y)\n",
    "X = data.drop(columns=['gravity'])\n",
    "y = data['gravity']\n",
    "\n",
    "# Split the data into 80% training and 20% testing\n",
    "X_train, X_test, y_train, y_test = train_test_split(X, y, test_size=0.2, random_state=42)\n",
    "\n",
    "# Display the shape of the resulting datasets\n",
    "X_train.shape, X_test.shape, y_train.shape, y_test.shape\n"
   ]
  },
  {
   "cell_type": "code",
   "execution_count": null,
   "id": "a34a2b2e-6109-40d0-9d3d-9a6731de5df2",
   "metadata": {},
   "outputs": [],
   "source": [
    "# Fill missing values to avoid errors during model fitting\n",
    "X_filled = X.fillna(X.median())\n",
    "\n",
    "# Create and fit the Logistic Regression model\n",
    "model = LogisticRegression(max_iter=1000, solver='liblinear')\n",
    "\n",
    "# Fit the model on the entire dataset\n",
    "model.fit(X_filled, y)\n",
    "\n",
    "# Get the coefficients of the model\n",
    "coefficients = model.coef_[0]\n",
    "\n",
    "# Pair coefficients with their corresponding feature names\n",
    "feature_coefficients = pd.DataFrame({\n",
    "    'Feature': X.columns,\n",
    "    'Coefficient': coefficients\n",
    "}).sort_values(by='Coefficient', ascending=False)\n",
    "feature_coefficients"
   ]
  },
  {
   "cell_type": "code",
   "execution_count": null,
   "id": "2c2b3016-3808-448c-8197-efd2987d6720",
   "metadata": {},
   "outputs": [],
   "source": [
    "# Calculate VIF for each feature\n",
    "vif_data = pd.DataFrame()\n",
    "vif_data['Feature'] = X.columns\n",
    "vif_data['VIF'] = [variance_inflation_factor(X_filled.values, i) for i in range(len(X.columns))]\n",
    "\n",
    "vif_data"
   ]
  },
  {
   "cell_type": "code",
   "execution_count": null,
   "id": "96d614f6-aa36-46e5-98f8-c07e68cdf4ec",
   "metadata": {},
   "outputs": [],
   "source": [
    "# Fit Lasso model\n",
    "lasso = Lasso(alpha=0.01)  # Adjust alpha as needed\n",
    "lasso.fit(X_filled, y)\n",
    "\n",
    "# Display non-zero coefficients (selected features)\n",
    "selected_features = X.columns[lasso.coef_ != 0]\n",
    "selected_features\n"
   ]
  },
  {
   "cell_type": "code",
   "execution_count": null,
   "id": "d142ea47-a1cd-475d-b77d-d0b8ecef6a87",
   "metadata": {},
   "outputs": [],
   "source": [
    "# Apply PCA to reduce dimensionality\n",
    "pca = PCA(n_components=10)  # Set number of components as needed\n",
    "X_pca = pca.fit_transform(X_filled)\n",
    "\n",
    "# Use the transformed data for modeling\n",
    "model.fit(X_pca, y)"
   ]
  },
  {
   "cell_type": "code",
   "execution_count": null,
   "id": "0863b674-1382-4f99-93f3-8722f2d726fd",
   "metadata": {},
   "outputs": [],
   "source": [
    "# Compute correlation matrix\n",
    "corr_matrix = X.corr().abs()\n",
    "\n",
    "# Identify highly correlated features\n",
    "upper = corr_matrix.where(np.triu(np.ones(corr_matrix.shape), k=1).astype(bool))\n",
    "to_drop = [column for column in upper.columns if any(upper[column] > 0.8)]\n",
    "\n",
    "# Drop highly correlated features\n",
    "X_reduced = X.drop(columns=to_drop)\n",
    "X_reduced"
   ]
  },
  {
   "cell_type": "code",
   "execution_count": null,
   "id": "1ec8c974-f26f-48c5-874b-69e29473a806",
   "metadata": {},
   "outputs": [],
   "source": [
    "# Fit the Ridge regression model\n",
    "ridge = Ridge(alpha=1.0)  # Adjust alpha as needed\n",
    "ridge.fit(X_filled, y)\n",
    "\n",
    "# Create a DataFrame to display each feature and its corresponding coefficient\n",
    "ridge_coefficients = pd.DataFrame({\n",
    "    'Feature': X_filled.columns,   # X_filled.columns contains the feature names\n",
    "    'Coefficient': ridge.coef_     # ridge.coef_ contains the corresponding coefficients\n",
    "})\n",
    "\n",
    "# Sort by the absolute value of coefficients to see the most important features first\n",
    "ridge_coefficients = ridge_coefficients.sort_values(by='Coefficient', ascending=False)\n",
    "\n",
    "# Display the DataFrame\n",
    "print(ridge_coefficients)\n"
   ]
  }
 ],
 "metadata": {
  "kernelspec": {
   "display_name": "Python 3 (ipykernel)",
   "language": "python",
   "name": "python3"
  },
  "language_info": {
   "codemirror_mode": {
    "name": "ipython",
    "version": 3
   },
   "file_extension": ".py",
   "mimetype": "text/x-python",
   "name": "python",
   "nbconvert_exporter": "python",
   "pygments_lexer": "ipython3",
   "version": "3.11.7"
  }
 },
 "nbformat": 4,
 "nbformat_minor": 5
}
