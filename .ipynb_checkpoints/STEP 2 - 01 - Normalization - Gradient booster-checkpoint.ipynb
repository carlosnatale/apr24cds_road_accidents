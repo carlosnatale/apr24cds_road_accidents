{
 "cells": [
  {
   "cell_type": "code",
   "execution_count": 1,
   "id": "17cc1bdc-c064-433a-a16f-b2cc2106f9d1",
   "metadata": {},
   "outputs": [],
   "source": [
    "# Import the necessary packages\n",
    "import warnings\n",
    "import numpy as np\n",
    "import pandas as pd\n",
    "from sklearn.preprocessing import StandardScaler\n",
    "from sklearn.model_selection import train_test_split"
   ]
  },
  {
   "cell_type": "code",
   "execution_count": 2,
   "id": "0c0d7786-afdb-4053-bf8d-3597a26bfe69",
   "metadata": {},
   "outputs": [],
   "source": [
    "# Suppress specific future warnings\n",
    "warnings.filterwarnings(\"ignore\", category=FutureWarning)"
   ]
  },
  {
   "cell_type": "code",
   "execution_count": 3,
   "id": "bf07a27d-de3e-4826-bf68-4152043359a8",
   "metadata": {},
   "outputs": [],
   "source": [
    "# Import the clean data\n",
    "data = pd.read_csv('source/data.csv', low_memory=False)"
   ]
  },
  {
   "cell_type": "code",
   "execution_count": 4,
   "id": "0a2b88f9-4be5-49b0-b78b-9bc4326e3e4e",
   "metadata": {},
   "outputs": [],
   "source": [
    "# Copy of the original dataset for feature engineering and preprocessing\n",
    "data_processed = data.copy()"
   ]
  },
  {
   "cell_type": "code",
   "execution_count": 5,
   "id": "834dad4e-eb67-4eeb-a34b-a36413984127",
   "metadata": {},
   "outputs": [],
   "source": [
    "# Drop unnecessary columns\n",
    "data_processed = data_processed.drop(['AccID', 'birth_year', 'vehicleID', 'num_veh'], axis=1)"
   ]
  },
  {
   "cell_type": "code",
   "execution_count": 6,
   "id": "97fb1efa-32e9-4a21-b996-cbe3eee16622",
   "metadata": {},
   "outputs": [],
   "source": [
    "# Converting 'time', 'day', 'month', and 'year' to float type\n",
    "data_processed['time'] = data_processed['time'].astype('float64')\n",
    "data_processed['day'] = data_processed['day'].astype('float64')\n",
    "data_processed['month'] = data_processed['month'].astype('float64')\n",
    "data_processed['year'] = data_processed['year'].astype('float64')"
   ]
  },
  {
   "cell_type": "code",
   "execution_count": 7,
   "id": "d4e10343-9e2f-47e6-9224-c14146f4854b",
   "metadata": {},
   "outputs": [],
   "source": [
    "# Selecting features and target variable\n",
    "features = ['lum', 'atm_condition', 'collision_type', 'route_category', 'traffic_regime', 'reserved_lane_code', \n",
    "            'longitudinal_profile', 'upstream_terminal_number', 'plan', 'surface_condition', 'infra', 'accident_situation', \n",
    "            'traffic_direction', 'vehicle_category', 'fixed_obstacle', 'mobile_obstacle', 'initial_impact_point', 'manv', \n",
    "            'motor', 'seat', 'user_category', 'gender', 'reason_travel', 'safety_equipment1', 'maximum_speed', 'age', \n",
    "            'lat', 'long', 'distance_upstream_terminal', 'total_number_lanes', 'day', 'time', 'month', 'year']\n",
    "target = 'gravity'"
   ]
  },
  {
   "cell_type": "code",
   "execution_count": 8,
   "id": "9af3da25-aa13-43c8-86a2-5d48b1a66499",
   "metadata": {},
   "outputs": [],
   "source": [
    "# Handling categorical features with One Hot Encoding\n",
    "X = pd.get_dummies(data_processed[features], drop_first=True)\n",
    "y = data_processed[target]"
   ]
  },
  {
   "cell_type": "code",
   "execution_count": 9,
   "id": "d6c3c5c5-02fc-40a9-91ff-7c718c28199f",
   "metadata": {},
   "outputs": [],
   "source": [
    "# Splitting the data into train and test sets\n",
    "X_train, X_test, y_train, y_test = train_test_split(X, y, test_size=0.2, random_state=42)"
   ]
  },
  {
   "cell_type": "code",
   "execution_count": 10,
   "id": "65525ce9-7a5c-42ea-a8ba-ea2d8867e66c",
   "metadata": {},
   "outputs": [],
   "source": [
    "# Standardization: Fit only on the training data, then apply to both train and test\n",
    "scaler = StandardScaler()\n",
    "numerical_columns = X.select_dtypes(include=['float64']).columns\n",
    "\n",
    "X_train[numerical_columns] = scaler.fit_transform(X_train[numerical_columns])\n",
    "X_test[numerical_columns] = scaler.transform(X_test[numerical_columns])"
   ]
  },
  {
   "cell_type": "code",
   "execution_count": 11,
   "id": "8c0b5007-ad17-46d3-842c-2272939d9ba4",
   "metadata": {},
   "outputs": [
    {
     "name": "stdout",
     "output_type": "stream",
     "text": [
      "Shape of X_train: (358136, 34)\n",
      "Shape of X_test: (89534, 34)\n"
     ]
    }
   ],
   "source": [
    "# Check the dimensions\n",
    "print(f\"Shape of X_train: {X_train.shape}\")\n",
    "print(f\"Shape of X_test: {X_test.shape}\")"
   ]
  },
  {
   "cell_type": "markdown",
   "id": "18642a82-2b9e-4154-a5ec-37ab14e26c7a",
   "metadata": {},
   "source": [
    "Apply ML model ---->"
   ]
  },
  {
   "cell_type": "code",
   "execution_count": 12,
   "id": "1e4bd775-da74-45c1-b9ad-73d35aba5268",
   "metadata": {},
   "outputs": [
    {
     "data": {
      "text/plain": [
       "(0.6662385239127036,\n",
       " '              precision    recall  f1-score   support\\n\\n           1       0.71      0.84      0.77     37371\\n           2       0.46      0.05      0.09      2335\\n           3       0.53      0.35      0.42     13737\\n           4       0.65      0.65      0.65     36091\\n\\n    accuracy                           0.67     89534\\n   macro avg       0.59      0.47      0.48     89534\\nweighted avg       0.65      0.67      0.65     89534\\n',\n",
       " array([[31380,     8,   735,  5248],\n",
       "        [  384,   116,  1090,   745],\n",
       "        [ 2140,   102,  4802,  6693],\n",
       "        [10286,    27,  2425, 23353]], dtype=int64))"
      ]
     },
     "execution_count": 12,
     "metadata": {},
     "output_type": "execute_result"
    }
   ],
   "source": [
    "from sklearn.ensemble import GradientBoostingClassifier\n",
    "from sklearn.metrics import accuracy_score, classification_report, confusion_matrix\n",
    "\n",
    "# Initialize the Gradient Boosting model\n",
    "gb_model = GradientBoostingClassifier(random_state=42)\n",
    "\n",
    "# Train the model on the training data\n",
    "gb_model.fit(X_train, y_train)\n",
    "\n",
    "# Predict on the test set\n",
    "y_pred = gb_model.predict(X_test)\n",
    "\n",
    "# Calculate accuracy\n",
    "accuracy = accuracy_score(y_test, y_pred)\n",
    "\n",
    "# Generate classification report\n",
    "class_report = classification_report(y_test, y_pred)\n",
    "\n",
    "# Generate confusion matrix\n",
    "conf_matrix = confusion_matrix(y_test, y_pred)\n",
    "\n",
    "# Output the results\n",
    "accuracy, class_report, conf_matrix\n"
   ]
  },
  {
   "cell_type": "code",
   "execution_count": 13,
   "id": "c4bc3fef-258e-41d3-8c32-3517840ebb68",
   "metadata": {},
   "outputs": [
    {
     "name": "stdout",
     "output_type": "stream",
     "text": [
      "0.6662385239127036\n",
      "              precision    recall  f1-score   support\n",
      "\n",
      "           1       0.71      0.84      0.77     37371\n",
      "           2       0.46      0.05      0.09      2335\n",
      "           3       0.53      0.35      0.42     13737\n",
      "           4       0.65      0.65      0.65     36091\n",
      "\n",
      "    accuracy                           0.67     89534\n",
      "   macro avg       0.59      0.47      0.48     89534\n",
      "weighted avg       0.65      0.67      0.65     89534\n",
      "\n",
      "[[31380     8   735  5248]\n",
      " [  384   116  1090   745]\n",
      " [ 2140   102  4802  6693]\n",
      " [10286    27  2425 23353]]\n"
     ]
    }
   ],
   "source": [
    "print(accuracy)\n",
    "print(class_report)\n",
    "print(conf_matrix)"
   ]
  },
  {
   "cell_type": "code",
   "execution_count": 15,
   "id": "8590adba-0bca-4746-84d9-82a19240b48f",
   "metadata": {},
   "outputs": [
    {
     "data": {
      "text/plain": [
       "safety_equipment1    0.301052\n",
       "mobile_obstacle      0.123860\n",
       "vehicle_category     0.105107\n",
       "fixed_obstacle       0.072014\n",
       "seat                 0.066672\n",
       "user_category        0.065032\n",
       "lat                  0.039827\n",
       "maximum_speed        0.037239\n",
       "collision_type       0.034812\n",
       "gender               0.023456\n",
       "dtype: float64"
      ]
     },
     "execution_count": 15,
     "metadata": {},
     "output_type": "execute_result"
    }
   ],
   "source": [
    "# Displaying feature importances from the model\n",
    "\n",
    "\n",
    "feature_importances = pd.Series(gb_model.feature_importances_, index=X_train.columns)\n",
    "feature_importances_sorted = feature_importances.sort_values(ascending=False)\n",
    "\n",
    "feature_importances_sorted.head(10)\n"
   ]
  },
  {
   "cell_type": "markdown",
   "id": "c585678a-fd7b-4b66-9cc3-a876eac6f21c",
   "metadata": {},
   "source": [
    "Apply ML model v2---->"
   ]
  },
  {
   "cell_type": "code",
   "execution_count": 16,
   "id": "aaeae128-cbb1-44b6-aeb6-aee7a3591247",
   "metadata": {},
   "outputs": [
    {
     "name": "stdout",
     "output_type": "stream",
     "text": [
      "Best Parameters: {'learning_rate': 0.1, 'max_depth': 5, 'min_samples_split': 2, 'n_estimators': 300}\n",
      "Best Score: 0.6847845574305756\n"
     ]
    }
   ],
   "source": [
    "from sklearn.model_selection import GridSearchCV\n",
    "\n",
    "# Define the parameter grid\n",
    "param_grid = {\n",
    "    'n_estimators': [100, 200, 300],\n",
    "    'learning_rate': [0.01, 0.05, 0.1],\n",
    "    'max_depth': [3, 4, 5],\n",
    "    'min_samples_split': [2, 5, 10]\n",
    "}\n",
    "\n",
    "# Initialize the Grid Search\n",
    "grid_search = GridSearchCV(GradientBoostingClassifier(random_state=42), param_grid, cv=3, scoring='accuracy', n_jobs=-1)\n",
    "\n",
    "# Fit the Grid Search on the training data\n",
    "grid_search.fit(X_train, y_train)\n",
    "\n",
    "# Best parameters and best score\n",
    "best_params = grid_search.best_params_\n",
    "best_score = grid_search.best_score_\n",
    "\n",
    "print(\"Best Parameters:\", best_params)\n",
    "print(\"Best Score:\", best_score)\n"
   ]
  },
  {
   "cell_type": "markdown",
   "id": "5c8b8af2-ab94-42fb-997b-dd5a4e23205f",
   "metadata": {},
   "source": [
    "Apply ML model v3 ---->"
   ]
  },
  {
   "cell_type": "code",
   "execution_count": 17,
   "id": "2023574c-7480-4e3b-a448-d86147a68134",
   "metadata": {},
   "outputs": [
    {
     "data": {
      "text/plain": [
       "(0.6862867737395849,\n",
       " '              precision    recall  f1-score   support\\n\\n           1       0.74      0.83      0.78     37371\\n           2       0.41      0.08      0.14      2335\\n           3       0.53      0.45      0.49     13737\\n           4       0.67      0.67      0.67     36091\\n\\n    accuracy                           0.69     89534\\n   macro avg       0.59      0.51      0.52     89534\\nweighted avg       0.67      0.69      0.68     89534\\n',\n",
       " array([[30980,    21,   904,  5466],\n",
       "        [  281,   197,  1270,   587],\n",
       "        [ 1591,   197,  6166,  5783],\n",
       "        [ 8733,    61,  3194, 24103]], dtype=int64))"
      ]
     },
     "execution_count": 17,
     "metadata": {},
     "output_type": "execute_result"
    }
   ],
   "source": [
    "# Apply Gradient Boosting with specified parameters\n",
    "gb_model_tuned = GradientBoostingClassifier(\n",
    "    learning_rate=0.1, \n",
    "    max_depth=5, \n",
    "    min_samples_split=2, \n",
    "    n_estimators=300, \n",
    "    random_state=42\n",
    ")\n",
    "\n",
    "# Train the model on the training data\n",
    "gb_model_tuned.fit(X_train, y_train)\n",
    "\n",
    "# Predict on the test set\n",
    "y_pred_tuned = gb_model_tuned.predict(X_test)\n",
    "\n",
    "# Calculate accuracy\n",
    "accuracy_tuned = accuracy_score(y_test, y_pred_tuned)\n",
    "\n",
    "# Generate classification report\n",
    "class_report_tuned = classification_report(y_test, y_pred_tuned)\n",
    "\n",
    "# Generate confusion matrix\n",
    "conf_matrix_tuned = confusion_matrix(y_test, y_pred_tuned)\n",
    "\n",
    "# Output the results\n",
    "accuracy_tuned, class_report_tuned, conf_matrix_tuned"
   ]
  },
  {
   "cell_type": "code",
   "execution_count": 18,
   "id": "dabd9217-06c9-45d8-a745-707fc84dd3e2",
   "metadata": {},
   "outputs": [
    {
     "name": "stdout",
     "output_type": "stream",
     "text": [
      "              precision    recall  f1-score   support\n",
      "\n",
      "           1       0.74      0.83      0.78     37371\n",
      "           2       0.41      0.08      0.14      2335\n",
      "           3       0.53      0.45      0.49     13737\n",
      "           4       0.67      0.67      0.67     36091\n",
      "\n",
      "    accuracy                           0.69     89534\n",
      "   macro avg       0.59      0.51      0.52     89534\n",
      "weighted avg       0.67      0.69      0.68     89534\n",
      "\n"
     ]
    }
   ],
   "source": [
    "print(class_report_tuned)"
   ]
  },
  {
   "cell_type": "markdown",
   "id": "bab592de-ed47-435f-9b29-3e43c86476cc",
   "metadata": {},
   "source": [
    "Apply ML model v4 ---->"
   ]
  },
  {
   "cell_type": "code",
   "execution_count": 19,
   "id": "76682a34-90d4-43b9-a651-60b4131ffe5d",
   "metadata": {},
   "outputs": [
    {
     "data": {
      "text/plain": [
       "(0.973484933098041,\n",
       " '              precision    recall  f1-score   support\\n\\n           0       0.98      1.00      0.99     87199\\n           1       0.44      0.07      0.11      2335\\n\\n    accuracy                           0.97     89534\\n   macro avg       0.71      0.53      0.55     89534\\nweighted avg       0.96      0.97      0.96     89534\\n',\n",
       " array([[87008,   191],\n",
       "        [ 2183,   152]], dtype=int64))"
      ]
     },
     "execution_count": 19,
     "metadata": {},
     "output_type": "execute_result"
    }
   ],
   "source": [
    "# Updating the dataset to classify accidents as 'Fatal' and 'Non-Fatal' based on 'gravity'\n",
    "# 'gravity' = 2 represents fatal accidents\n",
    "\n",
    "# Create a binary target variable\n",
    "data_processed['fatal_accident'] = data_processed['gravity'].apply(lambda x: 1 if x == 2 else 0)\n",
    "\n",
    "# Update target variable\n",
    "target_binary = 'fatal_accident'\n",
    "\n",
    "# Splitting the data into train and test sets for binary classification\n",
    "X_binary = pd.get_dummies(data_processed[features], drop_first=True)\n",
    "y_binary = data_processed[target_binary]\n",
    "\n",
    "X_train_binary, X_test_binary, y_train_binary, y_test_binary = train_test_split(X_binary, y_binary, test_size=0.2, random_state=42)\n",
    "\n",
    "# Standardization\n",
    "X_train_binary[numerical_columns] = scaler.fit_transform(X_train_binary[numerical_columns])\n",
    "X_test_binary[numerical_columns] = scaler.transform(X_test_binary[numerical_columns])\n",
    "\n",
    "# Apply Gradient Boosting with specified parameters for binary classification\n",
    "gb_model_binary = GradientBoostingClassifier(\n",
    "    learning_rate=0.1, \n",
    "    max_depth=5, \n",
    "    min_samples_split=2, \n",
    "    n_estimators=300, \n",
    "    random_state=42\n",
    ")\n",
    "\n",
    "# Train the model on the binary training data\n",
    "gb_model_binary.fit(X_train_binary, y_train_binary)\n",
    "\n",
    "# Predict on the binary test set\n",
    "y_pred_binary = gb_model_binary.predict(X_test_binary)\n",
    "\n",
    "# Calculate accuracy for binary classification\n",
    "accuracy_binary = accuracy_score(y_test_binary, y_pred_binary)\n",
    "\n",
    "# Generate classification report for binary classification\n",
    "class_report_binary = classification_report(y_test_binary, y_pred_binary)\n",
    "\n",
    "# Generate confusion matrix for binary classification\n",
    "conf_matrix_binary = confusion_matrix(y_test_binary, y_pred_binary)\n",
    "\n",
    "# Output the binary classification results\n",
    "accuracy_binary, class_report_binary, conf_matrix_binary\n"
   ]
  },
  {
   "cell_type": "code",
   "execution_count": 20,
   "id": "f20ac2e9-51ee-4d08-90ae-d6e561bada1c",
   "metadata": {},
   "outputs": [
    {
     "name": "stdout",
     "output_type": "stream",
     "text": [
      "              precision    recall  f1-score   support\n",
      "\n",
      "           0       0.98      1.00      0.99     87199\n",
      "           1       0.44      0.07      0.11      2335\n",
      "\n",
      "    accuracy                           0.97     89534\n",
      "   macro avg       0.71      0.53      0.55     89534\n",
      "weighted avg       0.96      0.97      0.96     89534\n",
      "\n"
     ]
    }
   ],
   "source": [
    "print(class_report_binary)"
   ]
  },
  {
   "cell_type": "code",
   "execution_count": null,
   "id": "958cf6c4-60f0-4127-ab79-2266bad802fc",
   "metadata": {},
   "outputs": [],
   "source": []
  }
 ],
 "metadata": {
  "kernelspec": {
   "display_name": "Python 3 (ipykernel)",
   "language": "python",
   "name": "python3"
  },
  "language_info": {
   "codemirror_mode": {
    "name": "ipython",
    "version": 3
   },
   "file_extension": ".py",
   "mimetype": "text/x-python",
   "name": "python",
   "nbconvert_exporter": "python",
   "pygments_lexer": "ipython3",
   "version": "3.11.7"
  }
 },
 "nbformat": 4,
 "nbformat_minor": 5
}
