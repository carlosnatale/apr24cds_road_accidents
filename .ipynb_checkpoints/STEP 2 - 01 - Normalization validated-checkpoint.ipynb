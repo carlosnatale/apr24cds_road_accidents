{
 "cells": [
  {
   "cell_type": "code",
   "execution_count": 1,
   "id": "17cc1bdc-c064-433a-a16f-b2cc2106f9d1",
   "metadata": {},
   "outputs": [],
   "source": [
    "# Import the necessary packages\n",
    "import warnings\n",
    "import numpy as np\n",
    "import pandas as pd\n",
    "from sklearn.preprocessing import StandardScaler\n",
    "from sklearn.model_selection import train_test_split"
   ]
  },
  {
   "cell_type": "code",
   "execution_count": 2,
   "id": "0c0d7786-afdb-4053-bf8d-3597a26bfe69",
   "metadata": {},
   "outputs": [],
   "source": [
    "# Suppress specific future warnings\n",
    "warnings.filterwarnings(\"ignore\", category=FutureWarning)"
   ]
  },
  {
   "cell_type": "code",
   "execution_count": 3,
   "id": "bf07a27d-de3e-4826-bf68-4152043359a8",
   "metadata": {},
   "outputs": [],
   "source": [
    "# Import the clean data\n",
    "data = pd.read_csv('source/data.csv', low_memory=False)"
   ]
  },
  {
   "cell_type": "code",
   "execution_count": 4,
   "id": "0a2b88f9-4be5-49b0-b78b-9bc4326e3e4e",
   "metadata": {},
   "outputs": [],
   "source": [
    "# Copy of the original dataset for feature engineering and preprocessing\n",
    "data_processed = data.copy()"
   ]
  },
  {
   "cell_type": "code",
   "execution_count": 5,
   "id": "834dad4e-eb67-4eeb-a34b-a36413984127",
   "metadata": {},
   "outputs": [],
   "source": [
    "# Drop unnecessary columns\n",
    "data_processed = data_processed.drop(['AccID', 'birth_year', 'vehicleID', 'num_veh'], axis=1)"
   ]
  },
  {
   "cell_type": "code",
   "execution_count": 6,
   "id": "97fb1efa-32e9-4a21-b996-cbe3eee16622",
   "metadata": {},
   "outputs": [],
   "source": [
    "# Converting 'time', 'day', 'month', and 'year' to float type\n",
    "data_processed['time'] = data_processed['time'].astype('float64')\n",
    "data_processed['day'] = data_processed['day'].astype('float64')\n",
    "data_processed['month'] = data_processed['month'].astype('float64')\n",
    "data_processed['year'] = data_processed['year'].astype('float64')"
   ]
  },
  {
   "cell_type": "code",
   "execution_count": 7,
   "id": "85def9d9-a9c5-423b-89bf-b090f9b7a895",
   "metadata": {},
   "outputs": [
    {
     "data": {
      "text/plain": [
       "lum                     category\n",
       "atm_condition           category\n",
       "collision_type          category\n",
       "route_category          category\n",
       "traffic_regime          category\n",
       "total_number_lanes      category\n",
       "reserved_lane_code      category\n",
       "longitudinal_profile    category\n",
       "plan                    category\n",
       "surface_condition       category\n",
       "infra                   category\n",
       "accident_situation      category\n",
       "maximum_speed           category\n",
       "traffic_direction       category\n",
       "vehicle_category        category\n",
       "fixed_obstacle          category\n",
       "mobile_obstacle         category\n",
       "initial_impact_point    category\n",
       "manv                    category\n",
       "motor                   category\n",
       "seat                    category\n",
       "user_category           category\n",
       "gravity                 category\n",
       "gender                  category\n",
       "reason_travel           category\n",
       "safety_equipment1       category\n",
       "dtype: object"
      ]
     },
     "execution_count": 7,
     "metadata": {},
     "output_type": "execute_result"
    }
   ],
   "source": [
    "# Converting specified variables to categorical type\n",
    "categorical_columns = [\n",
    "    'lum', 'atm_condition', 'collision_type', 'route_category', 'traffic_regime', \n",
    "    'total_number_lanes', 'reserved_lane_code', 'longitudinal_profile', 'plan', \n",
    "    'surface_condition', 'infra', 'accident_situation', 'maximum_speed', \n",
    "    'traffic_direction', 'vehicle_category', 'fixed_obstacle', 'mobile_obstacle', \n",
    "    'initial_impact_point', 'manv', 'motor', 'seat', 'user_category', 'gravity', \n",
    "    'gender', 'reason_travel', 'safety_equipment1'\n",
    "]\n",
    "\n",
    "# Converting the specified columns to categorical\n",
    "data_processed[categorical_columns] = data_processed[categorical_columns].astype('category')\n",
    "\n",
    "# Checking the conversion\n",
    "data_processed.dtypes[categorical_columns]\n"
   ]
  },
  {
   "cell_type": "code",
   "execution_count": 8,
   "id": "d4e10343-9e2f-47e6-9224-c14146f4854b",
   "metadata": {},
   "outputs": [],
   "source": [
    "# Selecting features and target variable\n",
    "features = ['lum', 'atm_condition', 'collision_type', 'route_category', 'traffic_regime', 'reserved_lane_code', \n",
    "            'longitudinal_profile', 'upstream_terminal_number', 'plan', 'surface_condition', 'infra', 'accident_situation', \n",
    "            'traffic_direction', 'vehicle_category', 'fixed_obstacle', 'mobile_obstacle', 'initial_impact_point', 'manv', \n",
    "            'motor', 'seat', 'user_category', 'gender', 'reason_travel', 'safety_equipment1', 'maximum_speed', 'age', \n",
    "            'lat', 'long', 'distance_upstream_terminal', 'total_number_lanes', 'day', 'time', 'month', 'year']\n",
    "target = 'gravity'"
   ]
  },
  {
   "cell_type": "code",
   "execution_count": 9,
   "id": "1f4816e1-112a-453d-8beb-82e5e7e4164b",
   "metadata": {},
   "outputs": [
    {
     "name": "stdout",
     "output_type": "stream",
     "text": [
      "<class 'pandas.core.frame.DataFrame'>\n",
      "RangeIndex: 447670 entries, 0 to 447669\n",
      "Data columns (total 35 columns):\n",
      " #   Column                      Non-Null Count   Dtype   \n",
      "---  ------                      --------------   -----   \n",
      " 0   day                         447670 non-null  float64 \n",
      " 1   month                       447670 non-null  float64 \n",
      " 2   year                        447670 non-null  float64 \n",
      " 3   time                        447670 non-null  float64 \n",
      " 4   lum                         447670 non-null  category\n",
      " 5   atm_condition               447670 non-null  category\n",
      " 6   collision_type              447670 non-null  category\n",
      " 7   lat                         447670 non-null  float64 \n",
      " 8   long                        447670 non-null  float64 \n",
      " 9   route_category              447670 non-null  category\n",
      " 10  traffic_regime              447670 non-null  category\n",
      " 11  total_number_lanes          447670 non-null  category\n",
      " 12  reserved_lane_code          447670 non-null  category\n",
      " 13  longitudinal_profile        447670 non-null  category\n",
      " 14  upstream_terminal_number    447670 non-null  float64 \n",
      " 15  distance_upstream_terminal  447670 non-null  float64 \n",
      " 16  plan                        447670 non-null  category\n",
      " 17  surface_condition           447670 non-null  category\n",
      " 18  infra                       447670 non-null  category\n",
      " 19  accident_situation          447670 non-null  category\n",
      " 20  maximum_speed               447670 non-null  category\n",
      " 21  traffic_direction           447670 non-null  category\n",
      " 22  vehicle_category            447670 non-null  category\n",
      " 23  fixed_obstacle              447670 non-null  category\n",
      " 24  mobile_obstacle             447670 non-null  category\n",
      " 25  initial_impact_point        447670 non-null  category\n",
      " 26  manv                        447670 non-null  category\n",
      " 27  motor                       447670 non-null  category\n",
      " 28  seat                        447670 non-null  category\n",
      " 29  user_category               447670 non-null  category\n",
      " 30  gravity                     447670 non-null  category\n",
      " 31  gender                      447670 non-null  category\n",
      " 32  reason_travel               447670 non-null  category\n",
      " 33  safety_equipment1           447670 non-null  category\n",
      " 34  age                         447670 non-null  float64 \n",
      "dtypes: category(26), float64(9)\n",
      "memory usage: 41.9 MB\n"
     ]
    }
   ],
   "source": [
    "data_processed.info()"
   ]
  },
  {
   "cell_type": "code",
   "execution_count": 10,
   "id": "9af3da25-aa13-43c8-86a2-5d48b1a66499",
   "metadata": {},
   "outputs": [],
   "source": [
    "# Handling categorical features with One Hot Encoding\n",
    "X = pd.get_dummies(data_processed[features], drop_first=True)\n",
    "y = data_processed[target]"
   ]
  },
  {
   "cell_type": "code",
   "execution_count": 11,
   "id": "d6c3c5c5-02fc-40a9-91ff-7c718c28199f",
   "metadata": {},
   "outputs": [],
   "source": [
    "# Splitting the data into train and test sets\n",
    "X_train, X_test, y_train, y_test = train_test_split(X, y, test_size=0.2, random_state=42)"
   ]
  },
  {
   "cell_type": "code",
   "execution_count": 12,
   "id": "65525ce9-7a5c-42ea-a8ba-ea2d8867e66c",
   "metadata": {},
   "outputs": [],
   "source": [
    "# Standardization: Fit only on the training data, then apply to both train and test\n",
    "scaler = StandardScaler()\n",
    "numerical_columns = X.select_dtypes(include=['float64']).columns\n",
    "\n",
    "X_train[numerical_columns] = scaler.fit_transform(X_train[numerical_columns])\n",
    "X_test[numerical_columns] = scaler.transform(X_test[numerical_columns])"
   ]
  },
  {
   "cell_type": "code",
   "execution_count": 13,
   "id": "8c0b5007-ad17-46d3-842c-2272939d9ba4",
   "metadata": {},
   "outputs": [
    {
     "name": "stdout",
     "output_type": "stream",
     "text": [
      "Shape of X_train: (358136, 230)\n",
      "Shape of X_test: (89534, 230)\n"
     ]
    }
   ],
   "source": [
    "# Check the dimensions\n",
    "print(f\"Shape of X_train: {X_train.shape}\")\n",
    "print(f\"Shape of X_test: {X_test.shape}\")"
   ]
  },
  {
   "cell_type": "markdown",
   "id": "18642a82-2b9e-4154-a5ec-37ab14e26c7a",
   "metadata": {},
   "source": [
    "Apply ML model ---->"
   ]
  },
  {
   "cell_type": "code",
   "execution_count": null,
   "id": "e24d0e99-2e4d-4527-859e-c1e71e224321",
   "metadata": {},
   "outputs": [],
   "source": []
  }
 ],
 "metadata": {
  "kernelspec": {
   "display_name": "Python 3 (ipykernel)",
   "language": "python",
   "name": "python3"
  },
  "language_info": {
   "codemirror_mode": {
    "name": "ipython",
    "version": 3
   },
   "file_extension": ".py",
   "mimetype": "text/x-python",
   "name": "python",
   "nbconvert_exporter": "python",
   "pygments_lexer": "ipython3",
   "version": "3.11.7"
  }
 },
 "nbformat": 4,
 "nbformat_minor": 5
}
