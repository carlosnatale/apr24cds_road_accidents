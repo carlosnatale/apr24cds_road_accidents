{
 "cells": [
  {
   "cell_type": "code",
   "execution_count": null,
   "id": "6159ef34-0d25-462e-bac0-bf5e5fba22f7",
   "metadata": {},
   "outputs": [],
   "source": [
    "# Import libraries needed to execute the code\n",
    "import os\n",
    "import warnings\n",
    "import numpy as np\n",
    "import pandas as pd\n",
    "from sklearn.svm import SVC\n",
    "from scipy.stats import zscore\n",
    "import matplotlib.pyplot as plt\n",
    "from sklearn.metrics import accuracy_score\n",
    "from sklearn.preprocessing import LabelEncoder\n",
    "from sklearn.model_selection import train_test_split"
   ]
  },
  {
   "cell_type": "code",
   "execution_count": null,
   "id": "f20fc511-87fb-4abb-92ed-e2a8dd019b8a",
   "metadata": {},
   "outputs": [],
   "source": [
    "# Import the clean data\n",
    "data = pd.read_csv('source/data.csv', low_memory=False)"
   ]
  },
  {
   "cell_type": "code",
   "execution_count": null,
   "id": "a24f03bf-a9e6-4fb1-aff5-10750a7ecde3",
   "metadata": {},
   "outputs": [],
   "source": [
    "data = data.astype({\n",
    "    'AccID': 'object',\n",
    "    'vehicleID': 'object',\n",
    "    'num_veh': 'object',\n",
    "    'birth_year': 'int64',\n",
    "    'age': 'int64',  \n",
    "})"
   ]
  },
  {
   "cell_type": "code",
   "execution_count": null,
   "id": "0bc64385-a193-4b5c-b9c4-095dc63e2113",
   "metadata": {},
   "outputs": [],
   "source": [
    "data.info()"
   ]
  },
  {
   "cell_type": "code",
   "execution_count": null,
   "id": "b38c6536-55ce-4184-8c20-72cfd5176e0c",
   "metadata": {},
   "outputs": [],
   "source": [
    "pd.set_option('display.max_columns', None)\n",
    "data.head()"
   ]
  },
  {
   "cell_type": "code",
   "execution_count": null,
   "id": "5f5eba64-3b89-4f92-8ce3-5d55748422b5",
   "metadata": {},
   "outputs": [],
   "source": [
    "# Selecting numerical columns for outlier detection\n",
    "numerical_columns = data.select_dtypes(include=['float64', 'int64']).columns\n",
    "\n",
    "# Plotting box plots for numerical columns to visually inspect outliers\n",
    "plt.figure(figsize=(15, 10))\n",
    "data[numerical_columns].boxplot(rot=90)\n",
    "plt.title('Boxplot for Outlier Detection in Numerical Columns')\n",
    "plt.show()"
   ]
  },
  {
   "cell_type": "code",
   "execution_count": null,
   "id": "8ebde9fc-d26e-4701-a66a-24c77d1ef946",
   "metadata": {},
   "outputs": [],
   "source": [
    "# Convert non-numeric columns to numeric using LabelEncoder\n",
    "label_encoders = {}\n",
    "for column in data.select_dtypes(include=['object']).columns:\n",
    "    label_encoders[column] = LabelEncoder()\n",
    "    data[column] = label_encoders[column].fit_transform(data[column])\n",
    "\n",
    "# Apply Z-score normalization to identified columns\n",
    "columns_to_normalize = ['long', 'lat']\n",
    "data_normalized = data.copy()\n",
    "data_normalized[columns_to_normalize] = data[columns_to_normalize].apply(zscore)\n",
    "\n",
    "# Atarget variable\n",
    "target_column = 'gravity'\n",
    "\n",
    "# Split the original data\n",
    "X_train, X_test, y_train, y_test = train_test_split(data.drop(columns=[target_column]), data[target_column], test_size=0.3, random_state=42)\n",
    "\n",
    "# Train an SVM on the original data\n",
    "model_svm_original = SVC(random_state=42)\n",
    "model_svm_original.fit(X_train, y_train)\n",
    "y_pred_svm_original = model_svm_original.predict(X_test)\n",
    "accuracy_svm_original = accuracy_score(y_test, y_pred_svm_original)\n",
    "\n",
    "# Split the normalized data\n",
    "X_train_norm, X_test_norm, y_train_norm, y_test_norm = train_test_split(data_normalized.drop(columns=[target_column]), data_normalized[target_column], test_size=0.3, random_state=42)\n",
    "\n",
    "# Train an SVM on the normalized data\n",
    "model_svm_normalized = SVC(random_state=42)\n",
    "model_svm_normalized.fit(X_train_norm, y_train_norm)\n",
    "y_pred_svm_normalized = model_svm_normalized.predict(X_test_norm)\n",
    "accuracy_svm_normalized = accuracy_score(y_test_norm, y_pred_svm_normalized)\n",
    "\n",
    "print(\"SVM Accuracy before normalization:\", accuracy_svm_original)\n",
    "print(\"SVM Accuracy after normalization:\", accuracy_svm_normalized)\n"
   ]
  },
  {
   "cell_type": "code",
   "execution_count": null,
   "id": "c511df87-033e-4362-9ad8-5030dfaa6aab",
   "metadata": {},
   "outputs": [],
   "source": []
  }
 ],
 "metadata": {
  "kernelspec": {
   "display_name": "Python 3 (ipykernel)",
   "language": "python",
   "name": "python3"
  },
  "language_info": {
   "codemirror_mode": {
    "name": "ipython",
    "version": 3
   },
   "file_extension": ".py",
   "mimetype": "text/x-python",
   "name": "python",
   "nbconvert_exporter": "python",
   "pygments_lexer": "ipython3",
   "version": "3.11.7"
  }
 },
 "nbformat": 4,
 "nbformat_minor": 5
}
