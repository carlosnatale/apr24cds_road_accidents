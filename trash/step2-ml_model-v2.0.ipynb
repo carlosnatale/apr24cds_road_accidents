{
 "cells": [
  {
   "cell_type": "code",
   "execution_count": 16,
   "id": "3ba8c8a9-6775-4694-b083-55de965df567",
   "metadata": {},
   "outputs": [],
   "source": [
    "import warnings\n",
    "import numpy as np\n",
    "import pandas as pd\n",
    "import seaborn as sns\n",
    "import matplotlib.pyplot as plt\n",
    "from sklearn.pipeline import Pipeline\n",
    "from sklearn.impute import SimpleImputer\n",
    "from imblearn.over_sampling import SMOTE\n",
    "from sklearn.compose import ColumnTransformer\n",
    "from sklearn.preprocessing import label_binarize\n",
    "from sklearn.model_selection import GridSearchCV\n",
    "from sklearn.multiclass import OneVsRestClassifier\n",
    "from sklearn.linear_model import LogisticRegression\n",
    "from sklearn.ensemble import RandomForestClassifier\n",
    "from sklearn.model_selection import train_test_split\n",
    "from sklearn.preprocessing import StandardScaler, OneHotEncoder\n",
    "from sklearn.metrics import classification_report, confusion_matrix, roc_curve, auc, precision_recall_curve, average_precision_score"
   ]
  },
  {
   "cell_type": "code",
   "execution_count": 2,
   "id": "8ea4c5f3-5a09-495f-a54b-cf58aeae918f",
   "metadata": {},
   "outputs": [],
   "source": [
    "# Suppress specific future warnings\n",
    "warnings.filterwarnings(\"ignore\", category=FutureWarning, module=\"seaborn\")\n",
    "warnings.filterwarnings(\"ignore\", category=FutureWarning, module=\"pandas\")"
   ]
  },
  {
   "cell_type": "code",
   "execution_count": 3,
   "id": "8c5ded44-023d-4d45-8011-d6db310b25cb",
   "metadata": {},
   "outputs": [],
   "source": [
    "# Load data\n",
    "characteristics = pd.read_csv('source/characteristics.csv')\n",
    "locations = pd.read_csv('source/locations.csv')\n",
    "users = pd.read_csv('source/users.csv')\n",
    "vehicles = pd.read_csv('source/vehicles.csv')"
   ]
  },
  {
   "cell_type": "code",
   "execution_count": 4,
   "id": "962f7559-48c4-49a5-93ef-5715d19a0ca2",
   "metadata": {},
   "outputs": [],
   "source": [
    "# Merge dataframes on AccID\n",
    "data = characteristics.merge(locations, on='AccID').merge(users, on='AccID').merge(vehicles, on='AccID')"
   ]
  },
  {
   "cell_type": "code",
   "execution_count": 5,
   "id": "50809b99-8004-4386-8e0d-b6298c7f6974",
   "metadata": {},
   "outputs": [],
   "source": [
    "# Update the feature columns based on the available columns in the dataframe\n",
    "feature_cols = ['time', 'lum', 'atm_condition', 'vehicle_category', 'age', 'traffic_regime', 'route_category']\n",
    "target_col = 'gravity'"
   ]
  },
  {
   "cell_type": "code",
   "execution_count": 6,
   "id": "4bb2b516-da85-4b28-922c-0cfc1343845c",
   "metadata": {},
   "outputs": [],
   "source": [
    "# Convert time column to a numerical format (e.g., seconds since midnight)\n",
    "data['time'] = pd.to_datetime(data['time'], format='%H:%M:%S').dt.hour * 3600 + pd.to_datetime(data['time'], format='%H:%M:%S').dt.minute * 60 + pd.to_datetime(data['time'], format='%H:%M:%S').dt.second"
   ]
  },
  {
   "cell_type": "code",
   "execution_count": 7,
   "id": "6e791ae7-69b3-4e58-8dfa-70fc829eb955",
   "metadata": {},
   "outputs": [],
   "source": [
    "# Handle missing values before splitting the data\n",
    "imputer = SimpleImputer(strategy='median')\n",
    "data[feature_cols] = imputer.fit_transform(data[feature_cols])"
   ]
  },
  {
   "cell_type": "code",
   "execution_count": 8,
   "id": "e964f92b-ecf8-4b7b-8fcb-07aa41d6200b",
   "metadata": {},
   "outputs": [],
   "source": [
    "# Ensure stratified split\n",
    "X = data[feature_cols]\n",
    "y = data[target_col]\n",
    "\n",
    "X_train, X_test, y_train, y_test = train_test_split(X, y, test_size=0.2, stratify=y, random_state=42)"
   ]
  },
  {
   "cell_type": "code",
   "execution_count": 9,
   "id": "9cc803d8-6589-49f2-8ace-fab335f95f30",
   "metadata": {},
   "outputs": [],
   "source": [
    "# Apply SMOTE to the training data\n",
    "smote = SMOTE(random_state=42)\n",
    "X_train_smote, y_train_smote = smote.fit_resample(X_train, y_train)"
   ]
  },
  {
   "cell_type": "code",
   "execution_count": 10,
   "id": "ac33f7e9-71f3-4de8-a799-d6237885af66",
   "metadata": {},
   "outputs": [],
   "source": [
    "# Preprocessing pipeline\n",
    "numeric_features = ['age', 'time']\n",
    "numeric_transformer = Pipeline(steps=[\n",
    "    ('scaler', StandardScaler())])\n",
    "\n",
    "categorical_features = ['lum', 'atm_condition', 'vehicle_category', 'traffic_regime', 'route_category']\n",
    "categorical_transformer = Pipeline(steps=[\n",
    "    ('onehot', OneHotEncoder(handle_unknown='ignore'))])\n",
    "\n",
    "preprocessor = ColumnTransformer(\n",
    "    transformers=[\n",
    "        ('num', numeric_transformer, numeric_features),\n",
    "        ('cat', categorical_transformer, categorical_features)])"
   ]
  },
  {
   "cell_type": "code",
   "execution_count": 13,
   "id": "1af7552a-29ac-4eb5-98c4-b35270f4f44d",
   "metadata": {},
   "outputs": [],
   "source": [
    "# Define the model pipeline with RandomForestClassifier\n",
    "model = Pipeline(steps=[('preprocessor', preprocessor),\n",
    "                        ('classifier', RandomForestClassifier(class_weight='balanced', random_state=42))])"
   ]
  },
  {
   "cell_type": "code",
   "execution_count": 14,
   "id": "107f03cd-dd9a-45d2-bcc3-732f1a9117c2",
   "metadata": {},
   "outputs": [],
   "source": [
    "# Define the parameter grid for GridSearchCV\n",
    "param_grid = {\n",
    "    'classifier__n_estimators': [100, 200, 300],\n",
    "    'classifier__max_depth': [None, 10, 20, 30],\n",
    "    'classifier__min_samples_split': [2, 5, 10],\n",
    "    'classifier__min_samples_leaf': [1, 2, 4]\n",
    "}"
   ]
  },
  {
   "cell_type": "code",
   "execution_count": null,
   "id": "2d4493e0-d613-411a-98bb-d4ef578f842b",
   "metadata": {},
   "outputs": [],
   "source": [
    "# Perform grid search\n",
    "grid_search = GridSearchCV(model, param_grid, cv=3, n_jobs=-1, scoring='f1_macro')\n",
    "grid_search.fit(X_train_smote, y_train_smote)"
   ]
  },
  {
   "cell_type": "code",
   "execution_count": null,
   "id": "71afacca-d3a7-4a1c-ad01-66037514a5f8",
   "metadata": {},
   "outputs": [],
   "source": [
    "# Print the best parameters and best score\n",
    "print(\"Best parameters found: \", grid_search.best_params_)\n",
    "print(\"Best score: \", grid_search.best_score_)"
   ]
  },
  {
   "cell_type": "code",
   "execution_count": null,
   "id": "5a13c8c3-547a-46ca-96df-1f04b3c0408c",
   "metadata": {},
   "outputs": [],
   "source": [
    "# Predict and evaluate the best model\n",
    "best_model = grid_search.best_estimator_\n",
    "y_pred = best_model.predict(X_test)\n",
    "y_pred_proba = best_model.predict_proba(X_test)\n",
    "\n",
    "print(\"Classification Report:\\n\", classification_report(y_test, y_pred, zero_division=1))\n",
    "print(\"Confusion Matrix:\\n\", confusion_matrix(y_test, y_pred))"
   ]
  },
  {
   "cell_type": "code",
   "execution_count": null,
   "id": "495b5196-58ec-4a6b-897a-9b7c088853d8",
   "metadata": {},
   "outputs": [],
   "source": [
    "# Confusion Matrix Heatmap\n",
    "conf_matrix = confusion_matrix(y_test, y_pred)\n",
    "plt.figure(figsize=(10,7))\n",
    "sns.heatmap(conf_matrix, annot=True, fmt='d', cmap='Blues')\n",
    "plt.title('Confusion Matrix')\n",
    "plt.xlabel('Predicted')\n",
    "plt.ylabel('Actual')\n",
    "\n",
    "# Adding a custom legend\n",
    "plt.text(5.5, 0.5, '1 - Unharmed', verticalalignment='center', color='black', fontsize=12)\n",
    "plt.text(5.5, 1.5, '2 - Killed', verticalalignment='center', color='black', fontsize=12)\n",
    "plt.text(5.5, 2.5, '3 - Hospitalized', verticalalignment='center', color='black', fontsize=12)\n",
    "plt.text(5.5, 3.5, '4 - Slightly injured', verticalalignment='center', color='black', fontsize=12)\n",
    "\n",
    "plt.show()"
   ]
  }
 ],
 "metadata": {
  "kernelspec": {
   "display_name": "Python 3 (ipykernel)",
   "language": "python",
   "name": "python3"
  },
  "language_info": {
   "codemirror_mode": {
    "name": "ipython",
    "version": 3
   },
   "file_extension": ".py",
   "mimetype": "text/x-python",
   "name": "python",
   "nbconvert_exporter": "python",
   "pygments_lexer": "ipython3",
   "version": "3.11.7"
  }
 },
 "nbformat": 4,
 "nbformat_minor": 5
}
