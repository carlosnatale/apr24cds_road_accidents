{
 "cells": [
  {
   "cell_type": "code",
   "execution_count": 1,
   "id": "2ac57e56-9eee-4b53-934d-4d3b9709233d",
   "metadata": {},
   "outputs": [],
   "source": [
    "# Import the necessary packages\n",
    "import pandas as pd\n",
    "import warnings\n",
    "from sklearn.model_selection import train_test_split, GridSearchCV\n",
    "from sklearn.ensemble import RandomForestClassifier\n",
    "from sklearn.preprocessing import StandardScaler, LabelEncoder\n",
    "from sklearn.metrics import classification_report, precision_recall_curve\n",
    "import numpy as np\n",
    "from imblearn.over_sampling import SMOTE"
   ]
  },
  {
   "cell_type": "code",
   "execution_count": 2,
   "id": "6754f4cc-2abb-4cd2-b31f-b4437886925a",
   "metadata": {},
   "outputs": [],
   "source": [
    "# Suppress specific future warnings\n",
    "warnings.filterwarnings(\"ignore\", category=FutureWarning, module=\"SMOTE\")\n",
    "warnings.filterwarnings(\"ignore\", category=FutureWarning, module=\"pandas\")\n",
    "warnings.filterwarnings(\"ignore\", category=FutureWarning, module=\"GridSearchCV\")\n",
    "warnings.filterwarnings(\"ignore\", category=FutureWarning, module=\"train_test_split\")"
   ]
  },
  {
   "cell_type": "code",
   "execution_count": 3,
   "id": "06440db9-f792-4057-bb2d-c18b0f824a65",
   "metadata": {},
   "outputs": [],
   "source": [
    "# Import the clean data\n",
    "data = pd.read_csv('source/data.csv', low_memory=False)"
   ]
  },
  {
   "cell_type": "code",
   "execution_count": 4,
   "id": "e3238c85-288d-4108-803b-dc63c22fd010",
   "metadata": {},
   "outputs": [],
   "source": [
    "# Copy of the original dataset for feature engineering and preprocessing\n",
    "data_processed = data.copy()"
   ]
  },
  {
   "cell_type": "code",
   "execution_count": 5,
   "id": "6d8350e3-e53b-4a50-99ff-95728ebd7bd5",
   "metadata": {},
   "outputs": [],
   "source": [
    "data_processed = data_processed.drop(['AccID','birth_year','vehicleID','num_veh'], axis=1)"
   ]
  },
  {
   "cell_type": "code",
   "execution_count": 6,
   "id": "9b479d35-9597-4d49-afc2-147e9d963266",
   "metadata": {},
   "outputs": [],
   "source": [
    "data_processed['time'] = data_processed['time'].astype('float64')\n",
    "data_processed['day'] = data_processed['day'].astype('float64')\n",
    "data_processed['month'] = data_processed['month'].astype('float64')\n",
    "data_processed['year'] = data_processed['year'].astype('float64')"
   ]
  },
  {
   "cell_type": "code",
   "execution_count": 7,
   "id": "b680f70f-6bad-4efd-9be5-2db216b2e092",
   "metadata": {},
   "outputs": [],
   "source": [
    "# Normalization/Standardization: Normalize or standardize numerical features\n",
    "numerical_columns = data_processed.select_dtypes(include=['float64']).columns\n",
    "\n",
    "scaler = StandardScaler()\n",
    "data_processed[numerical_columns] = scaler.fit_transform(data_processed[numerical_columns])"
   ]
  },
  {
   "cell_type": "code",
   "execution_count": 8,
   "id": "4ce35a1a-4ed5-4675-ad72-533049260e16",
   "metadata": {},
   "outputs": [
    {
     "data": {
      "text/html": [
       "<div>\n",
       "<style scoped>\n",
       "    .dataframe tbody tr th:only-of-type {\n",
       "        vertical-align: middle;\n",
       "    }\n",
       "\n",
       "    .dataframe tbody tr th {\n",
       "        vertical-align: top;\n",
       "    }\n",
       "\n",
       "    .dataframe thead th {\n",
       "        text-align: right;\n",
       "    }\n",
       "</style>\n",
       "<table border=\"1\" class=\"dataframe\">\n",
       "  <thead>\n",
       "    <tr style=\"text-align: right;\">\n",
       "      <th></th>\n",
       "      <th>day</th>\n",
       "      <th>month</th>\n",
       "      <th>year</th>\n",
       "      <th>time</th>\n",
       "      <th>lum</th>\n",
       "      <th>atm_condition</th>\n",
       "      <th>collision_type</th>\n",
       "      <th>lat</th>\n",
       "      <th>long</th>\n",
       "      <th>route_category</th>\n",
       "      <th>...</th>\n",
       "      <th>initial_impact_point</th>\n",
       "      <th>manv</th>\n",
       "      <th>motor</th>\n",
       "      <th>seat</th>\n",
       "      <th>user_category</th>\n",
       "      <th>gravity</th>\n",
       "      <th>gender</th>\n",
       "      <th>reason_travel</th>\n",
       "      <th>safety_equipment1</th>\n",
       "      <th>age</th>\n",
       "    </tr>\n",
       "  </thead>\n",
       "  <tbody>\n",
       "    <tr>\n",
       "      <th>0</th>\n",
       "      <td>1.635754</td>\n",
       "      <td>1.273089</td>\n",
       "      <td>-1.318561</td>\n",
       "      <td>-2.331127</td>\n",
       "      <td>4</td>\n",
       "      <td>1</td>\n",
       "      <td>2</td>\n",
       "      <td>0.805698</td>\n",
       "      <td>-0.063104</td>\n",
       "      <td>1</td>\n",
       "      <td>...</td>\n",
       "      <td>5</td>\n",
       "      <td>23</td>\n",
       "      <td>1</td>\n",
       "      <td>2</td>\n",
       "      <td>2</td>\n",
       "      <td>4</td>\n",
       "      <td>2</td>\n",
       "      <td>0</td>\n",
       "      <td>1</td>\n",
       "      <td>-1.141512</td>\n",
       "    </tr>\n",
       "    <tr>\n",
       "      <th>1</th>\n",
       "      <td>1.635754</td>\n",
       "      <td>1.273089</td>\n",
       "      <td>-1.318561</td>\n",
       "      <td>-2.331127</td>\n",
       "      <td>4</td>\n",
       "      <td>1</td>\n",
       "      <td>2</td>\n",
       "      <td>0.805698</td>\n",
       "      <td>-0.063104</td>\n",
       "      <td>1</td>\n",
       "      <td>...</td>\n",
       "      <td>5</td>\n",
       "      <td>23</td>\n",
       "      <td>1</td>\n",
       "      <td>1</td>\n",
       "      <td>1</td>\n",
       "      <td>4</td>\n",
       "      <td>2</td>\n",
       "      <td>5</td>\n",
       "      <td>1</td>\n",
       "      <td>-0.663829</td>\n",
       "    </tr>\n",
       "    <tr>\n",
       "      <th>2</th>\n",
       "      <td>1.635754</td>\n",
       "      <td>1.273089</td>\n",
       "      <td>-1.318561</td>\n",
       "      <td>-2.331127</td>\n",
       "      <td>4</td>\n",
       "      <td>1</td>\n",
       "      <td>2</td>\n",
       "      <td>0.805698</td>\n",
       "      <td>-0.063104</td>\n",
       "      <td>1</td>\n",
       "      <td>...</td>\n",
       "      <td>3</td>\n",
       "      <td>11</td>\n",
       "      <td>1</td>\n",
       "      <td>1</td>\n",
       "      <td>1</td>\n",
       "      <td>1</td>\n",
       "      <td>1</td>\n",
       "      <td>0</td>\n",
       "      <td>1</td>\n",
       "      <td>1.140752</td>\n",
       "    </tr>\n",
       "    <tr>\n",
       "      <th>3</th>\n",
       "      <td>1.635754</td>\n",
       "      <td>1.273089</td>\n",
       "      <td>-1.318561</td>\n",
       "      <td>-2.084448</td>\n",
       "      <td>3</td>\n",
       "      <td>1</td>\n",
       "      <td>6</td>\n",
       "      <td>0.821290</td>\n",
       "      <td>-0.104276</td>\n",
       "      <td>1</td>\n",
       "      <td>...</td>\n",
       "      <td>1</td>\n",
       "      <td>0</td>\n",
       "      <td>1</td>\n",
       "      <td>1</td>\n",
       "      <td>1</td>\n",
       "      <td>4</td>\n",
       "      <td>2</td>\n",
       "      <td>0</td>\n",
       "      <td>1</td>\n",
       "      <td>-0.716905</td>\n",
       "    </tr>\n",
       "    <tr>\n",
       "      <th>4</th>\n",
       "      <td>1.407189</td>\n",
       "      <td>1.273089</td>\n",
       "      <td>-1.318561</td>\n",
       "      <td>0.212747</td>\n",
       "      <td>1</td>\n",
       "      <td>1</td>\n",
       "      <td>4</td>\n",
       "      <td>0.823628</td>\n",
       "      <td>-0.124441</td>\n",
       "      <td>1</td>\n",
       "      <td>...</td>\n",
       "      <td>1</td>\n",
       "      <td>2</td>\n",
       "      <td>1</td>\n",
       "      <td>1</td>\n",
       "      <td>1</td>\n",
       "      <td>1</td>\n",
       "      <td>1</td>\n",
       "      <td>0</td>\n",
       "      <td>1</td>\n",
       "      <td>-0.823057</td>\n",
       "    </tr>\n",
       "  </tbody>\n",
       "</table>\n",
       "<p>5 rows × 35 columns</p>\n",
       "</div>"
      ],
      "text/plain": [
       "        day     month      year      time  lum  atm_condition  collision_type  \\\n",
       "0  1.635754  1.273089 -1.318561 -2.331127    4              1               2   \n",
       "1  1.635754  1.273089 -1.318561 -2.331127    4              1               2   \n",
       "2  1.635754  1.273089 -1.318561 -2.331127    4              1               2   \n",
       "3  1.635754  1.273089 -1.318561 -2.084448    3              1               6   \n",
       "4  1.407189  1.273089 -1.318561  0.212747    1              1               4   \n",
       "\n",
       "        lat      long  route_category  ...  initial_impact_point  manv  motor  \\\n",
       "0  0.805698 -0.063104               1  ...                     5    23      1   \n",
       "1  0.805698 -0.063104               1  ...                     5    23      1   \n",
       "2  0.805698 -0.063104               1  ...                     3    11      1   \n",
       "3  0.821290 -0.104276               1  ...                     1     0      1   \n",
       "4  0.823628 -0.124441               1  ...                     1     2      1   \n",
       "\n",
       "   seat  user_category  gravity  gender  reason_travel  safety_equipment1  \\\n",
       "0     2              2        4       2              0                  1   \n",
       "1     1              1        4       2              5                  1   \n",
       "2     1              1        1       1              0                  1   \n",
       "3     1              1        4       2              0                  1   \n",
       "4     1              1        1       1              0                  1   \n",
       "\n",
       "        age  \n",
       "0 -1.141512  \n",
       "1 -0.663829  \n",
       "2  1.140752  \n",
       "3 -0.716905  \n",
       "4 -0.823057  \n",
       "\n",
       "[5 rows x 35 columns]"
      ]
     },
     "execution_count": 8,
     "metadata": {},
     "output_type": "execute_result"
    }
   ],
   "source": [
    "data_processed.head()"
   ]
  },
  {
   "cell_type": "code",
   "execution_count": 9,
   "id": "d3fca859-dee0-4b7a-9cbb-69c05bbce1d2",
   "metadata": {},
   "outputs": [],
   "source": [
    "# Selecting features and target variable\n",
    "features = ['lum','atm_condition','collision_type','route_category','traffic_regime','reserved_lane_code','longitudinal_profile','upstream_terminal_number','plan','surface_condition','infra','accident_situation','traffic_direction','vehicle_category','fixed_obstacle','mobile_obstacle',\n",
    "'initial_impact_point','manv','motor','seat','user_category','gender','reason_travel','safety_equipment1','maximum_speed','age','lat','long','distance_upstream_terminal','total_number_lanes', 'day', 'time', 'month', 'year']\n",
    "target = 'gravity'"
   ]
  },
  {
   "cell_type": "code",
   "execution_count": 10,
   "id": "88abe0f0-4e16-40a8-9aaa-d1c36d22a37d",
   "metadata": {},
   "outputs": [],
   "source": [
    "# Handling categorical features with label encoding\n",
    "le = LabelEncoder()"
   ]
  },
  {
   "cell_type": "code",
   "execution_count": 11,
   "id": "373075db-6c7f-4dba-a394-a84097479f33",
   "metadata": {},
   "outputs": [],
   "source": [
    "# Splitting the data into train and test sets\n",
    "X = data_processed[features]\n",
    "y = data_processed[target]\n",
    "\n",
    "X_train, X_test, y_train, y_test = train_test_split(X, y, test_size=0.2, random_state=42)"
   ]
  },
  {
   "cell_type": "code",
   "execution_count": 12,
   "id": "659d43a7-6df8-4256-86fe-d6bf07aa7ada",
   "metadata": {},
   "outputs": [
    {
     "name": "stderr",
     "output_type": "stream",
     "text": [
      "C:\\Users\\sd10725\\AppData\\Roaming\\Python\\Python311\\site-packages\\joblib\\externals\\loky\\backend\\context.py:136: UserWarning: Could not find the number of physical cores for the following reason:\n",
      "found 0 physical cores < 1\n",
      "Returning the number of logical cores instead. You can silence this warning by setting LOKY_MAX_CPU_COUNT to the number of cores you want to use.\n",
      "  warnings.warn(\n",
      "  File \"C:\\Users\\sd10725\\AppData\\Roaming\\Python\\Python311\\site-packages\\joblib\\externals\\loky\\backend\\context.py\", line 282, in _count_physical_cores\n",
      "    raise ValueError(f\"found {cpu_count_physical} physical cores < 1\")\n"
     ]
    }
   ],
   "source": [
    "# SMOTE to balance the dataset\n",
    "smote = SMOTE(random_state=42)\n",
    "X_res, y_res = smote.fit_resample(X_train, y_train)"
   ]
  },
  {
   "cell_type": "code",
   "execution_count": 13,
   "id": "b6f08fa5-d001-4126-b97e-fe5d91e53da2",
   "metadata": {},
   "outputs": [],
   "source": [
    "# Define the hyperparameters to tune\n",
    "param_grid = {\n",
    "    'n_estimators': [100, 200],          # Number of trees in the forest\n",
    "    'max_depth': [20, 30],               # Maximum depth of the tree\n",
    "    'min_samples_split': [5, 10],        # Minimum number of samples to split a node\n",
    "    'min_samples_leaf': [2, 4],          # Minimum number of samples per leaf\n",
    "    'max_features': ['sqrt'],            # Max features considered for splitting\n",
    "    'class_weight': [{1: 1, 2: 20, 3: 1, 4: 1}]  # Increased weight for fatalities\n",
    "}"
   ]
  },
  {
   "cell_type": "markdown",
   "id": "18642a82-2b9e-4154-a5ec-37ab14e26c7a",
   "metadata": {},
   "source": [
    "Apply ML model v1---->"
   ]
  },
  {
   "cell_type": "code",
   "execution_count": 14,
   "id": "677cc114-b7a0-49c2-943a-cc0bd65aac10",
   "metadata": {},
   "outputs": [],
   "source": [
    "# Initialize RandomForest\n",
    "rf = RandomForestClassifier(random_state=42)"
   ]
  },
  {
   "cell_type": "code",
   "execution_count": 15,
   "id": "c154977a-a599-48fd-89d7-39142bf1adbb",
   "metadata": {},
   "outputs": [],
   "source": [
    "# Setup GridSearchCV\n",
    "grid_search = GridSearchCV(estimator=rf, param_grid=param_grid, \n",
    "                           scoring='f1_macro', cv=3, verbose=2, n_jobs=-1)"
   ]
  },
  {
   "cell_type": "code",
   "execution_count": 16,
   "id": "b99d4c33-8e8d-4fe6-a686-8d5ada53b7c0",
   "metadata": {},
   "outputs": [
    {
     "name": "stdout",
     "output_type": "stream",
     "text": [
      "Fitting 3 folds for each of 16 candidates, totalling 48 fits\n"
     ]
    },
    {
     "data": {
      "text/html": [
       "<style>#sk-container-id-1 {color: black;}#sk-container-id-1 pre{padding: 0;}#sk-container-id-1 div.sk-toggleable {background-color: white;}#sk-container-id-1 label.sk-toggleable__label {cursor: pointer;display: block;width: 100%;margin-bottom: 0;padding: 0.3em;box-sizing: border-box;text-align: center;}#sk-container-id-1 label.sk-toggleable__label-arrow:before {content: \"▸\";float: left;margin-right: 0.25em;color: #696969;}#sk-container-id-1 label.sk-toggleable__label-arrow:hover:before {color: black;}#sk-container-id-1 div.sk-estimator:hover label.sk-toggleable__label-arrow:before {color: black;}#sk-container-id-1 div.sk-toggleable__content {max-height: 0;max-width: 0;overflow: hidden;text-align: left;background-color: #f0f8ff;}#sk-container-id-1 div.sk-toggleable__content pre {margin: 0.2em;color: black;border-radius: 0.25em;background-color: #f0f8ff;}#sk-container-id-1 input.sk-toggleable__control:checked~div.sk-toggleable__content {max-height: 200px;max-width: 100%;overflow: auto;}#sk-container-id-1 input.sk-toggleable__control:checked~label.sk-toggleable__label-arrow:before {content: \"▾\";}#sk-container-id-1 div.sk-estimator input.sk-toggleable__control:checked~label.sk-toggleable__label {background-color: #d4ebff;}#sk-container-id-1 div.sk-label input.sk-toggleable__control:checked~label.sk-toggleable__label {background-color: #d4ebff;}#sk-container-id-1 input.sk-hidden--visually {border: 0;clip: rect(1px 1px 1px 1px);clip: rect(1px, 1px, 1px, 1px);height: 1px;margin: -1px;overflow: hidden;padding: 0;position: absolute;width: 1px;}#sk-container-id-1 div.sk-estimator {font-family: monospace;background-color: #f0f8ff;border: 1px dotted black;border-radius: 0.25em;box-sizing: border-box;margin-bottom: 0.5em;}#sk-container-id-1 div.sk-estimator:hover {background-color: #d4ebff;}#sk-container-id-1 div.sk-parallel-item::after {content: \"\";width: 100%;border-bottom: 1px solid gray;flex-grow: 1;}#sk-container-id-1 div.sk-label:hover label.sk-toggleable__label {background-color: #d4ebff;}#sk-container-id-1 div.sk-serial::before {content: \"\";position: absolute;border-left: 1px solid gray;box-sizing: border-box;top: 0;bottom: 0;left: 50%;z-index: 0;}#sk-container-id-1 div.sk-serial {display: flex;flex-direction: column;align-items: center;background-color: white;padding-right: 0.2em;padding-left: 0.2em;position: relative;}#sk-container-id-1 div.sk-item {position: relative;z-index: 1;}#sk-container-id-1 div.sk-parallel {display: flex;align-items: stretch;justify-content: center;background-color: white;position: relative;}#sk-container-id-1 div.sk-item::before, #sk-container-id-1 div.sk-parallel-item::before {content: \"\";position: absolute;border-left: 1px solid gray;box-sizing: border-box;top: 0;bottom: 0;left: 50%;z-index: -1;}#sk-container-id-1 div.sk-parallel-item {display: flex;flex-direction: column;z-index: 1;position: relative;background-color: white;}#sk-container-id-1 div.sk-parallel-item:first-child::after {align-self: flex-end;width: 50%;}#sk-container-id-1 div.sk-parallel-item:last-child::after {align-self: flex-start;width: 50%;}#sk-container-id-1 div.sk-parallel-item:only-child::after {width: 0;}#sk-container-id-1 div.sk-dashed-wrapped {border: 1px dashed gray;margin: 0 0.4em 0.5em 0.4em;box-sizing: border-box;padding-bottom: 0.4em;background-color: white;}#sk-container-id-1 div.sk-label label {font-family: monospace;font-weight: bold;display: inline-block;line-height: 1.2em;}#sk-container-id-1 div.sk-label-container {text-align: center;}#sk-container-id-1 div.sk-container {/* jupyter's `normalize.less` sets `[hidden] { display: none; }` but bootstrap.min.css set `[hidden] { display: none !important; }` so we also need the `!important` here to be able to override the default hidden behavior on the sphinx rendered scikit-learn.org. See: https://github.com/scikit-learn/scikit-learn/issues/21755 */display: inline-block !important;position: relative;}#sk-container-id-1 div.sk-text-repr-fallback {display: none;}</style><div id=\"sk-container-id-1\" class=\"sk-top-container\"><div class=\"sk-text-repr-fallback\"><pre>GridSearchCV(cv=3, estimator=RandomForestClassifier(random_state=42), n_jobs=-1,\n",
       "             param_grid={&#x27;class_weight&#x27;: [{1: 1, 2: 20, 3: 1, 4: 1}],\n",
       "                         &#x27;max_depth&#x27;: [20, 30], &#x27;max_features&#x27;: [&#x27;sqrt&#x27;],\n",
       "                         &#x27;min_samples_leaf&#x27;: [2, 4],\n",
       "                         &#x27;min_samples_split&#x27;: [5, 10],\n",
       "                         &#x27;n_estimators&#x27;: [100, 200]},\n",
       "             scoring=&#x27;f1_macro&#x27;, verbose=2)</pre><b>In a Jupyter environment, please rerun this cell to show the HTML representation or trust the notebook. <br />On GitHub, the HTML representation is unable to render, please try loading this page with nbviewer.org.</b></div><div class=\"sk-container\" hidden><div class=\"sk-item sk-dashed-wrapped\"><div class=\"sk-label-container\"><div class=\"sk-label sk-toggleable\"><input class=\"sk-toggleable__control sk-hidden--visually\" id=\"sk-estimator-id-1\" type=\"checkbox\" ><label for=\"sk-estimator-id-1\" class=\"sk-toggleable__label sk-toggleable__label-arrow\">GridSearchCV</label><div class=\"sk-toggleable__content\"><pre>GridSearchCV(cv=3, estimator=RandomForestClassifier(random_state=42), n_jobs=-1,\n",
       "             param_grid={&#x27;class_weight&#x27;: [{1: 1, 2: 20, 3: 1, 4: 1}],\n",
       "                         &#x27;max_depth&#x27;: [20, 30], &#x27;max_features&#x27;: [&#x27;sqrt&#x27;],\n",
       "                         &#x27;min_samples_leaf&#x27;: [2, 4],\n",
       "                         &#x27;min_samples_split&#x27;: [5, 10],\n",
       "                         &#x27;n_estimators&#x27;: [100, 200]},\n",
       "             scoring=&#x27;f1_macro&#x27;, verbose=2)</pre></div></div></div><div class=\"sk-parallel\"><div class=\"sk-parallel-item\"><div class=\"sk-item\"><div class=\"sk-label-container\"><div class=\"sk-label sk-toggleable\"><input class=\"sk-toggleable__control sk-hidden--visually\" id=\"sk-estimator-id-2\" type=\"checkbox\" ><label for=\"sk-estimator-id-2\" class=\"sk-toggleable__label sk-toggleable__label-arrow\">estimator: RandomForestClassifier</label><div class=\"sk-toggleable__content\"><pre>RandomForestClassifier(random_state=42)</pre></div></div></div><div class=\"sk-serial\"><div class=\"sk-item\"><div class=\"sk-estimator sk-toggleable\"><input class=\"sk-toggleable__control sk-hidden--visually\" id=\"sk-estimator-id-3\" type=\"checkbox\" ><label for=\"sk-estimator-id-3\" class=\"sk-toggleable__label sk-toggleable__label-arrow\">RandomForestClassifier</label><div class=\"sk-toggleable__content\"><pre>RandomForestClassifier(random_state=42)</pre></div></div></div></div></div></div></div></div></div></div>"
      ],
      "text/plain": [
       "GridSearchCV(cv=3, estimator=RandomForestClassifier(random_state=42), n_jobs=-1,\n",
       "             param_grid={'class_weight': [{1: 1, 2: 20, 3: 1, 4: 1}],\n",
       "                         'max_depth': [20, 30], 'max_features': ['sqrt'],\n",
       "                         'min_samples_leaf': [2, 4],\n",
       "                         'min_samples_split': [5, 10],\n",
       "                         'n_estimators': [100, 200]},\n",
       "             scoring='f1_macro', verbose=2)"
      ]
     },
     "execution_count": 16,
     "metadata": {},
     "output_type": "execute_result"
    }
   ],
   "source": [
    "# Fit the model with the grid search\n",
    "grid_search.fit(X_res, y_res)"
   ]
  },
  {
   "cell_type": "code",
   "execution_count": 17,
   "id": "50bb0ffd-d84b-4ecb-baf5-d91322cbb549",
   "metadata": {},
   "outputs": [
    {
     "name": "stdout",
     "output_type": "stream",
     "text": [
      "Best Parameters found:  {'class_weight': {1: 1, 2: 20, 3: 1, 4: 1}, 'max_depth': 30, 'max_features': 'sqrt', 'min_samples_leaf': 2, 'min_samples_split': 5, 'n_estimators': 200}\n"
     ]
    }
   ],
   "source": [
    "# Best hyperparameters\n",
    "print(\"Best Parameters found: \", grid_search.best_params_)"
   ]
  },
  {
   "cell_type": "code",
   "execution_count": 18,
   "id": "8b9d6e91-ae2c-498a-813a-71d38cbd5818",
   "metadata": {},
   "outputs": [],
   "source": [
    "# Predict on the test set with the best model from GridSearchCV\n",
    "y_pred_grid = grid_search.best_estimator_.predict(X_test)"
   ]
  },
  {
   "cell_type": "code",
   "execution_count": 19,
   "id": "c2a956d5-f29e-4bbd-8409-ff6b28f0f7f5",
   "metadata": {},
   "outputs": [
    {
     "name": "stdout",
     "output_type": "stream",
     "text": [
      "Initial classification report after hyperparameter tuning:\n",
      "              precision    recall  f1-score   support\n",
      "\n",
      "           1       0.75      0.79      0.77     37371\n",
      "           2       0.11      0.46      0.18      2335\n",
      "           3       0.45      0.33      0.38     13737\n",
      "           4       0.69      0.58      0.63     36091\n",
      "\n",
      "    accuracy                           0.63     89534\n",
      "   macro avg       0.50      0.54      0.49     89534\n",
      "weighted avg       0.66      0.63      0.64     89534\n",
      "\n"
     ]
    }
   ],
   "source": [
    "# Initial classification report\n",
    "print(\"Initial classification report after hyperparameter tuning:\")\n",
    "print(classification_report(y_test, y_pred_grid))"
   ]
  },
  {
   "cell_type": "code",
   "execution_count": 20,
   "id": "673949ae-68a7-442e-b740-9e24399c59c3",
   "metadata": {},
   "outputs": [],
   "source": [
    "# Threshold Tuning for Higher Precision for Fatalities\n",
    "# Get prediction probabilities\n",
    "y_probs = grid_search.best_estimator_.predict_proba(X_test)"
   ]
  },
  {
   "cell_type": "code",
   "execution_count": 21,
   "id": "33decb4e-77cd-4160-b691-84e9fbe80397",
   "metadata": {},
   "outputs": [
    {
     "name": "stdout",
     "output_type": "stream",
     "text": [
      "Class labels in the model: [1 2 3 4]\n",
      "Index for Class 2 (Fatal): 1\n"
     ]
    }
   ],
   "source": [
    "# Check how classes are ordered in the model\n",
    "class_labels = grid_search.best_estimator_.classes_\n",
    "print(\"Class labels in the model:\", class_labels)\n",
    "\n",
    "# Verify the index for Class 2 (Fatal)\n",
    "fatal_class_index = np.where(class_labels == 2)[0][0]\n",
    "print(f\"Index for Class 2 (Fatal): {fatal_class_index}\")\n"
   ]
  },
  {
   "cell_type": "code",
   "execution_count": 22,
   "id": "de774982-d969-4e37-868d-b67089893a04",
   "metadata": {},
   "outputs": [],
   "source": [
    "# Use probabilities for Class 2 (Fatal)\n",
    "fatal_probs = y_probs[:, 1]  "
   ]
  },
  {
   "cell_type": "code",
   "execution_count": 23,
   "id": "e47f08a1-9450-4011-b742-56236649a3f6",
   "metadata": {},
   "outputs": [],
   "source": [
    "# Use precision-recall curve to evaluate different thresholds\n",
    "precision, recall, thresholds = precision_recall_curve(y_test == 2, fatal_probs)"
   ]
  },
  {
   "cell_type": "code",
   "execution_count": 24,
   "id": "8af47050-e6fe-4ac5-9063-addc3aa7a5d8",
   "metadata": {},
   "outputs": [],
   "source": [
    "# Find the threshold that balances both precision and recall\n",
    "f1_scores = 2 * (precision * recall) / (precision + recall)  # Calculate F1-scores for each threshold\n",
    "best_threshold_index = np.argmax(f1_scores)  # Find the index with the highest F1-score\n",
    "best_threshold = thresholds[best_threshold_index]\n"
   ]
  },
  {
   "cell_type": "code",
   "execution_count": 25,
   "id": "8f3c06f9-a434-4fdf-9b26-6095b08360f9",
   "metadata": {},
   "outputs": [],
   "source": [
    "# Apply the threshold to classify fatal cases\n",
    "y_pred_adjusted = (fatal_probs >= best_threshold).astype(int)"
   ]
  },
  {
   "cell_type": "code",
   "execution_count": 26,
   "id": "5f500a24-3eb2-45dd-819a-af01e0f76234",
   "metadata": {},
   "outputs": [
    {
     "name": "stdout",
     "output_type": "stream",
     "text": [
      "Best Threshold: 0.5206057499306351\n",
      "Classification report after further threshold tuning:\n",
      "              precision    recall  f1-score   support\n",
      "\n",
      "       False       0.98      0.95      0.96     87199\n",
      "        True       0.14      0.32      0.20      2335\n",
      "\n",
      "    accuracy                           0.93     89534\n",
      "   macro avg       0.56      0.63      0.58     89534\n",
      "weighted avg       0.96      0.93      0.94     89534\n",
      "\n"
     ]
    }
   ],
   "source": [
    "# Generate classification report after adjusting the threshold\n",
    "print(f\"Best Threshold: {best_threshold}\")\n",
    "print(\"Classification report after further threshold tuning:\")\n",
    "print(classification_report(y_test == 2, y_pred_adjusted))"
   ]
  },
  {
   "cell_type": "markdown",
   "id": "e8e96910-d1c6-489c-bc63-03175a7c8fa2",
   "metadata": {},
   "source": [
    "Apply ML model v2---->"
   ]
  },
  {
   "cell_type": "code",
   "execution_count": 27,
   "id": "eaa27138-8ede-4e14-ae56-4d445639952f",
   "metadata": {},
   "outputs": [
    {
     "name": "stdout",
     "output_type": "stream",
     "text": [
      "Cost-Sensitive Random Forest Classification Report:\n",
      "              precision    recall  f1-score   support\n",
      "\n",
      "           1       0.74      0.81      0.77     37371\n",
      "           2       0.26      0.14      0.18      2335\n",
      "           3       0.45      0.54      0.49     13737\n",
      "           4       0.68      0.59      0.63     36091\n",
      "\n",
      "    accuracy                           0.66     89534\n",
      "   macro avg       0.54      0.52      0.52     89534\n",
      "weighted avg       0.66      0.66      0.66     89534\n",
      "\n"
     ]
    }
   ],
   "source": [
    "# Define class weights to penalize misclassifications of Class 2 (Fatal)\n",
    "class_weights = {1: 1, 2: 20, 3: 1, 4: 1}  # Increase weight for Class 2\n",
    "\n",
    "# Train the Random Forest classifier with class weights\n",
    "rf_model = RandomForestClassifier(random_state=42, class_weight=class_weights)\n",
    "rf_model.fit(X_res, y_res)\n",
    "\n",
    "# Predict on the test set\n",
    "y_pred = rf_model.predict(X_test)\n",
    "\n",
    "# Generate classification report\n",
    "print(\"Cost-Sensitive Random Forest Classification Report:\")\n",
    "print(classification_report(y_test, y_pred))\n"
   ]
  },
  {
   "cell_type": "code",
   "execution_count": null,
   "id": "abfdec17-e0a6-44f4-9f70-aa9c8431bae2",
   "metadata": {},
   "outputs": [],
   "source": [
    "Apply ML model v3---->"
   ]
  },
  {
   "cell_type": "code",
   "execution_count": 28,
   "id": "5237f608-c680-465f-9fad-caf38157b658",
   "metadata": {},
   "outputs": [
    {
     "name": "stdout",
     "output_type": "stream",
     "text": [
      "Random Forest Classification Report with Feature Engineering:\n",
      "              precision    recall  f1-score   support\n",
      "\n",
      "           1       0.74      0.80      0.77     37371\n",
      "           2       0.25      0.14      0.18      2335\n",
      "           3       0.45      0.54      0.49     13737\n",
      "           4       0.68      0.59      0.64     36091\n",
      "\n",
      "    accuracy                           0.66     89534\n",
      "   macro avg       0.53      0.52      0.52     89534\n",
      "weighted avg       0.66      0.66      0.66     89534\n",
      "\n"
     ]
    }
   ],
   "source": [
    "# Create interaction features for more complex relationships\n",
    "\n",
    "# Interaction between lighting conditions and time of accident (e.g., night-time accidents may be more fatal)\n",
    "data_processed['lighting_time_interaction'] = data_processed['lum'] * data_processed['time']\n",
    "\n",
    "# Interaction between weather conditions and location (e.g., certain locations may be more dangerous in bad weather)\n",
    "data_processed['weather_location_interaction'] = data_processed['atm_condition'] * (data_processed['lat'] + data_processed['long'])\n",
    "\n",
    "# Update the feature list with the new interaction terms\n",
    "features.extend(['lighting_time_interaction', 'weather_location_interaction'])\n",
    "\n",
    "# Re-train the model with the new features included\n",
    "X = data_processed[features]\n",
    "X_train, X_test, y_train, y_test = train_test_split(X, y, test_size=0.2, random_state=42)\n",
    "\n",
    "# Apply SMOTE for balancing the classes\n",
    "X_res, y_res = smote.fit_resample(X_train, y_train)\n",
    "\n",
    "# Train the Random Forest model with the newly engineered features and class weights\n",
    "rf_model.fit(X_res, y_res)\n",
    "\n",
    "# Predict on the test set\n",
    "y_pred = rf_model.predict(X_test)\n",
    "\n",
    "# Generate classification report\n",
    "print(\"Random Forest Classification Report with Feature Engineering:\")\n",
    "print(classification_report(y_test, y_pred))\n"
   ]
  },
  {
   "cell_type": "code",
   "execution_count": null,
   "id": "deed041a-0114-439f-8dea-4dd4ce0ed4fa",
   "metadata": {},
   "outputs": [],
   "source": [
    "Apply ML model v4---->"
   ]
  },
  {
   "cell_type": "code",
   "execution_count": 29,
   "id": "616b7a30-d224-4793-87f1-39502d0bd393",
   "metadata": {},
   "outputs": [
    {
     "name": "stdout",
     "output_type": "stream",
     "text": [
      "Best Threshold: 0.2\n",
      "Classification report after further threshold adjustment:\n",
      "              precision    recall  f1-score   support\n",
      "\n",
      "       False       0.98      0.95      0.97     87199\n",
      "        True       0.17      0.37      0.23      2335\n",
      "\n",
      "    accuracy                           0.94     89534\n",
      "   macro avg       0.58      0.66      0.60     89534\n",
      "weighted avg       0.96      0.94      0.95     89534\n",
      "\n"
     ]
    }
   ],
   "source": [
    "import numpy as np\n",
    "from sklearn.metrics import precision_recall_curve\n",
    "\n",
    "# Get the prediction probabilities for the test set\n",
    "y_probs = rf_model.predict_proba(X_test)\n",
    "\n",
    "# Extract the probabilities for Class 2 (Fatal)\n",
    "fatal_probs = y_probs[:, np.where(rf_model.classes_ == 2)[0][0]]  \n",
    "\n",
    "# Use precision-recall curve to evaluate different thresholds\n",
    "precision, recall, thresholds = precision_recall_curve(y_test == 2, fatal_probs)\n",
    "\n",
    "# Find the best threshold for an optimal balance of precision and recall (based on F1 score)\n",
    "f1_scores = 2 * (precision * recall) / (precision + recall)\n",
    "best_threshold_index = np.argmax(f1_scores)\n",
    "best_threshold = thresholds[best_threshold_index]\n",
    "\n",
    "# Apply the best threshold\n",
    "y_pred_threshold = (fatal_probs >= best_threshold).astype(int)\n",
    "\n",
    "# Generate classification report for the adjusted threshold\n",
    "print(f\"Best Threshold: {best_threshold}\")\n",
    "print(\"Classification report after further threshold adjustment:\")\n",
    "print(classification_report(y_test == 2, y_pred_threshold))\n"
   ]
  },
  {
   "cell_type": "code",
   "execution_count": null,
   "id": "fbdc3107-72cb-4abc-bd62-acf4042f6321",
   "metadata": {},
   "outputs": [],
   "source": []
  }
 ],
 "metadata": {
  "kernelspec": {
   "display_name": "Python 3 (ipykernel)",
   "language": "python",
   "name": "python3"
  },
  "language_info": {
   "codemirror_mode": {
    "name": "ipython",
    "version": 3
   },
   "file_extension": ".py",
   "mimetype": "text/x-python",
   "name": "python",
   "nbconvert_exporter": "python",
   "pygments_lexer": "ipython3",
   "version": "3.11.7"
  }
 },
 "nbformat": 4,
 "nbformat_minor": 5
}
