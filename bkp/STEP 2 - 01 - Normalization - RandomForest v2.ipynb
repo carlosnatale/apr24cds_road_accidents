{
 "cells": [
  {
   "cell_type": "code",
   "execution_count": 1,
   "id": "a29ae7b9-e4a0-456f-9841-cce3495b37ce",
   "metadata": {},
   "outputs": [
    {
     "name": "stdout",
     "output_type": "stream",
     "text": [
      "<class 'pandas.core.frame.DataFrame'>\n",
      "RangeIndex: 447670 entries, 0 to 447669\n",
      "Data columns (total 39 columns):\n",
      " #   Column                      Non-Null Count   Dtype  \n",
      "---  ------                      --------------   -----  \n",
      " 0   AccID                       447670 non-null  object \n",
      " 1   day                         447670 non-null  object \n",
      " 2   month                       447670 non-null  object \n",
      " 3   year                        447670 non-null  object \n",
      " 4   time                        447670 non-null  object \n",
      " 5   lum                         447670 non-null  object \n",
      " 6   atm_condition               447670 non-null  object \n",
      " 7   collision_type              447670 non-null  object \n",
      " 8   lat                         447670 non-null  float64\n",
      " 9   long                        447670 non-null  float64\n",
      " 10  route_category              447670 non-null  object \n",
      " 11  traffic_regime              447670 non-null  object \n",
      " 12  total_number_lanes          447670 non-null  object \n",
      " 13  reserved_lane_code          447670 non-null  object \n",
      " 14  longitudinal_profile        447670 non-null  object \n",
      " 15  upstream_terminal_number    447670 non-null  float64\n",
      " 16  distance_upstream_terminal  447670 non-null  float64\n",
      " 17  plan                        447670 non-null  object \n",
      " 18  surface_condition           447670 non-null  object \n",
      " 19  infra                       447670 non-null  object \n",
      " 20  accident_situation          447670 non-null  object \n",
      " 21  maximum_speed               447670 non-null  object \n",
      " 22  vehicleID                   447670 non-null  object \n",
      " 23  num_veh                     447670 non-null  object \n",
      " 24  traffic_direction           447670 non-null  object \n",
      " 25  vehicle_category            447670 non-null  object \n",
      " 26  fixed_obstacle              447670 non-null  object \n",
      " 27  mobile_obstacle             447670 non-null  object \n",
      " 28  initial_impact_point        447670 non-null  object \n",
      " 29  manv                        447670 non-null  object \n",
      " 30  motor                       447670 non-null  object \n",
      " 31  seat                        447670 non-null  object \n",
      " 32  user_category               447670 non-null  object \n",
      " 33  gravity                     447670 non-null  object \n",
      " 34  gender                      447670 non-null  object \n",
      " 35  birth_year                  447670 non-null  float64\n",
      " 36  reason_travel               447670 non-null  object \n",
      " 37  safety_equipment1           447670 non-null  object \n",
      " 38  age                         447670 non-null  float64\n",
      "dtypes: float64(6), object(33)\n",
      "memory usage: 133.2+ MB\n",
      "Shape of X_train: (358136, 211)\n",
      "Shape of X_test: (89534, 211)\n"
     ]
    }
   ],
   "source": [
    "# Import the necessary packages\n",
    "import warnings\n",
    "import numpy as np\n",
    "import pandas as pd\n",
    "from sklearn.preprocessing import StandardScaler\n",
    "from sklearn.model_selection import train_test_split\n",
    "\n",
    "# Suppress specific future warnings\n",
    "warnings.filterwarnings(\"ignore\", category=FutureWarning)\n",
    "\n",
    "# Import the clean data\n",
    "data = pd.read_pickle('source\\data.pkl')\n",
    "\n",
    "data.info()\n",
    "\n",
    "# Copy of the original dataset for feature engineering and preprocessing\n",
    "data_processed = data.copy()\n",
    "\n",
    "# Drop unnecessary columns\n",
    "data_processed = data_processed.drop(['AccID', 'birth_year', 'vehicleID', 'num_veh'], axis=1)\n",
    "\n",
    "# Convert 'day', 'month', and 'time' to integers\n",
    "data_processed['day'] = data_processed['day'].astype(int)\n",
    "data_processed['month'] = data_processed['month'].astype(int)\n",
    "data_processed['time'] = data_processed['time'].astype(int)\n",
    "\n",
    "# Cyclical encoding for temporal features\n",
    "data_processed['day_sin'] = np.sin(2 * np.pi * data_processed['day'] / 31)  \n",
    "data_processed['day_cos'] = np.cos(2 * np.pi * data_processed['day'] / 31)\n",
    "\n",
    "data_processed['month_sin'] = np.sin(2 * np.pi * data_processed['month'] / 12)\n",
    "data_processed['month_cos'] = np.cos(2 * np.pi * data_processed['month'] / 12)\n",
    "\n",
    "data_processed['time_sin'] = np.sin(2 * np.pi * data_processed['time'] / 86340000) \n",
    "data_processed['time_cos'] = np.cos(2 * np.pi * data_processed['time'] / 86340000)\n",
    "\n",
    "data_processed.drop(columns=['day','month','time'],inplace=True)\n",
    "\n",
    "# Selecting features and target variable\n",
    "features_dummy = ['year', 'lum', 'atm_condition', 'collision_type',\n",
    "       'route_category', 'traffic_regime', 'total_number_lanes',\n",
    "       'reserved_lane_code', 'longitudinal_profile', 'plan',\n",
    "       'surface_condition', 'infra', 'accident_situation',\n",
    "       'traffic_direction', 'vehicle_category', 'fixed_obstacle',\n",
    "       'mobile_obstacle', 'initial_impact_point', 'manv', 'motor', 'seat',\n",
    "       'user_category', 'gender', 'reason_travel',\n",
    "       'safety_equipment1']\n",
    "\n",
    "# These features will be standardized\n",
    "features_scaler = ['lat', 'long', 'upstream_terminal_number', 'distance_upstream_terminal', 'maximum_speed', 'age']\n",
    "\n",
    "# These features are between -1 and 1 and do not need any standardazations. \n",
    "features_temporal = ['day_sin', 'day_cos', 'month_sin', 'month_cos', 'time_sin', 'time_cos']\n",
    "target = 'gravity'\n",
    "\n",
    "X = data_processed.drop(columns=[target])\n",
    "y = data_processed[target]\n",
    "y = y.astype(int)\n",
    "\n",
    "X = pd.get_dummies(X, columns=features_dummy, drop_first=True)\n",
    "\n",
    "# stratify will split the dataset according to the distribution of the classes to compensate for imbalanced datasets.\n",
    "X_train, X_test, y_train, y_test = train_test_split(X, y, test_size=0.2, stratify=y, random_state=42)\n",
    "\n",
    "# Standardization: Fit only on the training data, then apply to both train and test\n",
    "scaler = StandardScaler()\n",
    "X_train[features_scaler] = scaler.fit_transform(X_train[features_scaler])\n",
    "X_test[features_scaler] = scaler.transform(X_test[features_scaler])\n",
    "\n",
    "# Check the dimensions\n",
    "print(f\"Shape of X_train: {X_train.shape}\")\n",
    "print(f\"Shape of X_test: {X_test.shape}\")"
   ]
  },
  {
   "cell_type": "code",
   "execution_count": null,
   "id": "5082d75e-2251-4563-b766-0643f9d5eee0",
   "metadata": {},
   "outputs": [],
   "source": [
    "from sklearn.ensemble import RandomForestClassifier\n",
    "from sklearn.model_selection import GridSearchCV\n",
    "\n",
    "# Define MODEL\n",
    "rf = RandomForestClassifier()\n",
    "\n",
    "# Define the hyperparameters to tune\n",
    "param_grid = {\n",
    "    'n_estimators': [100, 200, 500],\n",
    "    'max_depth': [10, 20, 30],\n",
    "    'min_samples_split': [2, 5, 10],\n",
    "    'min_samples_leaf': [1, 2, 4],\n",
    "    'max_features': ['sqrt', 'log2']\n",
    "}\n",
    "\n",
    "# Setting GridSearchCV\n",
    "grid_search = GridSearchCV(estimator=rf, param_grid=param_grid, cv=3, n_jobs=-1, verbose=2)\n",
    "\n",
    "# Model adjustment\n",
    "grid_search.fit(X_train, y_train)\n",
    "\n",
    "# Best parameters\n",
    "print(\"Best hyperparameters:\", grid_search.best_params_)"
   ]
  },
  {
   "cell_type": "code",
   "execution_count": null,
   "id": "ba84ae6b-0466-4f38-9b73-c0fa0f2bcab9",
   "metadata": {},
   "outputs": [],
   "source": [
    "# Best hyperparameters to tune\n",
    "param_grid = {\n",
    "    'n_estimators': [500],\n",
    "    'max_depth': [30],\n",
    "    'min_samples_split': [5],\n",
    "    'min_samples_leaf': [1],\n",
    "    'max_features': ['sqrt']\n",
    "}"
   ]
  },
  {
   "cell_type": "markdown",
   "id": "18642a82-2b9e-4154-a5ec-37ab14e26c7a",
   "metadata": {},
   "source": [
    "Apply ML model v1---->"
   ]
  },
  {
   "cell_type": "code",
   "execution_count": null,
   "id": "677cc114-b7a0-49c2-943a-cc0bd65aac10",
   "metadata": {},
   "outputs": [],
   "source": [
    "from sklearn.ensemble import RandomForestClassifier\n",
    "from sklearn.model_selection import GridSearchCV\n",
    "\n",
    "# Initialize RandomForest\n",
    "rf = RandomForestClassifier(random_state=42)"
   ]
  },
  {
   "cell_type": "code",
   "execution_count": null,
   "id": "c154977a-a599-48fd-89d7-39142bf1adbb",
   "metadata": {},
   "outputs": [],
   "source": [
    "# Setup GridSearchCV\n",
    "grid_search = GridSearchCV(estimator=rf, param_grid=param_grid, \n",
    "                           scoring='f1_macro', cv=3, verbose=2, n_jobs=-1)"
   ]
  },
  {
   "cell_type": "code",
   "execution_count": null,
   "id": "b99d4c33-8e8d-4fe6-a686-8d5ada53b7c0",
   "metadata": {},
   "outputs": [],
   "source": [
    "# Fit the model with the grid search\n",
    "grid_search.fit(X_train, y_train)"
   ]
  },
  {
   "cell_type": "code",
   "execution_count": null,
   "id": "50bb0ffd-d84b-4ecb-baf5-d91322cbb549",
   "metadata": {},
   "outputs": [],
   "source": [
    "# Best hyperparameters\n",
    "print(\"Best Parameters found: \", grid_search.best_params_)"
   ]
  },
  {
   "cell_type": "code",
   "execution_count": null,
   "id": "8b9d6e91-ae2c-498a-813a-71d38cbd5818",
   "metadata": {},
   "outputs": [],
   "source": [
    "# Predict on the test set with the best model from GridSearchCV\n",
    "y_pred_grid = grid_search.best_estimator_.predict(X_test)"
   ]
  },
  {
   "cell_type": "code",
   "execution_count": null,
   "id": "c2a956d5-f29e-4bbd-8409-ff6b28f0f7f5",
   "metadata": {},
   "outputs": [],
   "source": [
    "from sklearn.metrics import classification_report\n",
    "\n",
    "# Initial classification report\n",
    "print(\"Initial classification report after hyperparameter tuning:\")\n",
    "print(classification_report(y_test, y_pred_grid))"
   ]
  },
  {
   "cell_type": "code",
   "execution_count": null,
   "id": "673949ae-68a7-442e-b740-9e24399c59c3",
   "metadata": {},
   "outputs": [],
   "source": [
    "# Threshold Tuning for Higher Precision for Fatalities\n",
    "# Get prediction probabilities\n",
    "y_probs = grid_search.best_estimator_.predict_proba(X_test)"
   ]
  },
  {
   "cell_type": "code",
   "execution_count": null,
   "id": "33decb4e-77cd-4160-b691-84e9fbe80397",
   "metadata": {},
   "outputs": [],
   "source": [
    "# Check how classes are ordered in the model\n",
    "class_labels = grid_search.best_estimator_.classes_\n",
    "print(\"Class labels in the model:\", class_labels)\n",
    "\n",
    "# Verify the index for Class 2 (Fatal)\n",
    "fatal_class_index = np.where(class_labels == 2)[0][0]\n",
    "print(f\"Index for Class 2 (Fatal): {fatal_class_index}\")\n"
   ]
  },
  {
   "cell_type": "code",
   "execution_count": null,
   "id": "de774982-d969-4e37-868d-b67089893a04",
   "metadata": {},
   "outputs": [],
   "source": [
    "# Use probabilities for Class 2 (Fatal)\n",
    "fatal_probs = y_probs[:, 1]  "
   ]
  },
  {
   "cell_type": "code",
   "execution_count": null,
   "id": "e47f08a1-9450-4011-b742-56236649a3f6",
   "metadata": {},
   "outputs": [],
   "source": [
    "from sklearn.metrics import precision_recall_curve\n",
    "\n",
    "# Use precision-recall curve to evaluate different thresholds\n",
    "precision, recall, thresholds = precision_recall_curve(y_test == 2, fatal_probs)"
   ]
  },
  {
   "cell_type": "code",
   "execution_count": null,
   "id": "8af47050-e6fe-4ac5-9063-addc3aa7a5d8",
   "metadata": {},
   "outputs": [],
   "source": [
    "# Find the threshold that balances both precision and recall\n",
    "f1_scores = 2 * (precision * recall) / (precision + recall)  # Calculate F1-scores for each threshold\n",
    "best_threshold_index = np.argmax(f1_scores)  # Find the index with the highest F1-score\n",
    "best_threshold = thresholds[best_threshold_index]\n"
   ]
  },
  {
   "cell_type": "code",
   "execution_count": null,
   "id": "8f3c06f9-a434-4fdf-9b26-6095b08360f9",
   "metadata": {},
   "outputs": [],
   "source": [
    "# Apply the threshold to classify fatal cases\n",
    "y_pred_adjusted = (fatal_probs >= best_threshold).astype(int)"
   ]
  },
  {
   "cell_type": "code",
   "execution_count": null,
   "id": "5f500a24-3eb2-45dd-819a-af01e0f76234",
   "metadata": {},
   "outputs": [],
   "source": [
    "# Generate classification report after adjusting the threshold\n",
    "print(f\"Best Threshold: {best_threshold}\")\n",
    "print(\"Classification report after further threshold tuning:\")\n",
    "print(classification_report(y_test == 2, y_pred_adjusted))"
   ]
  },
  {
   "cell_type": "markdown",
   "id": "e8e96910-d1c6-489c-bc63-03175a7c8fa2",
   "metadata": {},
   "source": [
    "Apply ML model v2---->"
   ]
  },
  {
   "cell_type": "code",
   "execution_count": null,
   "id": "eaa27138-8ede-4e14-ae56-4d445639952f",
   "metadata": {},
   "outputs": [],
   "source": [
    "# Define class weights to penalize misclassifications of Class 2 (Fatal)\n",
    "class_weights = {1: 1, 2: 20, 3: 1, 4: 1}  # Increase weight for Class 2\n",
    "\n",
    "# Train the Random Forest classifier with class weights\n",
    "rf_model = RandomForestClassifier(random_state=42, class_weight=class_weights)\n",
    "rf_model.fit(X_train, y_train)\n",
    "\n",
    "# Predict on the test set\n",
    "y_pred = rf_model.predict(X_test)\n",
    "\n",
    "# Generate classification report\n",
    "print(\"Cost-Sensitive Random Forest Classification Report:\")\n",
    "print(classification_report(y_test, y_pred))\n"
   ]
  },
  {
   "cell_type": "code",
   "execution_count": null,
   "id": "abfdec17-e0a6-44f4-9f70-aa9c8431bae2",
   "metadata": {},
   "outputs": [],
   "source": [
    "Apply ML model v3---->"
   ]
  },
  {
   "cell_type": "code",
   "execution_count": null,
   "id": "616b7a30-d224-4793-87f1-39502d0bd393",
   "metadata": {},
   "outputs": [],
   "source": [
    "import numpy as np\n",
    "from sklearn.metrics import precision_recall_curve\n",
    "\n",
    "# Get the prediction probabilities for the test set\n",
    "y_probs = rf_model.predict_proba(X_test)\n",
    "\n",
    "# Extract the probabilities for Class 2 (Fatal)\n",
    "fatal_probs = y_probs[:, np.where(rf_model.classes_ == 2)[0][0]]  \n",
    "\n",
    "# Use precision-recall curve to evaluate different thresholds\n",
    "precision, recall, thresholds = precision_recall_curve(y_test == 2, fatal_probs)\n",
    "\n",
    "# Find the best threshold for an optimal balance of precision and recall (based on F1 score)\n",
    "f1_scores = 2 * (precision * recall) / (precision + recall)\n",
    "best_threshold_index = np.argmax(f1_scores)\n",
    "best_threshold = thresholds[best_threshold_index]\n",
    "\n",
    "# Apply the best threshold\n",
    "y_pred_threshold = (fatal_probs >= best_threshold).astype(int)\n",
    "\n",
    "# Generate classification report for the adjusted threshold\n",
    "print(f\"Best Threshold: {best_threshold}\")\n",
    "print(\"Classification report after further threshold adjustment:\")\n",
    "print(classification_report(y_test == 2, y_pred_threshold))\n"
   ]
  },
  {
   "cell_type": "markdown",
   "id": "00d8b830-8949-41bb-a558-06a1559fb77b",
   "metadata": {},
   "source": [
    "Apply ML model v4----> Addressing the Class Imbalance"
   ]
  },
  {
   "cell_type": "code",
   "execution_count": null,
   "id": "932f5668-cca6-4cc4-bc89-dcdef207b196",
   "metadata": {},
   "outputs": [],
   "source": [
    "# Check class distribution of the target variable\n",
    "print(y_train.value_counts())\n"
   ]
  },
  {
   "cell_type": "code",
   "execution_count": null,
   "id": "6b8ff8fb-34b9-494e-82f4-1ef6cf13035f",
   "metadata": {},
   "outputs": [],
   "source": [
    "# Random Forest with class_weight='balanced'\n",
    "rf_model_balanced = RandomForestClassifier(class_weight='balanced', random_state=42)\n",
    "rf_model_balanced.fit(X_train, y_train)\n",
    "\n",
    "# Predict and evaluate\n",
    "y_pred_balanced = rf_model_balanced.predict(X_test)\n"
   ]
  },
  {
   "cell_type": "code",
   "execution_count": null,
   "id": "386380c2-e8c6-4252-971f-257661584298",
   "metadata": {},
   "outputs": [],
   "source": [
    "from imblearn.over_sampling import SMOTE\n",
    "\n",
    "# Initialize SMOTE\n",
    "smote = SMOTE(random_state=42)\n",
    "\n",
    "# Apply SMOTE to the training data\n",
    "X_train_res, y_train_res = smote.fit_resample(X_train, y_train)\n",
    "\n",
    "# Train the Random Forest model on the resampled data\n",
    "rf_model_resampled = RandomForestClassifier(random_state=42)\n",
    "rf_model_resampled.fit(X_train_res, y_train_res)\n",
    "\n",
    "# Predict and evaluate\n",
    "y_pred_resampled = rf_model_resampled.predict(X_test)\n"
   ]
  },
  {
   "cell_type": "code",
   "execution_count": null,
   "id": "38c1c573-2368-46b0-9593-dead72713914",
   "metadata": {},
   "outputs": [],
   "source": [
    "\n"
   ]
  },
  {
   "cell_type": "code",
   "execution_count": 3,
   "id": "a5e25b44-379d-4135-84ff-4aa65f24413f",
   "metadata": {},
   "outputs": [
    {
     "name": "stdout",
     "output_type": "stream",
     "text": [
      "Class distribution after resampling:\n",
      " gravity\n",
      "1    140000\n",
      "4    130000\n",
      "3     50000\n",
      "2     10000\n",
      "Name: count, dtype: int64\n",
      "Accuracy on test set: 0.6798311256059151\n",
      "Classification Report:\n",
      "               precision    recall  f1-score   support\n",
      "\n",
      "           1       0.72      0.85      0.78     56306\n",
      "           2       0.40      0.03      0.06      3383\n",
      "           3       0.53      0.39      0.45     20347\n",
      "           4       0.67      0.65      0.66     54265\n",
      "\n",
      "    accuracy                           0.68    134301\n",
      "   macro avg       0.58      0.48      0.49    134301\n",
      "weighted avg       0.66      0.68      0.66    134301\n",
      "\n"
     ]
    }
   ],
   "source": [
    "from imblearn.over_sampling import SMOTE\n",
    "from sklearn.model_selection import train_test_split\n",
    "from sklearn.ensemble import RandomForestClassifier\n",
    "from sklearn.metrics import classification_report, accuracy_score\n",
    "import pandas as pd\n",
    "\n",
    "# Load your dataset (ensure that X and y are defined correctly)\n",
    "# Example: X, y = load_your_data()\n",
    "\n",
    "# Split data into training and test sets\n",
    "X_train, X_test, y_train, y_test = train_test_split(X, y, test_size=0.3, random_state=42, stratify=y)\n",
    "\n",
    "# Define the sampling strategy (adjust the numbers based on your dataset's class distribution)\n",
    "sampling_strategy = {\n",
    "    1: 140000,  # For class 1 (increase or match the number of samples)\n",
    "    2: 10000,   # For class 2\n",
    "    3: 50000,   # For class 3\n",
    "    4: 130000    # For class 4\n",
    "}\n",
    "\n",
    "# Apply SMOTE instead of ADASYN\n",
    "smote = SMOTE(sampling_strategy=sampling_strategy, random_state=42)\n",
    "X_resampled, y_resampled = smote.fit_resample(X_train, y_train)\n",
    "\n",
    "# Check class distribution after resampling\n",
    "print(\"Class distribution after resampling:\\n\", pd.Series(y_resampled).value_counts())\n",
    "\n",
    "# Train a Random Forest classifier on the resampled data\n",
    "clf = RandomForestClassifier(n_estimators=100, random_state=42)\n",
    "clf.fit(X_resampled, y_resampled)\n",
    "\n",
    "# Make predictions on the test set\n",
    "y_pred = clf.predict(X_test)\n",
    "\n",
    "# Evaluate the model\n",
    "print(\"Accuracy on test set:\", accuracy_score(y_test, y_pred))\n",
    "print(\"Classification Report:\\n\", classification_report(y_test, y_pred))\n"
   ]
  },
  {
   "cell_type": "code",
   "execution_count": null,
   "id": "e8d19f42-b13f-4f1b-ad44-c9cb864323ca",
   "metadata": {},
   "outputs": [],
   "source": []
  }
 ],
 "metadata": {
  "kernelspec": {
   "display_name": "Python 3 (ipykernel)",
   "language": "python",
   "name": "python3"
  },
  "language_info": {
   "codemirror_mode": {
    "name": "ipython",
    "version": 3
   },
   "file_extension": ".py",
   "mimetype": "text/x-python",
   "name": "python",
   "nbconvert_exporter": "python",
   "pygments_lexer": "ipython3",
   "version": "3.11.7"
  }
 },
 "nbformat": 4,
 "nbformat_minor": 5
}
