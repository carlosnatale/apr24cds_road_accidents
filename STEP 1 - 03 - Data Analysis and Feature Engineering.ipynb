{
 "cells": [
  {
   "cell_type": "code",
   "execution_count": null,
   "id": "6159ef34-0d25-462e-bac0-bf5e5fba22f7",
   "metadata": {},
   "outputs": [],
   "source": [
    "# Import libraries needed to execute the code\n",
    "import os\n",
    "import warnings\n",
    "import numpy as np\n",
    "import pandas as pd\n",
    "import seaborn as sns\n",
    "import plotly.express as px\n",
    "from datetime import datetime\n",
    "import matplotlib.pyplot as plt\n",
    "from sklearn.manifold import TSNE\n",
    "import scipy.cluster.hierarchy as shc\n",
    "from sklearn.decomposition import PCA\n",
    "from IPython.display import display, HTML\n",
    "from scipy.cluster.hierarchy import dendrogram, linkage\n",
    "from pandas.plotting import andrews_curves, parallel_coordinates, lag_plot, autocorrelation_plot, radviz"
   ]
  },
  {
   "cell_type": "code",
   "execution_count": null,
   "id": "f20fc511-87fb-4abb-92ed-e2a8dd019b8a",
   "metadata": {},
   "outputs": [],
   "source": [
    "# Import the clean data\n",
    "data = pd.read_csv('source/data.csv')"
   ]
  },
  {
   "cell_type": "code",
   "execution_count": null,
   "id": "59233688-575c-4fc2-8124-7545da6e15f8",
   "metadata": {},
   "outputs": [],
   "source": [
    "# List of columns to convert to object type\n",
    "columns_to_convert = [\n",
    "    'AccID', 'accident_situation', 'atm_condition', 'collision_type', 'com_code', 'dep_code', \n",
    "    'fixed_obstacle', 'gender', 'gravity', 'infra', 'initial_impact_point', 'int', 'location', \n",
    "    'longitudinal_profile', 'lum', 'manv', 'mobile_obstacle', 'motor', 'num_veh_x', 'num_veh_y',\n",
    "    'plan', 'reason_travel', 'reserved_lane_code', 'route_category', 'safety_equipment1', 'seat', \n",
    "    'surface_condition', 'traffic_direction', 'traffic_regime', 'user_category', \n",
    "    'vehicle_category', 'vehicleID_x', 'vehicleID_y'\n",
    "]\n",
    "\n",
    "# Convert specified columns to object type\n",
    "data[columns_to_convert] = data[columns_to_convert].astype('object')"
   ]
  },
  {
   "cell_type": "code",
   "execution_count": null,
   "id": "a50c43cd-f2e5-4ccd-b8c8-31b4796e2e73",
   "metadata": {},
   "outputs": [],
   "source": [
    "# Identifying correlations with the target variable 'gravity'\n",
    "\n",
    "# Identifying non-numeric columns again\n",
    "non_numeric_columns = data.select_dtypes(include=['object']).columns\n",
    "\n",
    "# Copy the original dataframe\n",
    "data_numeric = data.copy()\n",
    "\n",
    "# Convert columns to numeric where appropriate, errors='coerce' will convert non-convertible values to NaN\n",
    "for col in non_numeric_columns:\n",
    "    data_numeric[col] = pd.to_numeric(data_numeric[col], errors='coerce')\n",
    "\n",
    "# Identifying and dropping problematic columns specifically\n",
    "problematic_columns = ['time', 'vehicleID_x', 'num_veh_x', 'vehicleID_y', 'num_veh_y', 'year']\n",
    "\n",
    "# Drop the problematic columns and recalculate the correlation matrix\n",
    "data_cleaned = data_numeric.drop(columns=problematic_columns)\n",
    "\n",
    "# Calculate correlation matrix\n",
    "correlation_matrix = data_cleaned.corr()\n",
    "\n",
    "# Extract correlations with the target variable 'gravity'\n",
    "correlation_with_gravity = correlation_matrix['gravity'].sort_values(ascending=False)\n",
    "\n",
    "correlation_with_gravity"
   ]
  },
  {
   "cell_type": "markdown",
   "id": "b3821cf4-a7d8-4dca-8137-ed0f92d8cf8c",
   "metadata": {},
   "source": [
    "<font size=\"6\">  \n",
    "    Visualizations Preparation\n",
    "</font> "
   ]
  },
  {
   "cell_type": "code",
   "execution_count": null,
   "id": "419564b6-6e8c-40f0-9f76-2406b6ce0335",
   "metadata": {},
   "outputs": [],
   "source": [
    "# Set up the figure size and style\n",
    "sns.set_style(\"darkgrid\")"
   ]
  },
  {
   "cell_type": "code",
   "execution_count": null,
   "id": "90875086-f04b-4724-a120-b0eb784b2cd9",
   "metadata": {},
   "outputs": [],
   "source": [
    "# Ignore specific warnings\n",
    "warnings.filterwarnings(\"ignore\", category=FutureWarning, module=\"seaborn\")"
   ]
  },
  {
   "cell_type": "code",
   "execution_count": null,
   "id": "61b59560-08d5-4026-9222-e145c3ef0584",
   "metadata": {},
   "outputs": [],
   "source": [
    "# Replace the values in gravity field\n",
    "data['gravity'] = data['gravity'].replace({\n",
    "     1: '1 - Uninjured',\n",
    "     2: '2 - Fatal',\n",
    "     3: '3 - Hospitalized',\n",
    "     4: '4 - Minor injury'\n",
    "})\n",
    "# Define custom colors\n",
    "custom_colors = {\n",
    "    '1 - Uninjured': '#66B2FF',      \n",
    "    '2 - Fatal': '#FF9999',       \n",
    "    '3 - Hospitalized': '#FFCC99',   \n",
    "    '4 - Minor injury': '#99FF99' \n",
    "}\n",
    "\n",
    "# Sort gravity levels alphabetically\n",
    "gravity_order = sorted(custom_colors.keys())"
   ]
  },
  {
   "cell_type": "code",
   "execution_count": null,
   "id": "5335383b-afa9-4f5f-a6bd-e44fe7491e92",
   "metadata": {},
   "outputs": [],
   "source": [
    "# Function to calculate and display percentages in a separated table \n",
    "def calculate_and_display_percentages(data, group_by_col):\n",
    "    counts = data.groupby([group_by_col, 'gravity']).size().reset_index(name='count')\n",
    "    total_counts = data[group_by_col].value_counts().reset_index(name='total')\n",
    "    total_counts.columns = [group_by_col, 'total']\n",
    "    counts = counts.merge(total_counts, on=group_by_col)\n",
    "    counts['percentage'] = counts['count'] / counts['total'] * 100\n",
    "\n",
    "    # Pivot the table to show only percentages\n",
    "    percentage_table = counts.pivot(index=group_by_col, columns='gravity', values='percentage').fillna(0)\n",
    "    \n",
    "    styled_table = percentage_table.style.format(\"{:.1f}%\").set_table_styles(\n",
    "        [{'selector': 'th', 'props': [('font-size', '12pt'), ('font-weight', 'bold'), ('text-align', 'center')]},\n",
    "         {'selector': 'td', 'props': [('font-size', '10pt'), ('text-align', 'center')]},\n",
    "         {'selector': 'caption', 'props': [('caption-side', 'top')]}]\n",
    "    ).set_caption(f'Percentages of Accident Gravity by {group_by_col.capitalize()}').background_gradient(cmap='Blues', axis=None)\n",
    "\n",
    "    # Display the styled table\n",
    "    html = styled_table.to_html()\n",
    "    display(HTML(html))"
   ]
  },
  {
   "cell_type": "markdown",
   "id": "da58419d-eb75-4212-8b01-6bc4abb0499e",
   "metadata": {},
   "source": [
    "<font size=\"6\">  \n",
    "Graph Visualization\n",
    "</font>"
   ]
  },
  {
   "cell_type": "code",
   "execution_count": null,
   "id": "4c880abf-e8af-45bf-9fc8-dd79b79bb0a9",
   "metadata": {},
   "outputs": [],
   "source": [
    "# 1. Number of accidents by Severity Category\n",
    "\n",
    "# Calculate counts and sort them\n",
    "counts = data['gravity'].value_counts().sort_values(ascending=False)\n",
    "\n",
    "# Calculate percentages\n",
    "total = counts.sum()\n",
    "percentages = counts / total * 100\n",
    "\n",
    "plt.figure(figsize=(18, 12))\n",
    "ax = sns.countplot(data=data, x='gravity', order=counts.index, palette=custom_colors)\n",
    "\n",
    "for p, percentage in zip(ax.patches, percentages):\n",
    "    height = p.get_height()\n",
    "    ax.annotate(f'{percentage:.1f}%', \n",
    "                (p.get_x() + p.get_width() / 2., height), \n",
    "                ha='center', va='center', \n",
    "                xytext=(0, 8), \n",
    "                textcoords='offset points')\n",
    "\n",
    "plt.title('Number of accidents by Severity Category')\n",
    "plt.xlabel('Severity')\n",
    "plt.ylabel('Number of Accidents')\n",
    "plt.show()"
   ]
  },
  {
   "cell_type": "code",
   "execution_count": null,
   "id": "76a8db50-bc70-4588-93c8-db60e36e4e42",
   "metadata": {},
   "outputs": [],
   "source": [
    "# 2. Number of accidents by Severity vs.Year\n",
    "plt.figure(figsize=(18, 12))\n",
    "sns.countplot(data=data, x='year', hue='gravity', hue_order=gravity_order, palette=custom_colors)\n",
    "plt.title('Severity vs. Year of Accident')\n",
    "plt.xlabel('Year')\n",
    "plt.ylabel('Count')\n",
    "plt.legend(title='Severity')\n",
    "plt.show()\n",
    "\n",
    "# Call function to show the percentage Gravity vs. Year\n",
    "calculate_and_display_percentages(data, 'year')"
   ]
  },
  {
   "cell_type": "code",
   "execution_count": null,
   "id": "1e223832-da89-406d-be04-45876180cc1d",
   "metadata": {},
   "outputs": [],
   "source": [
    "# 2.1 Number of accidents by Severity vs.Year\n",
    "years = data['year'].unique()\n",
    "n_years = len(years)\n",
    "\n",
    "fig, axes = plt.subplots(1, n_years, figsize=(18, 6))\n",
    "fig.suptitle('Severity Distribution per Year', fontsize=16)\n",
    "\n",
    "custom_colors_mat = ['#66B2FF', '#99FF99', '#FFCC99', '#FF9999']\n",
    "\n",
    "for i, year in enumerate(years):\n",
    "    yearly_data = data[data['year'] == year]['gravity'].value_counts()\n",
    "    colors = custom_colors_mat[:len(yearly_data)]  \n",
    "    axes[i].pie(yearly_data, labels=yearly_data.index, autopct='%1.1f%%', colors=colors)\n",
    "    axes[i].set_title(f'Year {year}')\n",
    "\n",
    "plt.tight_layout(rect=[0, 0, 1, 0.96])\n",
    "plt.show()"
   ]
  },
  {
   "cell_type": "code",
   "execution_count": null,
   "id": "40f51d22-0f59-4167-ac3d-e9326a2a49b7",
   "metadata": {},
   "outputs": [],
   "source": [
    "# 3. Number of accidents by Severity vs. Month\n",
    "plt.figure(figsize=(18, 12))\n",
    "sns.countplot(data=data, x='month', hue='gravity', hue_order=gravity_order, palette=custom_colors)\n",
    "plt.title('Severity vs. Month')\n",
    "plt.xlabel('Month')\n",
    "plt.ylabel('Count')\n",
    "plt.legend(title='Severity')\n",
    "plt.show()\n",
    "\n",
    "calculate_and_display_percentages(data, 'month')"
   ]
  },
  {
   "cell_type": "code",
   "execution_count": null,
   "id": "ae16bf10-801c-4db6-a4e9-696b89190bd7",
   "metadata": {},
   "outputs": [],
   "source": [
    "# 4. Number of accidents by Severity vs. Day\n",
    "aggregated_data = data.groupby(['day', 'gravity']).size().reset_index(name='count')\n",
    "\n",
    "plt.figure(figsize=(18, 12))\n",
    "sns.lineplot(data=aggregated_data, x='day', y='count', hue='gravity', hue_order=gravity_order, palette=custom_colors)\n",
    "plt.title('Number of Accidents by Severity vs. Day')\n",
    "plt.xlabel('Day')\n",
    "plt.ylabel('Count')\n",
    "plt.legend(title='Severity')\n",
    "plt.show()\n",
    "\n",
    "calculate_and_display_percentages(data, 'day')"
   ]
  },
  {
   "cell_type": "code",
   "execution_count": null,
   "id": "e5acf4bc-18a2-44cb-b89b-27b797db5166",
   "metadata": {},
   "outputs": [],
   "source": [
    "# 5. Number of accidents by Severity vs. Weather Conditions\n",
    "plt.figure(figsize=(18, 12))\n",
    "sns.countplot(data=data, x='atm_condition', hue='gravity', hue_order=gravity_order, palette=custom_colors)\n",
    "plt.title('Severity vs. Weather Conditions')\n",
    "plt.xlabel('Weather Condition')\n",
    "plt.ylabel('Count')\n",
    "plt.legend(title='Severity')\n",
    "plt.xticks(rotation=45)\n",
    "plt.show()\n",
    "\n",
    "calculate_and_display_percentages(data, 'atm_condition')"
   ]
  },
  {
   "cell_type": "code",
   "execution_count": null,
   "id": "85e36cf5-d2cf-4162-aef2-62de41d42721",
   "metadata": {},
   "outputs": [],
   "source": [
    "# 6. Number of accidents by Severity vs. Lighting Conditions\n",
    "plt.figure(figsize=(18, 12))\n",
    "sns.countplot(data=data, x='lum', hue='gravity', hue_order=gravity_order, palette=custom_colors)\n",
    "plt.title('Gravity vs. Lighting Conditions')\n",
    "plt.xlabel('Lighting Condition')\n",
    "plt.ylabel('Count')\n",
    "plt.legend(title='Gravity')\n",
    "plt.xticks(rotation=45)\n",
    "plt.show()\n",
    "\n",
    "calculate_and_display_percentages(data, 'lum')"
   ]
  },
  {
   "cell_type": "code",
   "execution_count": null,
   "id": "c7ed8917-7dd5-4c1c-9b48-d7a5e34a43f6",
   "metadata": {},
   "outputs": [],
   "source": [
    "# 7. Number of accidents by Severity vs. Vehicle Category\n",
    "plt.figure(figsize=(18, 12))\n",
    "sns.countplot(data=data, x='vehicle_category', hue='gravity', hue_order=gravity_order, palette=custom_colors)\n",
    "plt.title('Gravity vs. Vehicle Category')\n",
    "plt.xlabel('Vehicle Category')\n",
    "plt.ylabel('Count')\n",
    "plt.legend(title='Gravity')\n",
    "plt.xticks(rotation=45)\n",
    "plt.show()\n",
    "\n",
    "calculate_and_display_percentages(data, 'vehicle_category')"
   ]
  },
  {
   "cell_type": "code",
   "execution_count": null,
   "id": "3048cf14-4c50-4026-9455-9a13ce1bec49",
   "metadata": {},
   "outputs": [],
   "source": [
    "# 7.1 Number of accidents by Severity vs.Year\n",
    "genders = data['gender'].unique()\n",
    "n_genders = len(genders)\n",
    "\n",
    "fig, axes = plt.subplots(1, n_genders, figsize=(18, 6))\n",
    "fig.suptitle('Severity Distribution per gender', fontsize=16)\n",
    "\n",
    "custom_colors_mat = ['#66B2FF', '#99FF99', '#FFCC99', '#FF9999']\n",
    "\n",
    "for i, gender in enumerate(genders):\n",
    "    genderly_data = data[data['gender'] == gender]['gravity'].value_counts()\n",
    "    colors = custom_colors_mat[:len(genderly_data)]  \n",
    "    axes[i].pie(genderly_data, labels=genderly_data.index, autopct='%1.1f%%', colors=colors)\n",
    "    axes[i].set_title(f'gender {gender}')\n",
    "\n",
    "plt.tight_layout(rect=[0, 0, 1, 0.96])\n",
    "plt.show()"
   ]
  },
  {
   "cell_type": "code",
   "execution_count": null,
   "id": "7ddf9a22-f4bd-4fc5-abab-00cf899ea550",
   "metadata": {},
   "outputs": [],
   "source": [
    "# 8. Number of accidents by Severity vs. Gender\n",
    "plt.figure(figsize=(18, 12))\n",
    "sns.countplot(data=data, x='gender', hue='gravity', hue_order=gravity_order, palette=custom_colors)\n",
    "plt.title('Gravity vs. Gender')\n",
    "plt.xlabel('Gender')\n",
    "plt.ylabel('Count')\n",
    "plt.legend(title='Gravity')\n",
    "plt.show()\n",
    "\n",
    "calculate_and_display_percentages(data, 'gender')"
   ]
  },
  {
   "cell_type": "code",
   "execution_count": null,
   "id": "01084ce1-9bb1-4004-a205-a08a96ea6b02",
   "metadata": {},
   "outputs": [],
   "source": [
    "# 9. Number of accidents by Severity vs. Surface Condition\n",
    "plt.figure(figsize=(18,12))\n",
    "sns.countplot(data=data, x='surface_condition', hue='gravity', hue_order=gravity_order, palette=custom_colors)\n",
    "plt.title('Gravity vs. Surface Condition')\n",
    "plt.xlabel('Surface Condition')\n",
    "plt.ylabel('Count')\n",
    "plt.legend(title='Gravity')\n",
    "plt.xticks(rotation=45)\n",
    "plt.show()\n",
    "\n",
    "calculate_and_display_percentages(data, 'surface_condition')"
   ]
  },
  {
   "cell_type": "code",
   "execution_count": null,
   "id": "34fa031e-67fe-4a9f-a66c-40d9a6a12bc9",
   "metadata": {},
   "outputs": [],
   "source": [
    "# 10. Number of accidents by Severity vs. Maximum Speed\n",
    "# Define the bins and corresponding labels\n",
    "bins = [0, 49, 59, 69, 79, 89, 99, 109, float('inf')]\n",
    "labels = ['0-49', '50-59', '60-69', '70-79', '80-89', '90-99', '100-109', '110-119']\n",
    "\n",
    "# Create a new column for the binned speeds\n",
    "data['speed_group'] = pd.cut(data['maximum_speed'], bins=bins, labels=labels, right=False)\n",
    "\n",
    "plt.figure(figsize=(10, 6))\n",
    "sns.countplot(data=data, x='speed_group', hue='gravity', hue_order=gravity_order, palette=custom_colors)\n",
    "plt.title('Gravity vs. Maximum Speed')\n",
    "plt.xlabel('Maximum Speed Group')\n",
    "plt.ylabel('Gravity')\n",
    "plt.legend(title='Gravity')\n",
    "plt.xticks(rotation=45)\n",
    "plt.show()\n",
    "\n",
    "calculate_and_display_percentages(data, 'maximum_speed')"
   ]
  },
  {
   "cell_type": "code",
   "execution_count": null,
   "id": "d33d8cb5-5718-4edf-a4da-7e71168e4db4",
   "metadata": {},
   "outputs": [],
   "source": [
    "# 11. Number of accidents by Severity vs. Age\n",
    "plt.figure(figsize=(10, 6))\n",
    "sns.boxplot(data=data, x='gravity', y='age', hue_order=gravity_order, palette=custom_colors)\n",
    "plt.title('Age Distribution by Accident Gravity Category')\n",
    "plt.show()\n",
    "\n",
    "calculate_and_display_percentages(data, 'age')"
   ]
  },
  {
   "cell_type": "code",
   "execution_count": null,
   "id": "f52353e4-aafd-4a59-bff2-39650519fc29",
   "metadata": {},
   "outputs": [],
   "source": [
    "# 12. Number of accidents by Severity vs. Age\n",
    "plt.figure(figsize=(10, 6))\n",
    "sns.kdeplot(data=data, x='age', hue='gravity', fill=True, hue_order=gravity_order, palette=custom_colors)\n",
    "plt.title('Density of Age Distribution by Accident Gravity Category')\n",
    "plt.show()"
   ]
  },
  {
   "cell_type": "code",
   "execution_count": null,
   "id": "85d8aa9f-c2b1-495c-bc19-330db253d588",
   "metadata": {},
   "outputs": [],
   "source": [
    "# 13. Number of accidents by Severity vs. Age\n",
    "plt.figure(figsize=(10, 6))\n",
    "sns.lineplot(data=data, x='age', y='maximum_speed', hue='gravity', hue_order=gravity_order, palette=custom_colors)\n",
    "plt.title('Age vs. Maximum Speed by Accident Gravity')\n",
    "plt.show()"
   ]
  },
  {
   "cell_type": "code",
   "execution_count": null,
   "id": "938c999a-6cce-45e0-8ee8-262ea93a0400",
   "metadata": {},
   "outputs": [],
   "source": [
    "# 14. Number of accidents by Severity vs. motor\n",
    "plt.figure(figsize=(18, 12))\n",
    "sns.countplot(data=data, x='motor', hue='gravity', hue_order=gravity_order, palette=custom_colors)\n",
    "plt.title('Severity vs. motor')\n",
    "plt.xlabel('motor')\n",
    "plt.ylabel('Count')\n",
    "plt.legend(title='Severity')\n",
    "plt.show()\n",
    "\n",
    "calculate_and_display_percentages(data, 'motor')"
   ]
  },
  {
   "cell_type": "code",
   "execution_count": null,
   "id": "94ec53ab-4cc2-4908-9e60-c04cd86f4b32",
   "metadata": {},
   "outputs": [],
   "source": [
    "# 15. Number of accidents by Severity vs. Impact point\n",
    "plt.figure(figsize=(18, 12))\n",
    "sns.countplot(data=data, x='initial_impact_point', hue='gravity', hue_order=gravity_order, palette=custom_colors)\n",
    "plt.title('Severity vs. Impact point')\n",
    "plt.xlabel('Impact point')\n",
    "plt.ylabel('Count')\n",
    "plt.legend(title='Severity')\n",
    "plt.show()\n",
    "\n",
    "calculate_and_display_percentages(data, 'initial_impact_point')"
   ]
  },
  {
   "cell_type": "code",
   "execution_count": null,
   "id": "721ddd99-eabb-42c5-b5d1-9e30833d54f6",
   "metadata": {},
   "outputs": [],
   "source": [
    "# 16. Number of accidents by Severity vs. Safety equipment\n",
    "plt.figure(figsize=(18, 12))\n",
    "sns.countplot(data=data, x='safety_equipment1', hue='gravity', hue_order=gravity_order, palette=custom_colors)\n",
    "plt.title('Severity vs. Safety equipment')\n",
    "plt.xlabel('Safety equipment')\n",
    "plt.ylabel('Count')\n",
    "plt.legend(title='Severity')\n",
    "plt.show()\n",
    "\n",
    "calculate_and_display_percentages(data, 'safety_equipment1')"
   ]
  },
  {
   "cell_type": "code",
   "execution_count": null,
   "id": "029ec759-513e-4c92-8f96-7397de0c5350",
   "metadata": {},
   "outputs": [],
   "source": [
    "# 17. Number of accidents by Severity vs. Manv\n",
    "plt.figure(figsize=(18, 12))\n",
    "sns.countplot(data=data, x='manv', hue='gravity', hue_order=gravity_order, palette=custom_colors)\n",
    "plt.title('Severity vs. manv')\n",
    "plt.xlabel('manv')\n",
    "plt.ylabel('Count')\n",
    "plt.legend(title='Severity')\n",
    "plt.show()\n",
    "\n",
    "calculate_and_display_percentages(data, 'manv')"
   ]
  },
  {
   "cell_type": "code",
   "execution_count": null,
   "id": "8569dbe9-9554-4819-994e-c40c2c4e892f",
   "metadata": {},
   "outputs": [],
   "source": [
    "# 18. Number of accidents by Severity vs. user_category\n",
    "plt.figure(figsize=(18, 12))\n",
    "sns.countplot(data=data, x='user_category', hue='gravity', hue_order=gravity_order, palette=custom_colors)\n",
    "plt.title('Severity vs. user_category')\n",
    "plt.xlabel('user_category')\n",
    "plt.ylabel('Count')\n",
    "plt.legend(title='Severity')\n",
    "plt.show()\n",
    "\n",
    "calculate_and_display_percentages(data, 'user_category')"
   ]
  },
  {
   "cell_type": "code",
   "execution_count": null,
   "id": "58e25673-9fb0-4151-840a-e5bb16f457b9",
   "metadata": {},
   "outputs": [],
   "source": [
    "# 19. Number of accidents by Severity vs. seat\n",
    "plt.figure(figsize=(18, 12))\n",
    "sns.countplot(data=data, x='seat', hue='gravity', hue_order=gravity_order, palette=custom_colors)\n",
    "plt.title('Severity vs. seat')\n",
    "plt.xlabel('seat')\n",
    "plt.ylabel('Count')\n",
    "plt.legend(title='Severity')\n",
    "plt.show()\n",
    "\n",
    "calculate_and_display_percentages(data, 'seat')"
   ]
  },
  {
   "cell_type": "code",
   "execution_count": null,
   "id": "bdd687fb-6061-4525-8bba-d5069e69c949",
   "metadata": {},
   "outputs": [],
   "source": [
    "# 20. Accidents Severity vs. geographical location\n",
    "fig = px.scatter_mapbox(\n",
    "    data, \n",
    "    lat=\"lat\", \n",
    "    lon=\"long\", \n",
    "    color=\"gravity\", \n",
    "    color_continuous_scale=px.colors.cyclical.IceFire, \n",
    "    zoom=3, \n",
    "    height=1000, \n",
    "    width=2000, \n",
    "    labels={\"gravity\": \"Severity\"}\n",
    ")\n",
    "\n",
    "# Update the layout for mapbox style\n",
    "fig.update_layout(\n",
    "    mapbox_style=\"open-street-map\",\n",
    "    mapbox_center={\"lat\": data[\"lat\"].mean(), \"lon\": data[\"long\"].mean()}, \n",
    "    title={'x': 0.5} \n",
    ")\n",
    "\n",
    "# Add hover data for more information on each point\n",
    "fig.update_traces(marker=dict(size=8), \n",
    "                  hovertemplate=\"<br>\".join([\n",
    "                      \"Latitude: %{lat}\",\n",
    "                      \"Longitude: %{lon}\",\n",
    "                      \"Severity: %{marker.color}\"\n",
    "                  ])\n",
    ")\n",
    "\n",
    "# Save the map as an HTML file\n",
    "fig.write_html(\"accidents_severity_map.html\")\n"
   ]
  },
  {
   "cell_type": "code",
   "execution_count": null,
   "id": "b35917e0-9dd6-4155-ab23-6ef7a6005d5e",
   "metadata": {},
   "outputs": [],
   "source": []
  }
 ],
 "metadata": {
  "kernelspec": {
   "display_name": "Python 3 (ipykernel)",
   "language": "python",
   "name": "python3"
  },
  "language_info": {
   "codemirror_mode": {
    "name": "ipython",
    "version": 3
   },
   "file_extension": ".py",
   "mimetype": "text/x-python",
   "name": "python",
   "nbconvert_exporter": "python",
   "pygments_lexer": "ipython3",
   "version": "3.11.7"
  }
 },
 "nbformat": 4,
 "nbformat_minor": 5
}
