{
 "cells": [
  {
   "cell_type": "code",
   "execution_count": null,
   "id": "17cc1bdc-c064-433a-a16f-b2cc2106f9d1",
   "metadata": {},
   "outputs": [],
   "source": [
    "# Import the necessary packages\n",
    "import pandas as pd\n",
    "import warnings\n",
    "from sklearn.model_selection import train_test_split\n",
    "from sklearn.preprocessing import StandardScaler\n",
    "import numpy as np"
   ]
  },
  {
   "cell_type": "code",
   "execution_count": null,
   "id": "0c0d7786-afdb-4053-bf8d-3597a26bfe69",
   "metadata": {},
   "outputs": [],
   "source": [
    "# Suppress specific future warnings\n",
    "warnings.filterwarnings(\"ignore\", category=FutureWarning)"
   ]
  },
  {
   "cell_type": "code",
   "execution_count": null,
   "id": "bf07a27d-de3e-4826-bf68-4152043359a8",
   "metadata": {},
   "outputs": [],
   "source": [
    "# Import the clean data\n",
    "data = pd.read_csv('source/data.csv', low_memory=False)"
   ]
  },
  {
   "cell_type": "code",
   "execution_count": null,
   "id": "0a2b88f9-4be5-49b0-b78b-9bc4326e3e4e",
   "metadata": {},
   "outputs": [],
   "source": [
    "# Copy of the original dataset for feature engineering and preprocessing\n",
    "data_processed = data.copy()"
   ]
  },
  {
   "cell_type": "code",
   "execution_count": null,
   "id": "834dad4e-eb67-4eeb-a34b-a36413984127",
   "metadata": {},
   "outputs": [],
   "source": [
    "# Drop unnecessary columns\n",
    "data_processed = data_processed.drop(['AccID', 'birth_year', 'vehicleID', 'num_veh'], axis=1)"
   ]
  },
  {
   "cell_type": "code",
   "execution_count": null,
   "id": "97fb1efa-32e9-4a21-b996-cbe3eee16622",
   "metadata": {},
   "outputs": [],
   "source": [
    "# Converting 'time', 'day', 'month', and 'year' to float type\n",
    "data_processed['time'] = data_processed['time'].astype('float64')\n",
    "data_processed['day'] = data_processed['day'].astype('float64')\n",
    "data_processed['month'] = data_processed['month'].astype('float64')\n",
    "data_processed['year'] = data_processed['year'].astype('float64')"
   ]
  },
  {
   "cell_type": "code",
   "execution_count": null,
   "id": "d4e10343-9e2f-47e6-9224-c14146f4854b",
   "metadata": {},
   "outputs": [],
   "source": [
    "# Selecting features and target variable\n",
    "features = ['lum', 'atm_condition', 'collision_type', 'route_category', 'traffic_regime', 'reserved_lane_code', \n",
    "            'longitudinal_profile', 'upstream_terminal_number', 'plan', 'surface_condition', 'infra', 'accident_situation', \n",
    "            'traffic_direction', 'vehicle_category', 'fixed_obstacle', 'mobile_obstacle', 'initial_impact_point', 'manv', \n",
    "            'motor', 'seat', 'user_category', 'gender', 'reason_travel', 'safety_equipment1', 'maximum_speed', 'age', \n",
    "            'lat', 'long', 'distance_upstream_terminal', 'total_number_lanes', 'day', 'time', 'month', 'year']\n",
    "target = 'gravity'"
   ]
  },
  {
   "cell_type": "code",
   "execution_count": null,
   "id": "9af3da25-aa13-43c8-86a2-5d48b1a66499",
   "metadata": {},
   "outputs": [],
   "source": [
    "# Handling categorical features with One Hot Encoding\n",
    "X = pd.get_dummies(data_processed[features], drop_first=True)\n",
    "y = data_processed[target]"
   ]
  },
  {
   "cell_type": "code",
   "execution_count": null,
   "id": "d6c3c5c5-02fc-40a9-91ff-7c718c28199f",
   "metadata": {},
   "outputs": [],
   "source": [
    "# Splitting the data into train and test sets\n",
    "X_train, X_test, y_train, y_test = train_test_split(X, y, test_size=0.2, random_state=42)"
   ]
  },
  {
   "cell_type": "code",
   "execution_count": null,
   "id": "65525ce9-7a5c-42ea-a8ba-ea2d8867e66c",
   "metadata": {},
   "outputs": [],
   "source": [
    "# Standardization: Fit only on the training data, then apply to both train and test\n",
    "scaler = StandardScaler()\n",
    "numerical_columns = X.select_dtypes(include=['float64']).columns\n",
    "\n",
    "X_train[numerical_columns] = scaler.fit_transform(X_train[numerical_columns])\n",
    "X_test[numerical_columns] = scaler.transform(X_test[numerical_columns])"
   ]
  },
  {
   "cell_type": "code",
   "execution_count": null,
   "id": "8c0b5007-ad17-46d3-842c-2272939d9ba4",
   "metadata": {},
   "outputs": [],
   "source": [
    "# Check the dimensions of your dataframe\n",
    "print(f\"Shape of X_train: {X_train.shape}\")\n",
    "print(f\"Shape of X_test: {X_test.shape}\")"
   ]
  },
  {
   "cell_type": "markdown",
   "id": "18642a82-2b9e-4154-a5ec-37ab14e26c7a",
   "metadata": {},
   "source": [
    "Apply ML model ---->"
   ]
  },
  {
   "cell_type": "code",
   "execution_count": null,
   "id": "1e4bd775-da74-45c1-b9ad-73d35aba5268",
   "metadata": {},
   "outputs": [],
   "source": []
  }
 ],
 "metadata": {
  "kernelspec": {
   "display_name": "Python 3 (ipykernel)",
   "language": "python",
   "name": "python3"
  },
  "language_info": {
   "codemirror_mode": {
    "name": "ipython",
    "version": 3
   },
   "file_extension": ".py",
   "mimetype": "text/x-python",
   "name": "python",
   "nbconvert_exporter": "python",
   "pygments_lexer": "ipython3",
   "version": "3.11.7"
  }
 },
 "nbformat": 4,
 "nbformat_minor": 5
}
