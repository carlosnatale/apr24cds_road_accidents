{
 "cells": [
  {
   "cell_type": "code",
   "execution_count": 1,
   "id": "7973b64c-7e36-40eb-b4d7-360954f0a04e",
   "metadata": {},
   "outputs": [],
   "source": [
    "import pandas as pd\n",
    "from xgboost import XGBClassifier\n",
    "from sklearn.model_selection import train_test_split\n",
    "import pickle\n",
    "import shap\n",
    "import lime.lime_tabular\n",
    "import matplotlib.pyplot as plt\n",
    "import numpy as np\n",
    "import os\n",
    "import warnings\n",
    "warnings.filterwarnings(\"ignore\")"
   ]
  },
  {
   "cell_type": "code",
   "execution_count": 13,
   "id": "b823e4c6-285b-4f1b-9dd5-cb3d60037cc3",
   "metadata": {},
   "outputs": [
    {
     "ename": "TypeError",
     "evalue": "only integer scalar arrays can be converted to a scalar index",
     "output_type": "error",
     "traceback": [
      "\u001b[1;31m---------------------------------------------------------------------------\u001b[0m",
      "\u001b[1;31mTypeError\u001b[0m                                 Traceback (most recent call last)",
      "Cell \u001b[1;32mIn[13], line 40\u001b[0m\n\u001b[0;32m     37\u001b[0m  shap_values \u001b[38;5;241m=\u001b[39m explainer(X_sample_array)\n\u001b[0;32m     39\u001b[0m  \u001b[38;5;66;03m# SHAP Summary Plot\u001b[39;00m\n\u001b[1;32m---> 40\u001b[0m  \u001b[43mshap\u001b[49m\u001b[38;5;241;43m.\u001b[39;49m\u001b[43msummary_plot\u001b[49m\u001b[43m(\u001b[49m\u001b[43mshap_values\u001b[49m\u001b[43m,\u001b[49m\u001b[43m \u001b[49m\u001b[43mX_sample\u001b[49m\u001b[43m,\u001b[49m\u001b[43m \u001b[49m\u001b[43mfeature_names\u001b[49m\u001b[38;5;241;43m=\u001b[39;49m\u001b[43mX_sample\u001b[49m\u001b[38;5;241;43m.\u001b[39;49m\u001b[43mcolumns\u001b[49m\u001b[38;5;241;43m.\u001b[39;49m\u001b[43mtolist\u001b[49m\u001b[43m(\u001b[49m\u001b[43m)\u001b[49m\u001b[43m,\u001b[49m\u001b[43m \u001b[49m\u001b[43mshow\u001b[49m\u001b[38;5;241;43m=\u001b[39;49m\u001b[38;5;28;43;01mFalse\u001b[39;49;00m\u001b[43m)\u001b[49m\n\u001b[0;32m     41\u001b[0m  fig_summary \u001b[38;5;241m=\u001b[39m plt\u001b[38;5;241m.\u001b[39mgcf()\n\u001b[0;32m     44\u001b[0m \u001b[38;5;66;03m# SHAP Dependence Plot for the first feature\u001b[39;00m\n\u001b[0;32m     45\u001b[0m \u001b[38;5;66;03m# feature_name = X_sample.columns[0]\u001b[39;00m\n\u001b[0;32m     46\u001b[0m \u001b[38;5;66;03m# shap.dependence_plot(feature_name, shap_values, X_sample_array, show=False)\u001b[39;00m\n\u001b[0;32m     47\u001b[0m \u001b[38;5;66;03m# fig_dependence = plt.gcf()\u001b[39;00m\n\u001b[0;32m     48\u001b[0m \n\u001b[0;32m     49\u001b[0m  \u001b[38;5;66;03m# LIME Explanation\u001b[39;00m\n",
      "File \u001b[1;32m~\\AppData\\Local\\anaconda3\\Lib\\site-packages\\shap\\plots\\_beeswarm.py:595\u001b[0m, in \u001b[0;36msummary_legacy\u001b[1;34m(shap_values, features, feature_names, max_display, plot_type, color, axis_color, title, alpha, show, sort, color_bar, plot_size, layered_violin_max_num_bins, class_names, class_inds, color_bar_label, cmap, show_values_in_legend, use_log_scale)\u001b[0m\n\u001b[0;32m    591\u001b[0m proj_shap_values \u001b[38;5;241m=\u001b[39m shap_values[:, sort_inds[\u001b[38;5;241m0\u001b[39m], sort_inds]\n\u001b[0;32m    592\u001b[0m proj_shap_values[:, \u001b[38;5;241m1\u001b[39m:] \u001b[38;5;241m*\u001b[39m\u001b[38;5;241m=\u001b[39m \u001b[38;5;241m2\u001b[39m  \u001b[38;5;66;03m# because off diag effects are split in half\u001b[39;00m\n\u001b[0;32m    593\u001b[0m summary_legacy(\n\u001b[0;32m    594\u001b[0m     proj_shap_values, features[:, sort_inds] \u001b[38;5;28;01mif\u001b[39;00m features \u001b[38;5;129;01mis\u001b[39;00m \u001b[38;5;129;01mnot\u001b[39;00m \u001b[38;5;28;01mNone\u001b[39;00m \u001b[38;5;28;01melse\u001b[39;00m \u001b[38;5;28;01mNone\u001b[39;00m,\n\u001b[1;32m--> 595\u001b[0m     feature_names\u001b[38;5;241m=\u001b[39m\u001b[43mfeature_names\u001b[49m\u001b[43m[\u001b[49m\u001b[43msort_inds\u001b[49m\u001b[43m]\u001b[49m,\n\u001b[0;32m    596\u001b[0m     sort\u001b[38;5;241m=\u001b[39m\u001b[38;5;28;01mFalse\u001b[39;00m, show\u001b[38;5;241m=\u001b[39m\u001b[38;5;28;01mFalse\u001b[39;00m, color_bar\u001b[38;5;241m=\u001b[39m\u001b[38;5;28;01mFalse\u001b[39;00m,\n\u001b[0;32m    597\u001b[0m     plot_size\u001b[38;5;241m=\u001b[39m\u001b[38;5;28;01mNone\u001b[39;00m,\n\u001b[0;32m    598\u001b[0m     max_display\u001b[38;5;241m=\u001b[39mmax_display\n\u001b[0;32m    599\u001b[0m )\n\u001b[0;32m    600\u001b[0m pl\u001b[38;5;241m.\u001b[39mxlim((slow, shigh))\n\u001b[0;32m    601\u001b[0m pl\u001b[38;5;241m.\u001b[39mxlabel(\u001b[38;5;124m\"\u001b[39m\u001b[38;5;124m\"\u001b[39m)\n",
      "\u001b[1;31mTypeError\u001b[0m: only integer scalar arrays can be converted to a scalar index"
     ]
    },
    {
     "data": {
      "image/png": "[encoded data removed]",
      "text/plain": [
       "<Figure size 1150x660 with 1 Axes>"
      ]
     },
     "metadata": {},
     "output_type": "display_data"
    }
   ],
   "source": [
    "# Load your data (assuming output.csv is your dataset)\n",
    "data = pd.read_csv(\"output.csv\")\n",
    "data = data.drop_duplicates()\n",
    "\n",
    "# Prepare your features and target (adjust columns as needed)\n",
    "X = data.drop(columns=['gravity', 'AccID', 'vehicleID', 'num_veh'], errors='ignore')\n",
    "y = data['gravity']\n",
    "\n",
    "# Adjust target labels to start from 0 instead of 1\n",
    "y = y - y.min()\n",
    "\n",
    "# Split data\n",
    "X_train, X_test, y_train, y_test = train_test_split(X, y, test_size=0.2, random_state=42)\n",
    "\n",
    "# Train XGBoost model\n",
    "model = XGBClassifier(n_estimators=100, learning_rate=0.1, max_depth=6, random_state=42)\n",
    "model.fit(X_train, y_train)\n",
    "\n",
    "# Save the trained model\n",
    "with open(\"model.pkl\", \"wb\") as f:\n",
    "    pickle.dump(model, f)\n",
    "\n",
    "# Optionally, save your test data for later use\n",
    "X_test.to_csv(\"X_test.csv\", index=False)\n",
    "\n",
    "# Load the trained model and test data for interpretability\n",
    "if os.path.exists(\"model.pkl\") and os.path.exists(\"X_test.csv\"):\n",
    "    with open(\"model.pkl\", \"rb\") as f:\n",
    "        model = pickle.load(f)\n",
    "\n",
    "    X_test = pd.read_csv(\"X_test.csv\")\n",
    "    X_sample = X_test.sample(n=50, random_state=42)\n",
    "    X_sample_array = X_sample.to_numpy()\n",
    "    \n",
    "    # SHAP Explanation\n",
    "    explainer = shap.Explainer(model, X_sample_array)\n",
    "    shap_values = explainer(X_sample_array)\n",
    "\n",
    "    # SHAP Summary Plot\n",
    "    shap.summary_plot(shap_values, X_sample, feature_names=X_sample.columns.tolist(), show=False)\n",
    "    fig_summary = plt.gcf()\n",
    "\n",
    "    \n",
    "   # SHAP Dependence Plot for the first feature\n",
    "   # feature_name = X_sample.columns[0]\n",
    "   # shap.dependence_plot(feature_name, shap_values, X_sample_array, show=False)\n",
    "   # fig_dependence = plt.gcf()\n",
    "\n",
    "    # LIME Explanation\n",
    "    explainer_lime = lime.lime_tabular.LimeTabularExplainer(\n",
    "        training_data=X_test.values,\n",
    "        feature_names=X_test.columns.tolist(),\n",
    "        class_names=['Uninjured', 'Minor Injury', 'Hospitalized Injury', 'Fatal'],\n",
    "        mode='classification'\n",
    "    )\n",
    "    exp = explainer_lime.explain_instance(X_test.iloc[0], model.predict_proba)\n",
    "    fig_lime = exp.as_pyplot_figure()\n",
    "\n",
    "    # Display results\n",
    "    plt.show(fig_summary)\n",
    "   # plt.show(fig_dependence)\n",
    "    plt.show(fig_lime)\n",
    "else:\n",
    "    print(\"Model or test dataset not found.\")\n"
   ]
  },
  {
   "cell_type": "code",
   "execution_count": null,
   "id": "4b5b2a03-de31-4c5d-afea-5cf637757e5d",
   "metadata": {},
   "outputs": [],
   "source": []
  },
  {
   "cell_type": "code",
   "execution_count": null,
   "id": "7879c08a-e8a2-40ef-bc75-f7f25c19bc4f",
   "metadata": {},
   "outputs": [],
   "source": []
  }
 ],
 "metadata": {
  "kernelspec": {
   "display_name": "Python 3 (ipykernel)",
   "language": "python",
   "name": "python3"
  },
  "language_info": {
   "codemirror_mode": {
    "name": "ipython",
    "version": 3
   },
   "file_extension": ".py",
   "mimetype": "text/x-python",
   "name": "python",
   "nbconvert_exporter": "python",
   "pygments_lexer": "ipython3",
   "version": "3.11.7"
  }
 },
 "nbformat": 4,
 "nbformat_minor": 5
}
